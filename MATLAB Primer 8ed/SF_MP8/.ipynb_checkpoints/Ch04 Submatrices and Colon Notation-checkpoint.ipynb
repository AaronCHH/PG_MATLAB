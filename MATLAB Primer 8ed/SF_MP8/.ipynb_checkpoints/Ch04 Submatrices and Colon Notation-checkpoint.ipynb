{
 "cells": [
  {
   "cell_type": "markdown",
   "metadata": {},
   "source": [
    "# 4 Submatrices and Colon Notation"
   ]
  },
  {
   "cell_type": "markdown",
   "metadata": {},
   "source": [
    "## 4.1 Generating vectors  "
   ]
  },
  {
   "cell_type": "markdown",
   "metadata": {},
   "source": [
    "## 4.2 Accessing submatrices  "
   ]
  },
  {
   "cell_type": "code",
   "execution_count": 1,
   "metadata": {
    "collapsed": false
   },
   "outputs": [
    {
     "name": "stderr",
     "output_type": "stream",
     "text": [
      "C:\\Anaconda3\\lib\\site-packages\\IPython\\nbformat.py:13: ShimWarning: The `IPython.nbformat` package has been deprecated. You should import from nbformat instead.\n",
      "  \"You should import from nbformat instead.\", ShimWarning)\n"
     ]
    },
    {
     "name": "stdout",
     "output_type": "stream",
     "text": [
      "Starting MATLAB on ZMQ socket tcp://127.0.0.1:19168\n",
      "Send 'exit' command to kill the server\n",
      "......MATLAB started and connected!\n"
     ]
    }
   ],
   "source": [
    "%load_ext pymatbridge"
   ]
  },
  {
   "cell_type": "code",
   "execution_count": 2,
   "metadata": {
    "collapsed": false
   },
   "outputs": [
    {
     "data": {
      "text/plain": [
       "\r\n",
       "A =\r\n",
       "\r\n",
       "    0.8147    0.2785    0.9572    0.7922    0.6787    0.7060\r\n",
       "    0.9058    0.5469    0.4854    0.9595    0.7577    0.0318\r\n",
       "    0.1270    0.9575    0.8003    0.6557    0.7431    0.2769\r\n",
       "    0.9134    0.9649    0.1419    0.0357    0.3922    0.0462\r\n",
       "    0.6324    0.1576    0.4218    0.8491    0.6555    0.0971\r\n",
       "    0.0975    0.9706    0.9157    0.9340    0.1712    0.8235\r\n",
       "\r\n",
       "\r\n",
       "B =\r\n",
       "\r\n",
       "    0.6948    0.7655    0.7094    0.1190\r\n",
       "    0.3171    0.7952    0.7547    0.4984\r\n",
       "    0.9502    0.1869    0.2760    0.9597\r\n",
       "    0.0344    0.4898    0.6797    0.3404\r\n",
       "    0.4387    0.4456    0.6551    0.5853\r\n",
       "    0.3816    0.6463    0.1626    0.2238\r\n",
       "\r\n"
      ]
     },
     "metadata": {},
     "output_type": "display_data"
    }
   ],
   "source": [
    "%%matlab\n",
    "A = rand(6,6)\n",
    "B = rand(6,4)"
   ]
  },
  {
   "cell_type": "code",
   "execution_count": 3,
   "metadata": {
    "collapsed": false
   },
   "outputs": [
    {
     "data": {
      "text/plain": [
       "\r\n",
       "a =\r\n",
       "\r\n",
       "    0.6324\r\n",
       "\r\n",
       "\r\n",
       "b =\r\n",
       "\r\n",
       "    0.1270\r\n",
       "\r\n",
       "\r\n",
       "G =\r\n",
       "\r\n",
       "    0.9804    0.1969\r\n",
       "   -0.1969    0.9804\r\n",
       "\r\n",
       "\r\n",
       "A =\r\n",
       "\r\n",
       "    0.8147    0.2785    0.9572    0.7922    0.6787    0.7060\r\n",
       "    0.9058    0.5469    0.4854    0.9595    0.7577    0.0318\r\n",
       "   -0.0000    0.9077    0.7016    0.4757    0.5995    0.2524\r\n",
       "    0.9134    0.9649    0.1419    0.0357    0.3922    0.0462\r\n",
       "    0.6450    0.3430    0.5711    0.9616    0.7890    0.1498\r\n",
       "    0.0975    0.9706    0.9157    0.9340    0.1712    0.8235\r\n",
       "\r\n"
      ]
     },
     "metadata": {},
     "output_type": "display_data"
    }
   ],
   "source": [
    "%%matlab\n",
    "a = A(5,1)\n",
    "b = A(3,1)\n",
    "G = [a b ; -b a] / norm([a b])\n",
    "A([5 3], :) = G * A([5 3], :)"
   ]
  },
  {
   "cell_type": "code",
   "execution_count": 4,
   "metadata": {
    "collapsed": false
   },
   "outputs": [
    {
     "data": {
      "text/plain": [
       "\r\n",
       "x =\r\n",
       "\r\n",
       "    0.7513    0.2551    0.5060    0.6991    0.8909\r\n",
       "\r\n",
       "\r\n",
       "x =\r\n",
       "\r\n",
       "    0.8909    0.6991    0.5060    0.2551    0.7513\r\n",
       "\r\n"
      ]
     },
     "metadata": {},
     "output_type": "display_data"
    }
   ],
   "source": [
    "%%matlab\n",
    "x = rand(1,5)\n",
    "x = x(end:-1:1)"
   ]
  },
  {
   "cell_type": "code",
   "execution_count": null,
   "metadata": {
    "collapsed": true
   },
   "outputs": [],
   "source": []
  }
 ],
 "metadata": {
  "anaconda-cloud": {},
  "kernelspec": {
   "display_name": "Python [default]",
   "language": "python",
   "name": "python3"
  },
  "language_info": {
   "codemirror_mode": {
    "name": "ipython",
    "version": 3
   },
   "file_extension": ".py",
   "mimetype": "text/x-python",
   "name": "python",
   "nbconvert_exporter": "python",
   "pygments_lexer": "ipython3",
   "version": "3.5.2"
  }
 },
 "nbformat": 4,
 "nbformat_minor": 1
}
