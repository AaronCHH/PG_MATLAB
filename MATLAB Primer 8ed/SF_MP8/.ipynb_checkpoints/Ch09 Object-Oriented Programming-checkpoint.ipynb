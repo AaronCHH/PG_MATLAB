{
 "cells": [
  {
   "cell_type": "markdown",
   "metadata": {},
   "source": [
    "## 9 Object-Oriented Programming"
   ]
  },
  {
   "cell_type": "code",
   "execution_count": 1,
   "metadata": {
    "collapsed": false
   },
   "outputs": [
    {
     "name": "stderr",
     "output_type": "stream",
     "text": [
      "C:\\Anaconda3\\lib\\site-packages\\IPython\\nbformat.py:13: ShimWarning: The `IPython.nbformat` package has been deprecated. You should import from nbformat instead.\n",
      "  \"You should import from nbformat instead.\", ShimWarning)\n"
     ]
    },
    {
     "name": "stdout",
     "output_type": "stream",
     "text": [
      "Starting MATLAB on ZMQ socket tcp://127.0.0.1:3933\n",
      "Send 'exit' command to kill the server\n",
      ".....MATLAB started and connected!\n"
     ]
    }
   ],
   "source": [
    "%load_ext pymatbridge"
   ]
  },
  {
   "cell_type": "markdown",
   "metadata": {},
   "source": [
    "## 9.1 Object methods"
   ]
  },
  {
   "cell_type": "code",
   "execution_count": 2,
   "metadata": {
    "collapsed": false
   },
   "outputs": [
    {
     "data": {
      "text/plain": [
       "\r\n",
       "z = \r\n",
       "\r\n",
       "1x2 struct array with fields:\r\n",
       "\r\n",
       "    Particle\r\n",
       "\r\n"
      ]
     },
     "metadata": {},
     "output_type": "display_data"
    }
   ],
   "source": [
    "%%matlab\n",
    "z(1,2).Particle = 'neutron'"
   ]
  },
  {
   "cell_type": "code",
   "execution_count": null,
   "metadata": {
    "collapsed": true
   },
   "outputs": [],
   "source": [
    "# %load factor0.m\n",
    "classdef factor0\n",
    "    % FACTOR0  my first object\n",
    "    properties\n",
    "        L, U ;\n",
    "    end\n",
    "end\n"
   ]
  },
  {
   "cell_type": "code",
   "execution_count": 3,
   "metadata": {
    "collapsed": false,
    "scrolled": true
   },
   "outputs": [
    {
     "data": {
      "text/plain": [
       "\r\n",
       "A =\r\n",
       "\r\n",
       "    0.8147    0.6324    0.9575    0.9572\r\n",
       "    0.9058    0.0975    0.9649    0.4854\r\n",
       "    0.1270    0.2785    0.1576    0.8003\r\n",
       "    0.9134    0.5469    0.9706    0.1419\r\n",
       "\r\n",
       "\r\n",
       "F = \r\n",
       "\r\n",
       "  factor0 with properties:\r\n",
       "\r\n",
       "    L: []\r\n",
       "    U: []\r\n",
       "\r\n",
       "\r\n",
       "F = \r\n",
       "\r\n",
       "  factor0 with properties:\r\n",
       "\r\n",
       "    L: [4x4 double]\r\n",
       "    U: [4x4 double]\r\n",
       "\r\n",
       "\r\n",
       "F = \r\n",
       "\r\n",
       "  factor0 with properties:\r\n",
       "\r\n",
       "    L: [4x4 double]\r\n",
       "    U: [4x4 double]\r\n",
       "\r\n",
       "  Name                 Size            Bytes  Class      Attributes\r\n",
       "\r\n",
       "  A                    4x4               128  double               \r\n",
       "  F                    1x1               360  factor0              \r\n",
       "  toolbox_version      1x5                10  char                 \r\n",
       "  z                    1x2               198  struct               \r\n",
       "\r\n"
      ]
     },
     "metadata": {},
     "output_type": "display_data"
    }
   ],
   "source": [
    "%%matlab\n",
    "A = rand(4)\n",
    "F = factor0\n",
    "[F.L F.U] = lu(A)\n",
    "whos"
   ]
  },
  {
   "cell_type": "code",
   "execution_count": null,
   "metadata": {
    "collapsed": true
   },
   "outputs": [],
   "source": [
    "# %load factor1.m\n",
    "classdef factor1\n",
    "    %FACTOR1 my first useful object\n",
    "    properties\n",
    "        L, U, morestuff ;\n",
    "    end\n",
    "    methods\n",
    "        function F = factor1 (A)\n",
    "            [F.L F.U] = lu (A) ;\n",
    "        end\n",
    "        function x = mldivide (F,b)\n",
    "            x = F.U \\ (F.L \\ b) ;\n",
    "        end\n",
    "    end\n",
    "end\n"
   ]
  },
  {
   "cell_type": "code",
   "execution_count": 6,
   "metadata": {
    "collapsed": false
   },
   "outputs": [
    {
     "data": {
      "text/plain": [
       "\r\n",
       "A =\r\n",
       "\r\n",
       "    0.4218    0.6557    0.6787    0.6555\r\n",
       "    0.9157    0.0357    0.7577    0.1712\r\n",
       "    0.7922    0.8491    0.7431    0.7060\r\n",
       "    0.9595    0.9340    0.3922    0.0318\r\n",
       "\r\n",
       "\r\n",
       "b =\r\n",
       "\r\n",
       "    0.2769\r\n",
       "    0.0462\r\n",
       "    0.0971\r\n",
       "    0.8235\r\n",
       "\r\n",
       "\r\n",
       "F = \r\n",
       "\r\n",
       "  factor1 with properties:\r\n",
       "\r\n",
       "            L: [4x4 double]\r\n",
       "            U: [4x4 double]\r\n",
       "    morestuff: []\r\n",
       "\r\n",
       "\r\n",
       "ans =\r\n",
       "\r\n",
       "   -1.2594\r\n",
       "    1.4004\r\n",
       "    2.0297\r\n",
       "   -2.2699\r\n",
       "\r\n",
       "\r\n",
       "ans =\r\n",
       "\r\n",
       "   -1.2594\r\n",
       "    1.4004\r\n",
       "    2.0297\r\n",
       "   -2.2699\r\n",
       "\r\n"
      ]
     },
     "metadata": {},
     "output_type": "display_data"
    }
   ],
   "source": [
    "%%matlab\n",
    "A = rand(4)\n",
    "b = rand(4,1)\n",
    "F = factor1(A)\n",
    "F\\b\n",
    "A\\b"
   ]
  },
  {
   "cell_type": "code",
   "execution_count": null,
   "metadata": {
    "collapsed": true
   },
   "outputs": [],
   "source": []
  },
  {
   "cell_type": "markdown",
   "metadata": {},
   "source": [
    "## 9.2 Object inheritance and abstract classes"
   ]
  },
  {
   "cell_type": "code",
   "execution_count": null,
   "metadata": {
    "collapsed": true
   },
   "outputs": [],
   "source": [
    "# %load factor2_chol.m\n",
    "classdef factor2_chol < factor2_generic\n",
    "    %FACTOR2_CHOL for Cholesky \n",
    "    methods\n",
    "        function F = factor2_chol (A)\n",
    "            F.U = chol (A) ;\n",
    "        end\n",
    "        function x = mldivide (F,b)\n",
    "            x = F.U \\ (F.U' \\ b) ;\n",
    "        end\n",
    "    end\n",
    "end\n"
   ]
  },
  {
   "cell_type": "code",
   "execution_count": null,
   "metadata": {
    "collapsed": false
   },
   "outputs": [],
   "source": [
    "# %load factor2_lu.m\n",
    "classdef factor2_lu < factor2_generic\n",
    "    %FACTOR2_LU for LU factorization\n",
    "    methods\n",
    "        function F = factor2_lu (A)\n",
    "            [F.L F.U] = lu (A) ;\n",
    "        end\n",
    "        function x = mldivide (F,b)\n",
    "            x = F.U \\ (F.L \\ b) ;\n",
    "        end\n",
    "    end\n",
    "end\n"
   ]
  },
  {
   "cell_type": "code",
   "execution_count": null,
   "metadata": {
    "collapsed": false
   },
   "outputs": [],
   "source": [
    "%%matlab\n",
    "A = rand(4);\n",
    "C = A'*A;         % symmetric pos. definite\n",
    "b = rand(4,1) ;\n",
    "F = factor2_lu(A) ;\n",
    "F\\b\n",
    "A\\b\n",
    "G = factor2_chol(C) ;\n",
    "G\\b\n",
    "C\\b"
   ]
  },
  {
   "cell_type": "markdown",
   "metadata": {},
   "source": [
    "## 9.3 Object attributes"
   ]
  },
  {
   "cell_type": "markdown",
   "metadata": {},
   "source": [
    "```\n",
    "properties (SetAccess = protected)\n",
    "```"
   ]
  },
  {
   "cell_type": "markdown",
   "metadata": {},
   "source": [
    "```\n",
    "properties (SetAccess = protected, ... \n",
    "  GetAccess = public) \n",
    "```"
   ]
  },
  {
   "cell_type": "markdown",
   "metadata": {},
   "source": [
    "## 9.4 A more extensive example"
   ]
  },
  {
   "cell_type": "code",
   "execution_count": null,
   "metadata": {
    "collapsed": true
   },
   "outputs": [],
   "source": []
  },
  {
   "cell_type": "markdown",
   "metadata": {},
   "source": [
    "## 9.5 Object handle classes"
   ]
  },
  {
   "cell_type": "code",
   "execution_count": null,
   "metadata": {
    "collapsed": true
   },
   "outputs": [],
   "source": []
  }
 ],
 "metadata": {
  "kernelspec": {
   "display_name": "Python [default]",
   "language": "python",
   "name": "python3"
  },
  "language_info": {
   "codemirror_mode": {
    "name": "ipython",
    "version": 3
   },
   "file_extension": ".py",
   "mimetype": "text/x-python",
   "name": "python",
   "nbconvert_exporter": "python",
   "pygments_lexer": "ipython3",
   "version": "3.5.2"
  }
 },
 "nbformat": 4,
 "nbformat_minor": 1
}
