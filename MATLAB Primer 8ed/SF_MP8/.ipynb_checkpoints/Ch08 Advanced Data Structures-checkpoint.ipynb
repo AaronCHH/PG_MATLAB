{
 "cells": [
  {
   "cell_type": "markdown",
   "metadata": {},
   "source": [
    "# 8 Advanced Data Structures  "
   ]
  },
  {
   "cell_type": "code",
   "execution_count": 1,
   "metadata": {
    "collapsed": false,
    "scrolled": true
   },
   "outputs": [
    {
     "name": "stderr",
     "output_type": "stream",
     "text": [
      "C:\\Anaconda3\\lib\\site-packages\\IPython\\nbformat.py:13: ShimWarning: The `IPython.nbformat` package has been deprecated. You should import from nbformat instead.\n",
      "  \"You should import from nbformat instead.\", ShimWarning)\n"
     ]
    },
    {
     "name": "stdout",
     "output_type": "stream",
     "text": [
      "Starting MATLAB on ZMQ socket tcp://127.0.0.1:3839\n",
      "Send 'exit' command to kill the server\n",
      "......MATLAB started and connected!\n"
     ]
    }
   ],
   "source": [
    "%load_ext pymatbridge"
   ]
  },
  {
   "cell_type": "markdown",
   "metadata": {},
   "source": [
    "## 8.1 Cell arrays  "
   ]
  },
  {
   "cell_type": "code",
   "execution_count": 2,
   "metadata": {
    "collapsed": false
   },
   "outputs": [
    {
     "data": {
      "text/plain": [
       "\r\n",
       "c = \r\n",
       "\r\n",
       "    [1x3 double]    'I love MATLAB'\r\n",
       "\r\n"
      ]
     },
     "metadata": {},
     "output_type": "display_data"
    }
   ],
   "source": [
    "%%matlab\n",
    "c = {[3 2 1], 'I love MATLAB'}"
   ]
  },
  {
   "cell_type": "code",
   "execution_count": 3,
   "metadata": {
    "collapsed": false
   },
   "outputs": [
    {
     "data": {
      "text/plain": [
       "\r\n",
       "d = \r\n",
       "\r\n",
       "    'Why do'    'I love MATLAB?'    {1x2 cell}\r\n",
       "\r\n"
      ]
     },
     "metadata": {},
     "output_type": "display_data"
    }
   ],
   "source": [
    "%%matlab\n",
    "d = {'Why do' ,'I love MATLAB?', c}"
   ]
  },
  {
   "cell_type": "markdown",
   "metadata": {},
   "source": [
    "## 8.2 Structs  "
   ]
  },
  {
   "cell_type": "code",
   "execution_count": 6,
   "metadata": {
    "collapsed": false
   },
   "outputs": [
    {
     "data": {
      "text/plain": [
       "\r\n",
       "z = \r\n",
       "\r\n",
       "    particle: 'electron'\r\n",
       "\r\n",
       "\r\n",
       "z = \r\n",
       "\r\n",
       "    particle: 'electron'\r\n",
       "    position: [2 0 3]\r\n",
       "\r\n",
       "\r\n",
       "z = \r\n",
       "\r\n",
       "    particle: 'electron'\r\n",
       "    position: [2 0 3]\r\n",
       "        spin: 'up'\r\n",
       "\r\n"
      ]
     },
     "metadata": {},
     "output_type": "display_data"
    }
   ],
   "source": [
    "%%matlab\n",
    "clear z\n",
    "z.particle = 'electron'\n",
    "z.position = [2 0 3]\n",
    "z.spin = 'up'"
   ]
  },
  {
   "cell_type": "code",
   "execution_count": 8,
   "metadata": {
    "collapsed": false
   },
   "outputs": [
    {
     "data": {
      "text/plain": [
       "\r\n",
       "z = \r\n",
       "\r\n",
       "2x3 struct array with fields:\r\n",
       "\r\n",
       "    particle\r\n",
       "    position\r\n",
       "    spin\r\n",
       "\r\n",
       "\r\n",
       "z = \r\n",
       "\r\n",
       "2x3 struct array with fields:\r\n",
       "\r\n",
       "    particle\r\n",
       "    position\r\n",
       "    spin\r\n",
       "\r\n"
      ]
     },
     "metadata": {},
     "output_type": "display_data"
    }
   ],
   "source": [
    "%%matlab\n",
    "z(2,3).particle = 'proton'\n",
    "z(2,3).position = 'unknown'"
   ]
  },
  {
   "cell_type": "code",
   "execution_count": 9,
   "metadata": {
    "collapsed": true
   },
   "outputs": [],
   "source": [
    "%%matlab\n",
    "z = struct ( ...\n",
    "  'particle', {'electron',[],[] ;\n",
    "  [],[],'proton' }, ...\n",
    "  'position', {[2 0 3], [],[] ;\n",
    "  [],[],'unknown'}, ...\n",
    "  'spin', {'up', [],[] ;\n",
    "  [],[],[]}) ;"
   ]
  },
  {
   "cell_type": "markdown",
   "metadata": {},
   "source": [
    "## 8.3 Sets  "
   ]
  },
  {
   "cell_type": "markdown",
   "metadata": {},
   "source": [
    "```\n",
    "ismember     test membership, x ∈ A\n",
    "intersect    set intersection, A ∩ B\n",
    "union        set union, A ∪ B\n",
    "setdiff      set difference, A \\ B\n",
    "unique       removes duplicates from a set\n",
    "setxor       (A ∪ B) \\ (A ∩ B)\n",
    "issorted     checks if a set is sorted\n",
    "```"
   ]
  },
  {
   "cell_type": "code",
   "execution_count": 10,
   "metadata": {
    "collapsed": false
   },
   "outputs": [
    {
     "data": {
      "text/plain": [
       "\r\n",
       "A =\r\n",
       "\r\n",
       "     1     2     5     6     8     8     9\r\n",
       "\r\n",
       "\r\n",
       "B =\r\n",
       "\r\n",
       "     1     2     3     5     7\r\n",
       "\r\n",
       "\r\n",
       "ans =\r\n",
       "\r\n",
       "     0\r\n",
       "\r\n",
       "\r\n",
       "ans =\r\n",
       "\r\n",
       "     1\r\n",
       "\r\n",
       "\r\n",
       "ans =\r\n",
       "\r\n",
       "     1     2     5\r\n",
       "\r\n",
       "\r\n",
       "ans =\r\n",
       "\r\n",
       "     6     8     9\r\n",
       "\r\n",
       "\r\n",
       "ans =\r\n",
       "\r\n",
       "     1     2     3     5     6     7     8     9\r\n",
       "\r\n",
       "\r\n",
       "ans =\r\n",
       "\r\n",
       "     3     6     7     8     9\r\n",
       "\r\n",
       "\r\n",
       "ans =\r\n",
       "\r\n",
       "     1     2     5     6     8     9\r\n",
       "\r\n"
      ]
     },
     "metadata": {},
     "output_type": "display_data"
    }
   ],
   "source": [
    "%%matlab\n",
    "A = [1 2 5 6 8 8 9]\n",
    "B = [1 2 3 5 7]\n",
    "ismember(3,A)   % 0\n",
    "ismember(3,B)   % 1\n",
    "intersect(A,B)  % [1 2 5]\n",
    "setdiff(A,B)    % [6 8 9]\n",
    "union(A,B)      % [1 2 3 5 6 7 8 9]\n",
    "setxor(A,B)     % [3 6 7 8 9]\n",
    "unique(A)       % [1 2 5 6 8 9]"
   ]
  },
  {
   "cell_type": "markdown",
   "metadata": {},
   "source": [
    "## 8.4 Other data types  "
   ]
  },
  {
   "cell_type": "code",
   "execution_count": 12,
   "metadata": {
    "collapsed": false
   },
   "outputs": [
    {
     "data": {
      "text/plain": [
       "\r\n",
       "A =\r\n",
       "\r\n",
       "     1     1     1     1\r\n",
       "     1     1     1     1\r\n",
       "     1     1     1     1\r\n",
       "\r\n",
       "\r\n",
       "B =\r\n",
       "\r\n",
       "    0.8147    0.9134    0.2785    0.9649\r\n",
       "    0.9058    0.6324    0.5469    0.1576\r\n",
       "    0.1270    0.0975    0.9575    0.9706\r\n",
       "\r\n",
       "\r\n",
       "C(:,:,1) =\r\n",
       "\r\n",
       "     1     1     1     1\r\n",
       "     1     1     1     1\r\n",
       "     1     1     1     1\r\n",
       "\r\n",
       "\r\n",
       "C(:,:,2) =\r\n",
       "\r\n",
       "    0.8147    0.9134    0.2785    0.9649\r\n",
       "    0.9058    0.6324    0.5469    0.1576\r\n",
       "    0.1270    0.0975    0.9575    0.9706\r\n",
       "\r\n"
      ]
     },
     "metadata": {},
     "output_type": "display_data"
    }
   ],
   "source": [
    "%%matlab\n",
    "A = ones(3,4)\n",
    "B = rand(3,4)\n",
    "C = cat(3, A, B)"
   ]
  },
  {
   "cell_type": "code",
   "execution_count": null,
   "metadata": {
    "collapsed": true
   },
   "outputs": [],
   "source": []
  }
 ],
 "metadata": {
  "kernelspec": {
   "display_name": "Python [default]",
   "language": "python",
   "name": "python3"
  },
  "language_info": {
   "codemirror_mode": {
    "name": "ipython",
    "version": 3
   },
   "file_extension": ".py",
   "mimetype": "text/x-python",
   "name": "python",
   "nbconvert_exporter": "python",
   "pygments_lexer": "ipython3",
   "version": "3.5.2"
  }
 },
 "nbformat": 4,
 "nbformat_minor": 1
}
