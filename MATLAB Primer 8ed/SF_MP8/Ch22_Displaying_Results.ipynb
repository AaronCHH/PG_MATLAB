{
 "cells": [
  {
   "cell_type": "markdown",
   "metadata": {},
   "source": [
    "# 22 Displaying Results"
   ]
  },
  {
   "cell_type": "code",
   "execution_count": 1,
   "metadata": {
    "collapsed": false
   },
   "outputs": [
    {
     "name": "stderr",
     "output_type": "stream",
     "text": [
      "C:\\Anaconda3\\lib\\site-packages\\IPython\\nbformat.py:13: ShimWarning: The `IPython.nbformat` package has been deprecated. You should import from nbformat instead.\n",
      "  \"You should import from nbformat instead.\", ShimWarning)\n"
     ]
    },
    {
     "name": "stdout",
     "output_type": "stream",
     "text": [
      "Starting MATLAB on ZMQ socket tcp://127.0.0.1:8735\n",
      "Send 'exit' command to kill the server\n",
      ".....MATLAB started and connected!\n"
     ]
    }
   ],
   "source": [
    "%load_ext pymatbridge"
   ]
  },
  {
   "cell_type": "code",
   "execution_count": 3,
   "metadata": {
    "collapsed": false
   },
   "outputs": [
    {
     "data": {
      "text/plain": [
       "         0         0    1.0000         0       Inf\r\n",
       "    0.1000    0.0998    0.9950    0.1003    9.9666\r\n",
       "    0.2000    0.1987    0.9801    0.2027    4.9332\r\n",
       "    0.3000    0.2955    0.9553    0.3093    3.2327\r\n",
       "    0.4000    0.3894    0.9211    0.4228    2.3652\r\n",
       "    0.5000    0.4794    0.8776    0.5463    1.8305\r\n",
       "    0.6000    0.5646    0.8253    0.6841    1.4617\r\n",
       "    0.7000    0.6442    0.7648    0.8423    1.1872\r\n",
       "    0.8000    0.7174    0.6967    1.0296    0.9712\r\n",
       "    0.9000    0.7833    0.6216    1.2602    0.7936\r\n",
       "    1.0000    0.8415    0.5403    1.5574    0.6421\r\n",
       "    1.1000    0.8912    0.4536    1.9648    0.5090\r\n",
       "    1.2000    0.9320    0.3624    2.5722    0.3888\r\n",
       "    1.3000    0.9636    0.2675    3.6021    0.2776\r\n",
       "    1.4000    0.9854    0.1700    5.7979    0.1725\r\n",
       "    1.5000    0.9975    0.0707   14.1014    0.0709\r\n",
       "    1.6000    0.9996   -0.0292  -34.2325   -0.0292\r\n",
       "    1.7000    0.9917   -0.1288   -7.6966   -0.1299\r\n",
       "    1.8000    0.9738   -0.2272   -4.2863   -0.2333\r\n",
       "    1.9000    0.9463   -0.3233   -2.9271   -0.3416\r\n",
       "    2.0000    0.9093   -0.4161   -2.1850   -0.4577\r\n",
       "    2.1000    0.8632   -0.5048   -1.7098   -0.5848\r\n",
       "    2.2000    0.8085   -0.5885   -1.3738   -0.7279\r\n",
       "    2.3000    0.7457   -0.6663   -1.1192   -0.8935\r\n",
       "    2.4000    0.6755   -0.7374   -0.9160   -1.0917\r\n",
       "    2.5000    0.5985   -0.8011   -0.7470   -1.3386\r\n",
       "    2.6000    0.5155   -0.8569   -0.6016   -1.6622\r\n",
       "    2.7000    0.4274   -0.9041   -0.4727   -2.1154\r\n",
       "    2.8000    0.3350   -0.9422   -0.3555   -2.8127\r\n",
       "    2.9000    0.2392   -0.9710   -0.2464   -4.0584\r\n",
       "    3.0000    0.1411   -0.9900   -0.1425   -7.0153\r\n",
       "    3.1000    0.0416   -0.9991   -0.0416  -24.0288\r\n",
       "\r\n"
      ]
     },
     "metadata": {},
     "output_type": "display_data"
    }
   ],
   "source": [
    "%%matlab\n",
    "format short\n",
    "x = [0:.1:pi]';\n",
    "f = {@sin, @cos, @tan, @cot} ;\n",
    "y = x ;\n",
    "for i = 1:length(f)\n",
    "  y = [y f{i}(x)];\n",
    "end\n",
    "\n",
    "disp(y)"
   ]
  },
  {
   "cell_type": "code",
   "execution_count": null,
   "metadata": {
    "collapsed": false
   },
   "outputs": [],
   "source": [
    "%%matlab\n",
    "y = [x sin(x) cos(x) tan(x) cot(x)]"
   ]
  },
  {
   "cell_type": "markdown",
   "metadata": {},
   "source": [
    "This problem is where fprintf is useful. If you know C, it acts just like the standard C fprintf, except that the reference to the file is optional in the MATLAB fprintf, and the MATLAB fprintf can print arrays. The basic syntax (like printf in C) is: \n",
    "```\n",
    "fprintf( format_string, arg1, arg2, ...)\n",
    "```"
   ]
  },
  {
   "cell_type": "markdown",
   "metadata": {},
   "source": [
    "* The most common conversion types are:"
   ]
  },
  {
   "cell_type": "markdown",
   "metadata": {},
   "source": [
    "```\n",
    "d decimal (integer)\n",
    "e exponential notation (as in 2.3e+002)\n",
    "f fixed-point notation\n",
    "g e or f, whichever is more compact\n",
    "s string\n",
    "```"
   ]
  },
  {
   "cell_type": "code",
   "execution_count": null,
   "metadata": {
    "collapsed": true
   },
   "outputs": [],
   "source": [
    "fprintf('pi is %12.8f\\n', pi)"
   ]
  },
  {
   "cell_type": "code",
   "execution_count": 8,
   "metadata": {
    "collapsed": false
   },
   "outputs": [
    {
     "data": {
      "text/plain": [
       "\r\n",
       "A =\r\n",
       "\r\n",
       "     8     1     6\r\n",
       "     3     5     7\r\n",
       "     4     9     2\r\n",
       "\r\n",
       "8.00 1.00 6.00\r\n",
       "3.00 5.00 7.00\r\n",
       "4.00 9.00 2.00\r\n",
       "A\\b is [0.05 0.3 0.05]'\r\n"
      ]
     },
     "metadata": {},
     "output_type": "display_data"
    }
   ],
   "source": [
    "%%matlab\n",
    "A = magic(3)\n",
    "fprintf('%4.2f %4.2f %4.2f\\n', A')\n",
    "b = (1:3)' ;\n",
    "fprintf('A\\\\b is [%g %g %g]''\\n', A\\b);"
   ]
  },
  {
   "cell_type": "code",
   "execution_count": 9,
   "metadata": {
    "collapsed": false
   },
   "outputs": [
    {
     "data": {
      "text/plain": [
       "x is 1\r\n",
       "x is 2\r\n",
       "x is 3\r\n",
       "x is 4\r\n",
       "x is 5\r\n",
       "x is 1\r\n",
       "x is 2\r\n",
       "x is 3\r\n",
       "x is 4\r\n",
       "x is 5\r\n",
       "row 1 is 8.00 1.00 6.00\r\n",
       "row 2 is 3.00 5.00 7.00\r\n",
       "row 3 is 4.00 9.00 2.00\r\n"
      ]
     },
     "metadata": {},
     "output_type": "display_data"
    }
   ],
   "source": [
    "%%matlab\n",
    "fprintf('x is %d\\n', 1:5)\n",
    "fprintf('x is %d\\n', (1:5)')\n",
    "fprintf('row %d is %4.2f %4.2f %4.2f\\n', [(1:3)' A]')        "
   ]
  },
  {
   "cell_type": "code",
   "execution_count": 10,
   "metadata": {
    "collapsed": false,
    "scrolled": true
   },
   "outputs": [
    {
     "data": {
      "text/plain": [
       "x sin(x) cos(x) tan(x) cot(x)\r\n",
       "0.00    0.0000    1.0000    0.0000       Inf\r\n",
       "0.10    0.0998    0.9950    0.1003    9.9666\r\n",
       "0.20    0.1987    0.9801    0.2027    4.9332\r\n",
       "0.30    0.2955    0.9553    0.3093    3.2327\r\n",
       "0.40    0.3894    0.9211    0.4228    2.3652\r\n",
       "0.50    0.4794    0.8776    0.5463    1.8305\r\n",
       "0.60    0.5646    0.8253    0.6841    1.4617\r\n",
       "0.70    0.6442    0.7648    0.8423    1.1872\r\n",
       "0.80    0.7174    0.6967    1.0296    0.9712\r\n",
       "0.90    0.7833    0.6216    1.2602    0.7936\r\n",
       "1.00    0.8415    0.5403    1.5574    0.6421\r\n",
       "1.10    0.8912    0.4536    1.9648    0.5090\r\n",
       "1.20    0.9320    0.3624    2.5722    0.3888\r\n",
       "1.30    0.9636    0.2675    3.6021    0.2776\r\n",
       "1.40    0.9854    0.1700    5.7979    0.1725\r\n",
       "1.50    0.9975    0.0707   14.1014    0.0709\r\n",
       "1.60    0.9996   -0.0292  -34.2325   -0.0292\r\n",
       "1.70    0.9917   -0.1288   -7.6966   -0.1299\r\n",
       "1.80    0.9738   -0.2272   -4.2863   -0.2333\r\n",
       "1.90    0.9463   -0.3233   -2.9271   -0.3416\r\n",
       "2.00    0.9093   -0.4161   -2.1850   -0.4577\r\n",
       "2.10    0.8632   -0.5048   -1.7098   -0.5848\r\n",
       "2.20    0.8085   -0.5885   -1.3738   -0.7279\r\n",
       "2.30    0.7457   -0.6663   -1.1192   -0.8935\r\n",
       "2.40    0.6755   -0.7374   -0.9160   -1.0917\r\n",
       "2.50    0.5985   -0.8011   -0.7470   -1.3386\r\n",
       "2.60    0.5155   -0.8569   -0.6016   -1.6622\r\n",
       "2.70    0.4274   -0.9041   -0.4727   -2.1154\r\n",
       "2.80    0.3350   -0.9422   -0.3555   -2.8127\r\n",
       "2.90    0.2392   -0.9710   -0.2464   -4.0584\r\n",
       "3.00    0.1411   -0.9900   -0.1425   -7.0153\r\n",
       "3.10    0.0416   -0.9991   -0.0416  -24.0288\r\n"
      ]
     },
     "metadata": {},
     "output_type": "display_data"
    }
   ],
   "source": [
    "%%matlab\n",
    "x = [0:.1:pi]' ;\n",
    "f = {@sin, @cos, @tan, @cot} ;\n",
    "y = x ;\n",
    "fprintf('x') ;\n",
    "\n",
    "for i = 1:length(f)\n",
    "    fprintf(' %s(x)',func2str(f{i}));\n",
    "    y = [y f{i}(x)] ;\n",
    "end\n",
    "\n",
    "fprintf('\\n') ;\n",
    "fprintf('%3.2f %9.4f %9.4f %9.4f %9.4f\\n',y');"
   ]
  },
  {
   "cell_type": "code",
   "execution_count": null,
   "metadata": {
    "collapsed": true
   },
   "outputs": [],
   "source": [
    "fid = fopen('mytable.txt', 'w') ;\n",
    "fclose(fid) ;\n",
    "title(sprintf('The result is %g', pi))"
   ]
  },
  {
   "cell_type": "code",
   "execution_count": 11,
   "metadata": {
    "collapsed": false
   },
   "outputs": [
    {
     "data": {
      "text/plain": [
       " 1 digits: 3\r\n",
       " 2 digits: 3.1\r\n",
       " 3 digits: 3.14\r\n",
       " 4 digits: 3.142\r\n",
       " 5 digits: 3.1416\r\n",
       " 6 digits: 3.14159\r\n",
       " 7 digits: 3.141593\r\n",
       " 8 digits: 3.1415927\r\n",
       " 9 digits: 3.14159265\r\n",
       "10 digits: 3.141592654\r\n",
       "11 digits: 3.1415926536\r\n",
       "12 digits: 3.14159265359\r\n",
       "13 digits: 3.14159265359\r\n",
       "14 digits: 3.1415926535898\r\n",
       "15 digits: 3.14159265358979\r\n",
       "16 digits: 3.141592653589793\r\n"
      ]
     },
     "metadata": {},
     "output_type": "display_data"
    }
   ],
   "source": [
    "%%matlab\n",
    "for n = 1:16\n",
    "    s = num2str(n) ;\n",
    "    s = ['%2d digits: %.' s 'g\\n'] ;\n",
    "    fprintf(s, n, pi) ;\n",
    "end"
   ]
  },
  {
   "cell_type": "code",
   "execution_count": null,
   "metadata": {
    "collapsed": true
   },
   "outputs": [],
   "source": []
  }
 ],
 "metadata": {
  "kernelspec": {
   "display_name": "Python [default]",
   "language": "python",
   "name": "python3"
  },
  "language_info": {
   "codemirror_mode": {
    "name": "ipython",
    "version": 3
   },
   "file_extension": ".py",
   "mimetype": "text/x-python",
   "name": "python",
   "nbconvert_exporter": "python",
   "pygments_lexer": "ipython3",
   "version": "3.5.2"
  }
 },
 "nbformat": 4,
 "nbformat_minor": 1
}
