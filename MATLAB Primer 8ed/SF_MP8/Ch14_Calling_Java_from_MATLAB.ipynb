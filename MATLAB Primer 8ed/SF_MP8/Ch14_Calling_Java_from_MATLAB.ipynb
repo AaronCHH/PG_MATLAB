{
 "cells": [
  {
   "cell_type": "markdown",
   "metadata": {},
   "source": [
    "# 14 Calling Java from MATLAB"
   ]
  },
  {
   "cell_type": "code",
   "execution_count": 1,
   "metadata": {
    "collapsed": false
   },
   "outputs": [
    {
     "name": "stderr",
     "output_type": "stream",
     "text": [
      "C:\\Anaconda3\\lib\\site-packages\\IPython\\nbformat.py:13: ShimWarning: The `IPython.nbformat` package has been deprecated. You should import from nbformat instead.\n",
      "  \"You should import from nbformat instead.\", ShimWarning)\n"
     ]
    },
    {
     "name": "stdout",
     "output_type": "stream",
     "text": [
      "Starting MATLAB on ZMQ socket tcp://127.0.0.1:4753\n",
      "Send 'exit' command to kill the server\n",
      ".....MATLAB started and connected!\n"
     ]
    }
   ],
   "source": [
    "%load_ext pymatbridge"
   ]
  },
  {
   "cell_type": "markdown",
   "metadata": {},
   "source": [
    "## 14.1 A simple example"
   ]
  },
  {
   "cell_type": "markdown",
   "metadata": {},
   "source": [
    "```\n",
    "t = 'hello world'\n",
    "s = java.lang.String(t)\n",
    "s.indexOf('w') + 1\n",
    "find(s == 'w')\n",
    "whos\n",
    "```"
   ]
  },
  {
   "cell_type": "markdown",
   "metadata": {},
   "source": [
    "## 14.2 Encryption/decryption"
   ]
  },
  {
   "cell_type": "markdown",
   "metadata": {},
   "source": [
    "```\n",
    "function key = getkey(password)\n",
    "%GETKEY: key = getkey(password)\n",
    "% Converts a string into a key for use\n",
    "% in the encrypt and decrypt functions.\n",
    "% Uses triple DES.\n",
    "import javax.crypto.spec. *\n",
    "b = int8(password) ;\n",
    "n = length(b) ;\n",
    "b((n+1):24) = 0 ;\n",
    "b = b(1:24) ;\n",
    "key = SecretKeySpec(b, 'DESede') ;\n",
    "```"
   ]
  },
  {
   "cell_type": "markdown",
   "metadata": {},
   "source": [
    "```\n",
    "function e = encrypt(t, key)\n",
    "%ENCRYPT: e = encrypt(t, key)\n",
    "% Encrypt the plaintext string t into\n",
    "% the encrypted byte array e using a key\n",
    "% from getkey.\n",
    "import javax.crypto. *\n",
    "cipher = Cipher.getInstance('DESede') ;\n",
    "cipher.init(Cipher.ENCRYPT_MODE, key) ;\n",
    "e = cipher.doFinal(int8(t))' ;\n",
    "```"
   ]
  },
  {
   "cell_type": "markdown",
   "metadata": {},
   "source": [
    "```\n",
    "function t = decrypt(e, key)\n",
    "%DECRYPT: t = decrypt(e, key)\n",
    "% Decrypt the encrypted byte array e\n",
    "% into to plaintext string t using a key\n",
    "% from getkey.\n",
    "import javax.crypto. *\n",
    "cipher = Cipher.getInstance('DESede') ;\n",
    "cipher.init(Cipher.DECRYPT_MODE, key) ;\n",
    "t = char(cipher.doFinal(e))' ;\n",
    "```"
   ]
  },
  {
   "cell_type": "markdown",
   "metadata": {},
   "source": [
    "```\n",
    "k = getkey('this is a secret password')\n",
    "e = encrypt('a hidden message',k)\n",
    "decrypt(e,k)\n",
    "```"
   ]
  },
  {
   "cell_type": "markdown",
   "metadata": {},
   "source": [
    "## 14.3 Java class path"
   ]
  },
  {
   "cell_type": "markdown",
   "metadata": {},
   "source": [
    "```\n",
    "javaaddpath folder\n",
    "```"
   ]
  },
  {
   "cell_type": "markdown",
   "metadata": {},
   "source": [
    "## 14.4 Calling your own Java methods"
   ]
  },
  {
   "cell_type": "code",
   "execution_count": null,
   "metadata": {
    "collapsed": false
   },
   "outputs": [],
   "source": [
    "%%matlab\n",
    "s = urlread('http://www.mathworks.com')"
   ]
  },
  {
   "cell_type": "code",
   "execution_count": 4,
   "metadata": {
    "collapsed": false
   },
   "outputs": [],
   "source": [
    "%%matlab\n",
    "!javac myreader.java"
   ]
  },
  {
   "cell_type": "code",
   "execution_count": null,
   "metadata": {
    "collapsed": false
   },
   "outputs": [],
   "source": [
    "%%matlab   \n",
    "javac myreader.java\n",
    "java myreader http://www.google.com my.txt"
   ]
  },
  {
   "cell_type": "code",
   "execution_count": null,
   "metadata": {
    "collapsed": false
   },
   "outputs": [],
   "source": [
    "%%matlab\n",
    "myreader.geturl"
   ]
  },
  {
   "cell_type": "markdown",
   "metadata": {},
   "source": [
    "## 14.5 Loading a URL as a matrix"
   ]
  },
  {
   "cell_type": "markdown",
   "metadata": {},
   "source": [
    "```\n",
    "w = loadurl('http://www.cise.ufl.edu/~davis/MATLABPrimer8E/w')\n",
    "```"
   ]
  },
  {
   "cell_type": "markdown",
   "metadata": {},
   "source": [
    "```\n",
    "s = loadurl('http://www.cise.ufl.edu/\n",
    "research/sparse/mat/HB/west0479.mat')\n",
    "prob = s.Problem\n",
    "spy(prob.A)\n",
    "title([prob.name ': ' prob.title])\n",
    "```"
   ]
  },
  {
   "cell_type": "code",
   "execution_count": null,
   "metadata": {
    "collapsed": true
   },
   "outputs": [],
   "source": []
  }
 ],
 "metadata": {
  "anaconda-cloud": {},
  "kernelspec": {
   "display_name": "Python [default]",
   "language": "python",
   "name": "python3"
  },
  "language_info": {
   "codemirror_mode": {
    "name": "ipython",
    "version": 3
   },
   "file_extension": ".py",
   "mimetype": "text/x-python",
   "name": "python",
   "nbconvert_exporter": "python",
   "pygments_lexer": "ipython3",
   "version": "3.5.2"
  }
 },
 "nbformat": 4,
 "nbformat_minor": 1
}
