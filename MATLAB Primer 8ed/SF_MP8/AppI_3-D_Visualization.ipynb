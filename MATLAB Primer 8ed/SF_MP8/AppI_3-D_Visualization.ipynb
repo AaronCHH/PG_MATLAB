{
 "cells": [
  {
   "cell_type": "markdown",
   "metadata": {},
   "source": [
    "# I 3-D Visualization"
   ]
  },
  {
   "cell_type": "markdown",
   "metadata": {},
   "source": [
    "## I.1 Surface and Mesh Plots"
   ]
  },
  {
   "cell_type": "markdown",
   "metadata": {},
   "source": [
    "## I.1.1 Surface and Mesh Creation"
   ]
  },
  {
   "cell_type": "markdown",
   "metadata": {},
   "source": [
    "* **hidden** removes or reveals hidden lines in a mesh plot.  \n",
    "* **mesh** draws a 3-D mesh plot. Try mesh(peaks) . [p. 114]  \n",
    "* **peaks** is an example function for surface plots. peaks returns a matrix offunction evaluations f(x,y) over a uniformly distributed set of x-y points, for a certain function f. [p. 117]  \n",
    "* **surf** creates a 3-D surface plot. See the cover of this book for an example. Try surf(mesh) . [p. 114]  \n",
    "* **surface** is a low-level function for creating a surface object.  "
   ]
  },
  {
   "cell_type": "markdown",
   "metadata": {},
   "source": [
    "## I.1.2 Domain Generation"
   ]
  },
  {
   "cell_type": "markdown",
   "metadata": {},
   "source": [
    "* **meshgrid** creates X, Y, and Z arrays for 3-D plots. [p. 114]"
   ]
  },
  {
   "cell_type": "markdown",
   "metadata": {},
   "source": [
    "## I.1.3 Color Operations"
   ]
  },
  {
   "cell_type": "markdown",
   "metadata": {},
   "source": [
    "* **colorbar** adds a color legend to a plot. [p. 117]  \n",
    "* **colormap** sets or returns the colormap for an image. [p. 117]  \n",
    "* **shading** sets color shading properties for 3-D plot. [p. 116]  "
   ]
  },
  {
   "cell_type": "markdown",
   "metadata": {},
   "source": [
    "## I.2 View Control"
   ]
  },
  {
   "cell_type": "markdown",
   "metadata": {},
   "source": [
    "## I.2.1 Camera Viewpoint"
   ]
  },
  {
   "cell_type": "markdown",
   "metadata": {},
   "source": [
    "* **view** specifies the viewpoint for a 3-D plot. [p. 117]\n"
   ]
  },
  {
   "cell_type": "markdown",
   "metadata": {},
   "source": [
    "## I.2.2 Aspect Ratio and Axis Limits"
   ]
  },
  {
   "cell_type": "markdown",
   "metadata": {},
   "source": [
    "* **xlim** sets or queries the x-axis limits.  \n",
    "* **ylim** sets or queries the y-axis limits.  \n",
    "* **zlim** sets or queries the z-axis limits.  "
   ]
  },
  {
   "cell_type": "markdown",
   "metadata": {},
   "source": [
    "## I.2.3 Object Manipulation"
   ]
  },
  {
   "cell_type": "markdown",
   "metadata": {},
   "source": [
    "* **reset** resets the properties of a graphics object to their defaults.  \n",
    "* **rotate3d** rotates the 3-D view using the mouse. [p. 117]  \n",
    "* **zoom** zooms into or out of a plot. [p. 107]  "
   ]
  },
  {
   "cell_type": "markdown",
   "metadata": {},
   "source": [
    "## I.3 Lighting"
   ]
  },
  {
   "cell_type": "markdown",
   "metadata": {},
   "source": [
    "* **light** creates a light at a specified location. [p. 117]\n",
    "* **lighting** specifies the lighting algorithm (flat, gouraud, phong, or none). [p. 117]"
   ]
  },
  {
   "cell_type": "markdown",
   "metadata": {},
   "source": [
    "## I.4 Volume Visualization"
   ]
  },
  {
   "cell_type": "markdown",
   "metadata": {},
   "source": [
    "* **slice** draws a volumetric slice plot, which plots slices of data from a 3-D volume. [p. 116]"
   ]
  },
  {
   "cell_type": "code",
   "execution_count": null,
   "metadata": {
    "collapsed": true
   },
   "outputs": [],
   "source": []
  }
 ],
 "metadata": {
  "kernelspec": {
   "display_name": "Python [default]",
   "language": "python",
   "name": "python3"
  },
  "language_info": {
   "codemirror_mode": {
    "name": "ipython",
    "version": 3
   },
   "file_extension": ".py",
   "mimetype": "text/x-python",
   "name": "python",
   "nbconvert_exporter": "python",
   "pygments_lexer": "ipython3",
   "version": "3.5.2"
  }
 },
 "nbformat": 4,
 "nbformat_minor": 1
}
