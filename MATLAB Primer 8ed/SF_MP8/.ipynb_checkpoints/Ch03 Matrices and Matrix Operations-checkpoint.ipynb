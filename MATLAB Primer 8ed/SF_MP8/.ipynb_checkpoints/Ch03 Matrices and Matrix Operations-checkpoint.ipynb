{
 "cells": [
  {
   "cell_type": "markdown",
   "metadata": {},
   "source": [
    "# 3 Matrices and Matrix Operations"
   ]
  },
  {
   "cell_type": "markdown",
   "metadata": {},
   "source": [
    "## 3.1 Referencing individual entries"
   ]
  },
  {
   "cell_type": "code",
   "execution_count": 2,
   "metadata": {
    "collapsed": false
   },
   "outputs": [
    {
     "name": "stderr",
     "output_type": "stream",
     "text": [
      "C:\\Anaconda3\\lib\\site-packages\\IPython\\nbformat.py:13: ShimWarning: The `IPython.nbformat` package has been deprecated. You should import from nbformat instead.\n",
      "  \"You should import from nbformat instead.\", ShimWarning)\n"
     ]
    },
    {
     "name": "stdout",
     "output_type": "stream",
     "text": [
      "Starting MATLAB on ZMQ socket tcp://127.0.0.1:19023\n",
      "Send 'exit' command to kill the server\n",
      ".........................MATLAB started and connected!\n"
     ]
    }
   ],
   "source": [
    "%load_ext pymatbridge"
   ]
  },
  {
   "cell_type": "code",
   "execution_count": 2,
   "metadata": {
    "collapsed": false
   },
   "outputs": [
    {
     "data": {
      "text/plain": [
       "\r\n",
       "A =\r\n",
       "\r\n",
       "     1     2     3\r\n",
       "     4     5     6\r\n",
       "    -1     7     9\r\n",
       "\r\n",
       "\r\n",
       "ans =\r\n",
       "\r\n",
       "     6\r\n",
       "\r\n"
      ]
     },
     "metadata": {},
     "output_type": "display_data"
    }
   ],
   "source": [
    "%%matlab\n",
    "A = [1 2 3 ; 4 5 6 ; -1 7 9]\n",
    "A(2,3)"
   ]
  },
  {
   "cell_type": "code",
   "execution_count": 5,
   "metadata": {
    "collapsed": false
   },
   "outputs": [
    {
     "data": {
      "text/plain": [
       "\r\n",
       "x =\r\n",
       "\r\n",
       "     3\r\n",
       "     2\r\n",
       "     1\r\n",
       "\r\n"
      ]
     },
     "metadata": {},
     "output_type": "display_data"
    }
   ],
   "source": [
    "%%matlab\n",
    "x = [3 2 1]'"
   ]
  },
  {
   "cell_type": "code",
   "execution_count": 6,
   "metadata": {
    "collapsed": false
   },
   "outputs": [
    {
     "data": {
      "text/plain": [
       "\r\n",
       "x =\r\n",
       "\r\n",
       "     3\r\n",
       "     2\r\n",
       "     1\r\n",
       "\r\n"
      ]
     },
     "metadata": {},
     "output_type": "display_data"
    }
   ],
   "source": [
    "%%matlab\n",
    "x = [3 ; 2 ; 1]"
   ]
  },
  {
   "cell_type": "markdown",
   "metadata": {},
   "source": [
    "## 3.2 Matrix operators"
   ]
  },
  {
   "cell_type": "markdown",
   "metadata": {},
   "source": [
    "```matlab\n",
    "+ addition or unary plus\n",
    "- subtraction or negation\n",
    "* multiplication\n",
    "^ power\n",
    "' matrix transpose\n",
    ".' array transpose\n",
    "\\ left division (backslash or mldivide)\n",
    "/ right division (slash or mrdivide)\n",
    "```"
   ]
  },
  {
   "cell_type": "code",
   "execution_count": 7,
   "metadata": {
    "collapsed": false
   },
   "outputs": [
    {
     "data": {
      "text/plain": [
       "\r\n",
       "y =\r\n",
       "\r\n",
       "     1\r\n",
       "     2\r\n",
       "     3\r\n",
       "\r\n",
       "\r\n",
       "ans =\r\n",
       "\r\n",
       "    10\r\n",
       "\r\n",
       "\r\n",
       "ans =\r\n",
       "\r\n",
       "     3     6     9\r\n",
       "     2     4     6\r\n",
       "     1     2     3\r\n",
       "\r\n"
      ]
     },
     "metadata": {},
     "output_type": "display_data"
    }
   ],
   "source": [
    "%%matlab\n",
    "y = [1 2 3]'\n",
    "x' * y\n",
    "x * y'"
   ]
  },
  {
   "cell_type": "markdown",
   "metadata": {},
   "source": [
    "## 3.3 Matrix division (slash and backslash)"
   ]
  },
  {
   "cell_type": "markdown",
   "metadata": {
    "collapsed": true
   },
   "source": [
    "The matrix “division” operations deserve special comment.\n",
    "\n",
    "If A is an invertible square matrix and b is a compatible column vector or, respectively, a compatible row vector, then x=A\\b is the solution of A*x=b, and x=b/A is the solution of x*A=b.\n",
    "\n",
    "These are informally called the backslash (\\) and slash operators (/); they are also referred to as the mldivide and mrdivide functions.\n",
    "\n",
    "If A is square and non-singular, then A\\b and b/A are mathematically the same as respectively, where inv(A) computes the inverse of A.\n",
    "\n",
    "The left and right division operators do not compute the inverse and are more accurate and efficient than inv(A) *b.\n",
    "\n",
    "In left division, if A is square, then it is factorized (if necessary), and these factors are used to solve A*x=b.\n",
    "\n",
    "If A is not square, the under- or over-determined system is solved in the least squares sense.\n",
    "\n",
    "Right division is defined in terms of left division by b/A=(A’\\b’)’ .\n",
    "\n",
    "Try this:"
   ]
  },
  {
   "cell_type": "code",
   "execution_count": 4,
   "metadata": {
    "collapsed": false
   },
   "outputs": [
    {
     "data": {
      "text/plain": [
       "\r\n",
       "A =\r\n",
       "\r\n",
       "     1     2\r\n",
       "     3     4\r\n",
       "\r\n",
       "\r\n",
       "b =\r\n",
       "\r\n",
       "     4\r\n",
       "    10\r\n",
       "\r\n",
       "\r\n",
       "x =\r\n",
       "\r\n",
       "    2.0000\r\n",
       "    1.0000\r\n",
       "\r\n"
      ]
     },
     "metadata": {},
     "output_type": "display_data"
    }
   ],
   "source": [
    "%%matlab\n",
    "A = [1 2 ;  3 4]\n",
    "b = [4 10]'\n",
    "x = A\\b"
   ]
  },
  {
   "cell_type": "markdown",
   "metadata": {},
   "source": [
    "## 3.4 Entry-wise operators"
   ]
  },
  {
   "cell_type": "code",
   "execution_count": 6,
   "metadata": {
    "collapsed": false
   },
   "outputs": [
    {
     "data": {
      "text/plain": [
       "\r\n",
       "ans =\r\n",
       "\r\n",
       "     1     4     9    16\r\n",
       "\r\n",
       "\r\n",
       "ans =\r\n",
       "\r\n",
       "     1     4     9    16\r\n",
       "\r\n"
      ]
     },
     "metadata": {},
     "output_type": "display_data"
    }
   ],
   "source": [
    "%%matlab\n",
    "[1 2 3 4] .* [1 2 3 4]\n",
    "[1 2 3 4] .^ 2"
   ]
  },
  {
   "cell_type": "markdown",
   "metadata": {},
   "source": [
    "## 3.5 Relational operators"
   ]
  },
  {
   "cell_type": "markdown",
   "metadata": {},
   "source": [
    "> The relational operators in MATLAB are:"
   ]
  },
  {
   "cell_type": "markdown",
   "metadata": {},
   "source": [
    "```\n",
    "< less than\n",
    "> greater than\n",
    "<= less than or equal\n",
    ">= greater than or equal\n",
    "== equal\n",
    "~= not equal\n",
    "```"
   ]
  },
  {
   "cell_type": "markdown",
   "metadata": {},
   "source": [
    "> They all operate entry-wise.  \n",
    "Note that = is used in an assignment statement whereas == is a relational operator.  \n",
    "Relational operators may be connected by logical operators: \n"
   ]
  },
  {
   "cell_type": "markdown",
   "metadata": {},
   "source": [
    "```\n",
    "& and\n",
    "| or\n",
    "~ not\n",
    "&& short-circuit and\n",
    "|| short-circuit or\n",
    "```"
   ]
  },
  {
   "cell_type": "code",
   "execution_count": 8,
   "metadata": {
    "collapsed": false
   },
   "outputs": [
    {
     "data": {
      "text/plain": [
       "\r\n",
       "A =\r\n",
       "\r\n",
       "     1     2\r\n",
       "     3     4\r\n",
       "\r\n",
       "\r\n",
       "ans =\r\n",
       "\r\n",
       "     0     1\r\n",
       "     1     1\r\n",
       "\r\n",
       "\r\n",
       "B =\r\n",
       "\r\n",
       "     1     3\r\n",
       "     4     2\r\n",
       "\r\n",
       "\r\n",
       "ans =\r\n",
       "\r\n",
       "     0     1\r\n",
       "     1     0\r\n",
       "\r\n"
      ]
     },
     "metadata": {},
     "output_type": "display_data"
    }
   ],
   "source": [
    "%%matlab\n",
    "A = [1 2 ; 3 4]\n",
    "A >= 2\n",
    "B = [1 3 ; 4 2]\n",
    "A < B"
   ]
  },
  {
   "cell_type": "markdown",
   "metadata": {},
   "source": [
    "## 3.6 Complex numbers"
   ]
  },
  {
   "cell_type": "markdown",
   "metadata": {},
   "source": [
    "> MATLAB allows complex numbers in most of its operations and functions.  \n",
    "Three convenient ways to enter complex matrices are:"
   ]
  },
  {
   "cell_type": "code",
   "execution_count": 9,
   "metadata": {
    "collapsed": false
   },
   "outputs": [
    {
     "data": {
      "text/plain": [
       "\r\n",
       "B =\r\n",
       "\r\n",
       "   1.0000 + 5.0000i   2.0000 + 6.0000i\r\n",
       "   3.0000 + 7.0000i   4.0000 + 8.0000i\r\n",
       "\r\n",
       "\r\n",
       "B =\r\n",
       "\r\n",
       "   1.0000 + 5.0000i   2.0000 + 6.0000i\r\n",
       "   3.0000 + 7.0000i   4.0000 + 8.0000i\r\n",
       "\r\n",
       "\r\n",
       "B =\r\n",
       "\r\n",
       "   1.0000 + 5.0000i   2.0000 + 6.0000i\r\n",
       "   3.0000 + 7.0000i   4.0000 + 8.0000i\r\n",
       "\r\n"
      ]
     },
     "metadata": {},
     "output_type": "display_data"
    }
   ],
   "source": [
    "%%matlab\n",
    "clear i\n",
    "B = [1 2 ; 3 4] + i*[5 6 ; 7 8]\n",
    "B = [1+5i, 2+6i ; 3+7i, 4+8i]\n",
    "B = complex([1 2 ; 3 4], [5 6 ; 7 8])"
   ]
  },
  {
   "cell_type": "markdown",
   "metadata": {},
   "source": [
    "> Either i or j may be used as the imaginary unit.  \n",
    "You can use i and j as variables and overwrite their values, since they are also commonly used as loop indices (this is why the example above starts with clear i).  \n",
    "You may generate a new imaginary unit with, say, ii=sqrt(-1).  \n",
    "The simplest thing to do is to always use the constants 1i or 1j , which cannot be reassigned and are always equal to the imaginary unit.  \n",
    "Thus,\n"
   ]
  },
  {
   "cell_type": "code",
   "execution_count": 12,
   "metadata": {
    "collapsed": false
   },
   "outputs": [
    {
     "data": {
      "text/plain": [
       "\r\n",
       "B =\r\n",
       "\r\n",
       "   1.0000 + 5.0000i   2.0000 + 6.0000i\r\n",
       "   3.0000 + 7.0000i   4.0000 + 8.0000i\r\n",
       "\r\n"
      ]
     },
     "metadata": {},
     "output_type": "display_data"
    }
   ],
   "source": [
    "%%matlab\n",
    "B = [1 2 ; 3 4] + 1i*[5 6 ; 7 8]"
   ]
  },
  {
   "cell_type": "markdown",
   "metadata": {},
   "source": [
    "## 3.7 Strings"
   ]
  },
  {
   "cell_type": "markdown",
   "metadata": {},
   "source": [
    "* Enclosing text in single quotes forms strings with the char data type:"
   ]
  },
  {
   "cell_type": "code",
   "execution_count": 13,
   "metadata": {
    "collapsed": false
   },
   "outputs": [
    {
     "data": {
      "text/plain": [
       "\r\n",
       "S =\r\n",
       "\r\n",
       "I love MATLAB\r\n",
       "\r\n"
      ]
     },
     "metadata": {},
     "output_type": "display_data"
    }
   ],
   "source": [
    "%%matlab\n",
    "S = 'I love MATLAB'"
   ]
  },
  {
   "cell_type": "markdown",
   "metadata": {},
   "source": [
    "* To include a single quote inside a string, use two of them together, as in:"
   ]
  },
  {
   "cell_type": "code",
   "execution_count": 15,
   "metadata": {
    "collapsed": false
   },
   "outputs": [
    {
     "data": {
      "text/plain": [
       "\r\n",
       "S =\r\n",
       "\r\n",
       "Green's function\r\n",
       "\r\n"
      ]
     },
     "metadata": {},
     "output_type": "display_data"
    }
   ],
   "source": [
    "%%matlab\n",
    "S = 'Green''s function'"
   ]
  },
  {
   "cell_type": "markdown",
   "metadata": {},
   "source": [
    "* A 2-D array of strings can represent multiple lines of text. For example, "
   ]
  },
  {
   "cell_type": "code",
   "execution_count": 16,
   "metadata": {
    "collapsed": false
   },
   "outputs": [
    {
     "data": {
      "text/plain": [
       "\r\n",
       "S =\r\n",
       "\r\n",
       "I love MATLAB\r\n",
       "It's powerful\r\n",
       "\r\n"
      ]
     },
     "metadata": {},
     "output_type": "display_data"
    }
   ],
   "source": [
    "%%matlab\n",
    "S = [ 'I love MATLAB'\n",
    "     'It''s powerful' ]"
   ]
  },
  {
   "cell_type": "code",
   "execution_count": 19,
   "metadata": {
    "collapsed": false,
    "scrolled": true
   },
   "outputs": [
    {
     "data": {
      "text/plain": [
       "\r\n",
       "ans =\r\n",
       "\r\n",
       "     0\r\n",
       "\r\n",
       "\r\n",
       "ans =\r\n",
       "\r\n",
       "    3.1400\r\n",
       "\r\n",
       "\r\n",
       "ans =\r\n",
       "\r\n",
       "    3.1400\r\n",
       "\r\n"
      ]
     },
     "metadata": {},
     "output_type": "display_data"
    }
   ],
   "source": [
    "%%matlab\n",
    "strcmp('A','a')\n",
    "str2double('3.14')\n",
    "str2num('3.14')"
   ]
  },
  {
   "cell_type": "code",
   "execution_count": null,
   "metadata": {
    "collapsed": true
   },
   "outputs": [],
   "source": []
  }
 ],
 "metadata": {
  "anaconda-cloud": {},
  "kernelspec": {
   "display_name": "Python [default]",
   "language": "python",
   "name": "python3"
  },
  "language_info": {
   "codemirror_mode": {
    "name": "ipython",
    "version": 3
   },
   "file_extension": ".py",
   "mimetype": "text/x-python",
   "name": "python",
   "nbconvert_exporter": "python",
   "pygments_lexer": "ipython3",
   "version": "3.5.2"
  }
 },
 "nbformat": 4,
 "nbformat_minor": 1
}
