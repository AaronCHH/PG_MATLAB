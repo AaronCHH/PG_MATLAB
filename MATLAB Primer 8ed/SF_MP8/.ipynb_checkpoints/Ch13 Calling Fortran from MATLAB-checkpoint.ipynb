{
 "cells": [
  {
   "cell_type": "markdown",
   "metadata": {},
   "source": [
    "# 13 Calling Fortran from MATLAB"
   ]
  },
  {
   "cell_type": "code",
   "execution_count": 4,
   "metadata": {
    "collapsed": false
   },
   "outputs": [
    {
     "name": "stdout",
     "output_type": "stream",
     "text": [
      "The pymatbridge extension is already loaded. To reload it, use:\n",
      "  %reload_ext pymatbridge\n"
     ]
    }
   ],
   "source": [
    "%load_ext pymatbridge"
   ]
  },
  {
   "cell_type": "markdown",
   "metadata": {},
   "source": [
    "## 13.1 Solving a transposed system"
   ]
  },
  {
   "cell_type": "markdown",
   "metadata": {},
   "source": [
    "```\n",
    "subroutine utsolve (n, x, A, b)\n",
    "integer n\n",
    "real*8 x(n), A(n,n), b(n), xi\n",
    "integer i, j\n",
    "do 1 i = 1,n\n",
    "    xi = b(i)\n",
    "    do 2 j = 1,i-1\n",
    "        xi = xi - A(j,i) * x(j)\n",
    "    continue\n",
    "    x(i) = xi / A(i,i)\n",
    "continue\n",
    "return\n",
    "end\n",
    "```"
   ]
  },
  {
   "cell_type": "markdown",
   "metadata": {},
   "source": [
    "## 13.2 A Fortran mexFunction with %val"
   ]
  },
  {
   "cell_type": "markdown",
   "metadata": {},
   "source": [
    "```\n",
    "subroutine mexFunction\n",
    "$ (nargout, pargout, nargin, pargin)\n",
    "integer nargout, nargin\n",
    "integer pargout ( *), pargin ( *)\n",
    "```"
   ]
  },
  {
   "cell_type": "markdown",
   "metadata": {},
   "source": [
    "```\n",
    "integer mxGetN, mxGetPr\n",
    "integer mxCreateDoubleMatrix\n",
    "```"
   ]
  },
  {
   "cell_type": "markdown",
   "metadata": {},
   "source": [
    "```\n",
    "integer n, one\n",
    "one = 1\n",
    "n = mxGetN (pargin (1))\n",
    "pargout (1) =\n",
    "$ mxCreateDoubleMatrix (n, one, 0)\n",
    "```"
   ]
  },
  {
   "cell_type": "markdown",
   "metadata": {},
   "source": [
    "```\n",
    "call utsolve (n,\n",
    "$ %val (mxGetPr (pargout (1))),\n",
    "$ %val (mxGetPr (pargin (1))),\n",
    "$ %val (mxGetPr (pargin (2))))\n",
    "return\n",
    "end\n",
    "```"
   ]
  },
  {
   "cell_type": "markdown",
   "metadata": {},
   "source": [
    "```\n",
    "n = 5000\n",
    "A = triu(rand(n,n)) ;\n",
    "b = rand(n,1) ;\n",
    "tic ; x = A'\\b ; toc\n",
    "opts.UT = true\n",
    "opts.TRANSA = true\n",
    "tic ; x2 = linsolve(A,b,opts) ; toc\n",
    "tic ; x3 = utsolve(A,b) ; toc\n",
    "norm(x-x2)\n",
    "norm(x-x3)\n",
    "```"
   ]
  },
  {
   "cell_type": "markdown",
   "metadata": {},
   "source": [
    "## 13.3 If you cannot use %val"
   ]
  },
  {
   "cell_type": "markdown",
   "metadata": {},
   "source": [
    "```\n",
    "integer nmax\n",
    "parameter (nmax = 5000)\n",
    "real*8 A(nmax,nmax), x(nmax), b(nmax)\n",
    "```"
   ]
  },
  {
   "cell_type": "markdown",
   "metadata": {},
   "source": [
    "```\n",
    "if (n .gt. nmax) then\n",
    "    call mexErrMsgTxt (\"n too big\")\n",
    "endif\n",
    "```"
   ]
  },
  {
   "cell_type": "markdown",
   "metadata": {},
   "source": [
    "```\n",
    "call mxCopyPtrToReal8\n",
    "$ (mxGetPr (pargin (1)), A, n**2)\n",
    "call mxCopyPtrToReal8\n",
    "$ (mxGetPr (pargin (2)), b, n)\n",
    "call utsolve (n, x, A, b)\n",
    "call mxCopyReal8ToPtr\n",
    "$ (x, mxGetPr (pargout (1)), n)\n",
    "```"
   ]
  },
  {
   "cell_type": "code",
   "execution_count": null,
   "metadata": {
    "collapsed": true
   },
   "outputs": [],
   "source": []
  }
 ],
 "metadata": {
  "kernelspec": {
   "display_name": "Python [default]",
   "language": "python",
   "name": "python3"
  },
  "language_info": {
   "codemirror_mode": {
    "name": "ipython",
    "version": 3
   },
   "file_extension": ".py",
   "mimetype": "text/x-python",
   "name": "python",
   "nbconvert_exporter": "python",
   "pygments_lexer": "ipython3",
   "version": "3.5.2"
  }
 },
 "nbformat": 4,
 "nbformat_minor": 1
}
