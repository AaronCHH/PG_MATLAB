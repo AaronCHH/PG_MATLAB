{
 "cells": [
  {
   "cell_type": "markdown",
   "metadata": {},
   "source": [
    "# 20 Polynomials, Interpolation, and Integration"
   ]
  },
  {
   "cell_type": "code",
   "execution_count": 2,
   "metadata": {
    "collapsed": false
   },
   "outputs": [
    {
     "name": "stderr",
     "output_type": "stream",
     "text": [
      "C:\\Anaconda3\\lib\\site-packages\\IPython\\nbformat.py:13: ShimWarning: The `IPython.nbformat` package has been deprecated. You should import from nbformat instead.\n",
      "  \"You should import from nbformat instead.\", ShimWarning)\n"
     ]
    },
    {
     "name": "stdout",
     "output_type": "stream",
     "text": [
      "Starting MATLAB on ZMQ socket tcp://127.0.0.1:7163\n",
      "Send 'exit' command to kill the server\n",
      ".....MATLAB started and connected!\n"
     ]
    }
   ],
   "source": [
    "%load_ext pymatbridge"
   ]
  },
  {
   "cell_type": "markdown",
   "metadata": {},
   "source": [
    "## 20.1 Representing polynomials"
   ]
  },
  {
   "cell_type": "code",
   "execution_count": 3,
   "metadata": {
    "collapsed": false
   },
   "outputs": [
    {
     "data": {
      "text/plain": [
       "\r\n",
       "p =\r\n",
       "\r\n",
       "     1   -15   -24   360\r\n",
       "\r\n",
       "\r\n",
       "r =\r\n",
       "\r\n",
       "   15.0000\r\n",
       "   -4.8990\r\n",
       "    4.8990\r\n",
       "\r\n"
      ]
     },
     "metadata": {},
     "output_type": "display_data"
    }
   ],
   "source": [
    "%%matlab\n",
    "p = [1 -15 -24 360]\n",
    "r = roots(p)"
   ]
  },
  {
   "cell_type": "code",
   "execution_count": 4,
   "metadata": {
    "collapsed": false
   },
   "outputs": [
    {
     "data": {
      "text/plain": [
       "\r\n",
       "A =\r\n",
       "\r\n",
       "     8     1     6\r\n",
       "     3     5     7\r\n",
       "     4     9     2\r\n",
       "\r\n",
       "\r\n",
       "s =\r\n",
       "\r\n",
       "    1.0000  -15.0000  -24.0000  360.0000\r\n",
       "\r\n",
       "\r\n",
       "ans =\r\n",
       "\r\n",
       "   15.0000\r\n",
       "   -4.8990\r\n",
       "    4.8990\r\n",
       "\r\n",
       "\r\n",
       "ans =\r\n",
       "\r\n",
       "   15.0000\r\n",
       "    4.8990\r\n",
       "   -4.8990\r\n",
       "\r\n",
       " \r\n",
       "f =\r\n",
       " \r\n",
       "                             3       2\r\n",
       "                            x  - 15 x  - 24 x + 360\r\n",
       " \r\n",
       "ans =\r\n",
       " \r\n",
       "                                   [  15   ]\r\n",
       "                                   [       ]\r\n",
       "                                   [   1/2 ]\r\n",
       "                                   [2 6    ]\r\n",
       "                                   [       ]\r\n",
       "                                   [    1/2]\r\n",
       "                                   [-2 6   ]\r\n",
       " \r\n",
       "ans =\r\n",
       " \r\n",
       "                                   [  15   ]\r\n",
       "                                   [       ]\r\n",
       "                                   [   1/2 ]\r\n",
       "                                   [2 6    ]\r\n",
       "                                   [       ]\r\n",
       "                                   [    1/2]\r\n",
       "                                   [-2 6   ]\r\n"
      ]
     },
     "metadata": {},
     "output_type": "display_data"
    }
   ],
   "source": [
    "%%matlab\n",
    "A = magic(3)\n",
    "s = poly(A)\n",
    "roots(s)\n",
    "eig(A)\n",
    "f = poly(sym(A))\n",
    "solve(f)\n",
    "eig(sym(A))"
   ]
  },
  {
   "cell_type": "markdown",
   "metadata": {},
   "source": [
    "## 20.2 Evaluating polynomials"
   ]
  },
  {
   "cell_type": "code",
   "execution_count": 5,
   "metadata": {
    "collapsed": false
   },
   "outputs": [
    {
     "data": {
      "text/plain": [
       "\r\n",
       "y =\r\n",
       "\r\n",
       "   368   360   322   260\r\n",
       "\r\n"
      ]
     },
     "metadata": {},
     "output_type": "display_data"
    }
   ],
   "source": [
    "%%matlab\n",
    "x = -1:2 ;\n",
    "y = polyval(p,x)"
   ]
  },
  {
   "cell_type": "code",
   "execution_count": 6,
   "metadata": {
    "collapsed": false
   },
   "outputs": [
    {
     "data": {
      "text/plain": [
       " \r\n",
       "f =\r\n",
       " \r\n",
       "                             3       2\r\n",
       "                            x  - 15 x  - 24 x + 360\r\n",
       " \r\n",
       "ans =\r\n",
       " \r\n",
       "                              [1, -15, -24, 360]\r\n"
      ]
     },
     "metadata": {},
     "output_type": "display_data"
    }
   ],
   "source": [
    "%%matlab\n",
    "syms x\n",
    "f = poly2sym(p)\n",
    "sym2poly(f)"
   ]
  },
  {
   "cell_type": "code",
   "execution_count": null,
   "metadata": {
    "collapsed": true
   },
   "outputs": [],
   "source": []
  },
  {
   "cell_type": "markdown",
   "metadata": {},
   "source": [
    "## 20.3 Polynomial interpolation"
   ]
  },
  {
   "cell_type": "markdown",
   "metadata": {},
   "source": [
    "```\n",
    "p = polyfit(x, y, n)\n",
    "```"
   ]
  },
  {
   "cell_type": "code",
   "execution_count": 9,
   "metadata": {
    "collapsed": false
   },
   "outputs": [
    {
     "data": {
      "text/plain": [
       "\r\n",
       "p =\r\n",
       "\r\n",
       "    0.0002    0.0359   -0.2296    0.0487    0.9860    0.0007\r\n",
       "\r\n"
      ]
     },
     "metadata": {},
     "output_type": "display_data"
    },
    {
     "data": {
      "image/png": "[encoded data removed]"
     },
     "metadata": {},
     "output_type": "display_data"
    }
   ],
   "source": [
    "%%matlab\n",
    "x = 0:.1:pi ;\n",
    "y = sin(x) ;\n",
    "p = polyfit(x, y, 5)\n",
    "figure(1) ; clf\n",
    "ezplot(@sin, [0 pi])\n",
    "hold on\n",
    "xx = 0:.001:pi ;\n",
    "plot(xx, polyval(p,xx), 'r-')"
   ]
  },
  {
   "cell_type": "code",
   "execution_count": 11,
   "metadata": {
    "collapsed": false
   },
   "outputs": [
    {
     "data": {
      "text/plain": [
       "\r\n",
       "n =\r\n",
       "\r\n",
       "    10\r\n",
       "\r\n",
       "\r\n",
       "p =\r\n",
       "\r\n",
       "   -0.0000    0.0000    0.0002   -0.0000   -0.0062    0.0000    0.0725   -0.0000   -0.3911    0.0000    0.8976\r\n",
       "\r\n"
      ]
     },
     "metadata": {},
     "output_type": "display_data"
    },
    {
     "data": {
      "image/png": "[encoded data removed]"
     },
     "metadata": {},
     "output_type": "display_data"
    }
   ],
   "source": [
    "%%matlab\n",
    "n = 10\n",
    "x = -5:.1:5 ;\n",
    "y = 1 ./ (x.^2+1) ;\n",
    "p = polyfit(x, y, n)\n",
    "figure(2) ; clf\n",
    "ezplot(@(x) 1 ./ (x.^2+1))\n",
    "hold on\n",
    "xx = -5:.01:5 ;\n",
    "plot(xx, polyval(p,xx), 'r-')"
   ]
  },
  {
   "cell_type": "code",
   "execution_count": 13,
   "metadata": {
    "collapsed": false
   },
   "outputs": [
    {
     "data": {
      "image/png": "[encoded data removed]"
     },
     "metadata": {},
     "output_type": "display_data"
    }
   ],
   "source": [
    "%%matlab\n",
    "figure(3) ; clf\n",
    "yy = spline(x, y, xx) ;\n",
    "plot(xx, yy, 'g')"
   ]
  },
  {
   "cell_type": "code",
   "execution_count": 14,
   "metadata": {
    "collapsed": false
   },
   "outputs": [
    {
     "data": {
      "text/plain": [
       "\r\n",
       "pp = \r\n",
       "\r\n",
       "      form: 'pp'\r\n",
       "    breaks: [1x101 double]\r\n",
       "     coefs: [100x4 double]\r\n",
       "    pieces: 100\r\n",
       "     order: 4\r\n",
       "       dim: 1\r\n",
       "\r\n"
      ]
     },
     "metadata": {},
     "output_type": "display_data"
    },
    {
     "data": {
      "image/png": "[encoded data removed]"
     },
     "metadata": {},
     "output_type": "display_data"
    }
   ],
   "source": [
    "%%matlab\n",
    "figure(4) ; clf\n",
    "pp = spline(x, y)\n",
    "yy = ppval(pp, xx) ;\n",
    "plot(xx, yy, 'c')"
   ]
  },
  {
   "cell_type": "markdown",
   "metadata": {},
   "source": [
    "## 20.4 Numeric integration (quadrature)"
   ]
  },
  {
   "cell_type": "code",
   "execution_count": 16,
   "metadata": {
    "collapsed": false
   },
   "outputs": [
    {
     "data": {
      "text/plain": [
       "\r\n",
       "ans =\r\n",
       "\r\n",
       "   10.5000\r\n",
       "\r\n",
       "\r\n",
       "ans =\r\n",
       "\r\n",
       "    2.5452\r\n",
       "\r\n",
       "\r\n",
       "ans =\r\n",
       "\r\n",
       "    8.3891\r\n",
       "\r\n",
       "\r\n",
       "ans =\r\n",
       "\r\n",
       "    0.8862\r\n",
       "\r\n",
       "\r\n",
       "ans =\r\n",
       "\r\n",
       "    4.0826\r\n",
       "\r\n",
       "\r\n",
       "ans =\r\n",
       "\r\n",
       "    1.1314\r\n",
       "\r\n"
      ]
     },
     "metadata": {},
     "output_type": "display_data"
    }
   ],
   "source": [
    "%%matlab\n",
    "quad(@(x) x.^5, 1, 2)\n",
    "quad(@log, 1, 4)\n",
    "quad(@(x) x .* exp(x), 0, 2)\n",
    "quad(@(x) exp(-x.^2), 0, 1e6)\n",
    "quad(@(x) sqrt(1 + x.^3), -1, 2)\n",
    "quad(@(x) real(airy(x)), -3, 3)"
   ]
  },
  {
   "cell_type": "code",
   "execution_count": 17,
   "metadata": {
    "collapsed": false
   },
   "outputs": [
    {
     "data": {
      "text/plain": [
       " \r\n",
       "ans =\r\n",
       " \r\n",
       "                                     21/2\r\n",
       " \r\n",
       "ans =\r\n",
       " \r\n",
       "                                 -3 + 8 log(2)\r\n",
       " \r\n",
       "ans =\r\n",
       " \r\n",
       "                                  1 + exp(2)\r\n",
       " \r\n",
       "ans =\r\n",
       " \r\n",
       "                                         1/2\r\n",
       "                                   1/2 pi\r\n",
       " \r\n",
       "ans =\r\n",
       " \r\n",
       "              3/4                1/2  1/2        1/2\r\n",
       "  12/5 + 2/5 3    EllipticK(1/4 2    3    + 1/4 2   )\r\n",
       "\r\n",
       "                                   3/4\r\n",
       "                3/4               3            1/2  1/2        1/2\r\n",
       "         - 1/5 3    EllipticF(2 --------, 1/4 2    3    + 1/4 2   )\r\n",
       "                                     1/2\r\n",
       "                                3 + 3\r\n",
       " \r\n",
       "ans =\r\n",
       " \r\n",
       "                                3\r\n",
       "                               /\r\n",
       "                              |\r\n",
       "                              |   real(airy(x)) dx\r\n",
       "                              |\r\n",
       "                             /\r\n",
       "                               -3\r\n"
      ]
     },
     "metadata": {},
     "output_type": "display_data"
    }
   ],
   "source": [
    "%%matlab\n",
    "int('x^5', 1, 2)\n",
    "int('log(x)', 1, 4)\n",
    "int('x * exp(x)', 0, 2)\n",
    "int('exp(-x^2)', 0, inf)\n",
    "int('sqrt(1 + x^3)', -1, 2)\n",
    "int('real(airy(x))', -3, 3)"
   ]
  },
  {
   "cell_type": "code",
   "execution_count": null,
   "metadata": {
    "collapsed": true
   },
   "outputs": [],
   "source": []
  }
 ],
 "metadata": {
  "kernelspec": {
   "display_name": "Python [default]",
   "language": "python",
   "name": "python3"
  },
  "language_info": {
   "codemirror_mode": {
    "name": "ipython",
    "version": 3
   },
   "file_extension": ".py",
   "mimetype": "text/x-python",
   "name": "python",
   "nbconvert_exporter": "python",
   "pygments_lexer": "ipython3",
   "version": "3.5.2"
  }
 },
 "nbformat": 4,
 "nbformat_minor": 1
}
