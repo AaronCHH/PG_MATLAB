{
 "cells": [
  {
   "cell_type": "markdown",
   "metadata": {},
   "source": [
    "# E Data Analysis"
   ]
  },
  {
   "cell_type": "markdown",
   "metadata": {},
   "source": [
    "## E.1 Basic Operations"
   ]
  },
  {
   "cell_type": "markdown",
   "metadata": {},
   "source": [
    "* **cumprod** computes the cumulative product. See p. 172.  \n",
    "* **cumsum** computes the cumulative sum. See p. 172.  \n",
    "* **prod** computes the products of the entries of an array. See p. 173.  \n",
    "* **sort** sorts entries in an array. See p. 174.  \n",
    "* **sortrows** sorts the rows of a matrix. See p. 174.  \n",
    "* **sum** sums entries along one dimension. See p. 173.  "
   ]
  },
  {
   "cell_type": "markdown",
   "metadata": {},
   "source": [
    "## E.2 Descriptive Statistics"
   ]
  },
  {
   "cell_type": "markdown",
   "metadata": {},
   "source": [
    "* **cov** computes the covariance matrix, or the variance of a vector.  \n",
    "* **max** finds the largest entry in an array. See p. 171.  \n",
    "* **mean** computes the mean. mean(x) is the mean of a vector x.  \n",
    "* **mean(A)** for a matrix is a row vector with the mean of each column of A. mean(A,2) is the mean of each row. [p. 25]  \n",
    "* **median** computes the median. median(x) is the median of a x.  \n",
    "* **median(A)** for a matrix is a row vector with the median of each column of A. median(A,2) is the median of each row. [p. 25]  \n",
    "* **min** finds the smallest entry in an array. See p. 171.  \n",
    "* **mode** computes the mode. mode(x) is the mode of a vector x.  \n",
    "* **mode(A)** for a matrix is a row vector with the mode of each column of A. mode(A,2) is the mode of each row. [p. 25]  \n",
    "* **std** computes the standard deviation. std(x) is the standard deviation of a vector x. std(A) for a matrix is a row vector with the standard variation of each column of A. [p. 25]  \n",
    "* **var** computes the variance. var(x) is the variance of a vector x.  \n",
    "* **var(A)** for a matrix is a row vector with the variance of each column of A. [p. 25]  "
   ]
  },
  {
   "cell_type": "markdown",
   "metadata": {},
   "source": [
    "## E.3 Filtering and Convolution"
   ]
  },
  {
   "cell_type": "markdown",
   "metadata": {},
   "source": [
    "* **conv** performs convolution and polynomial multiplication. See p. 178.  \n",
    "* **conv2** performs 2-D convolution.  \n",
    "* **filter** applies a digital filter to a data sequence.  "
   ]
  },
  {
   "cell_type": "markdown",
   "metadata": {},
   "source": [
    "## E.4 Interpolation and Regression"
   ]
  },
  {
   "cell_type": "markdown",
   "metadata": {},
   "source": [
    "* **interp1** interpolates a 1-D function. See p. 179.  \n",
    "* **polyfit** fits a polynomial to data. [p. 151]  \n",
    "* **polyval** evaluates a polynomial. [p. 151]  "
   ]
  },
  {
   "cell_type": "markdown",
   "metadata": {},
   "source": [
    "## E.5 Fourier Transforms"
   ]
  },
  {
   "cell_type": "markdown",
   "metadata": {},
   "source": [
    "* **abs** computes the absolute value of each entry in an array. [p. 34]  \n",
    "* **angle** computes the phase angle of each entry in an array.  \n",
    "* **fft** computes the discrete Fourier transform (DFT). fft(x) is the DFT ofthe vector x. fft(A) for a matrix computes the DFT of each column.  \n",
    "* **fft2** computes the 2-D DFT. fftshift centers the spectrum by shifting the zero-frequency component.  \n",
    "* **ifft** computes the inverse DFT. If y=fft(x) for a vector x, the x=ifft(y) .  \n",
    "* **ifft2** computes the inverse 2-D DFT.  "
   ]
  },
  {
   "cell_type": "markdown",
   "metadata": {
    "collapsed": true
   },
   "source": [
    "## E.6 Derivatives and Integrals"
   ]
  },
  {
   "cell_type": "markdown",
   "metadata": {},
   "source": [
    "* **diff** computes differences between adjacent entries.  \n",
    "* **diff((1:5).^2)** is [3 5 7 9] . [p. 129]  \n",
    "* **gradient** computes the numerical gradient.  "
   ]
  },
  {
   "cell_type": "code",
   "execution_count": null,
   "metadata": {
    "collapsed": true
   },
   "outputs": [],
   "source": []
  }
 ],
 "metadata": {
  "anaconda-cloud": {},
  "kernelspec": {
   "display_name": "Python [default]",
   "language": "python",
   "name": "python3"
  },
  "language_info": {
   "codemirror_mode": {
    "name": "ipython",
    "version": 3
   },
   "file_extension": ".py",
   "mimetype": "text/x-python",
   "name": "python",
   "nbconvert_exporter": "python",
   "pygments_lexer": "ipython3",
   "version": "3.5.2"
  }
 },
 "nbformat": 4,
 "nbformat_minor": 1
}
