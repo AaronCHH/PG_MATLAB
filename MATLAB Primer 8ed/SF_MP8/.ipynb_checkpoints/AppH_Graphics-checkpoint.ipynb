{
 "cells": [
  {
   "cell_type": "markdown",
   "metadata": {},
   "source": [
    "# H Graphics\n",
    "## H.1 Basic Plots and Graphs"
   ]
  },
  {
   "cell_type": "markdown",
   "metadata": {},
   "source": [
    "* **box** displays or hides the boundary of a plot.  \n",
    "* **hold** controls how new data is plotted. With hold on, a plot command overlays the new plot onto the old one. With hold off (the default), a new plot erases the old. [p. 111]  \n",
    "* **line** creates a line object (a low-level version of plot).  \n",
    "* **loglog** draws a logarithmic 2-D line plot, with logarithmic x-y axes. Otherwise identical to plot.  \n",
    "* **plot** draws a 2-D line plot. plot(Y) plots the columns of a real matrix Y versus the row index. With multiple arguments, plot(x,y) plots the vector x versus y. plot(x1,y1,x2,y2,...) plots multiple lines on a single figure. Adding a string after each pair sets the line color and type. [p. 106]  \n",
    "* **plot3** draws a 3-D line plot. [p. 113]  \n",
    "* **semilogx** draws a semi-logarithmic 2-D line plot, with a logarithmic x-axis and a linear y-axis. Otherwise identical to plot.  \n",
    "* **semilogy** draws a semi-logarithmic 2-D line plot, with a linear x-axis and a logarithmic y-axis. Otherwise identical to plot.  \n",
    "* **subplot** creates a tiled array of plots in a single figure. subplot(2,3,1) creates a 2-by-3 tiling of 6 plots, and sets the first one (in the (1,1) position) as the current plot. [p. 112]  "
   ]
  },
  {
   "cell_type": "markdown",
   "metadata": {},
   "source": [
    "## H.2 Plotting Tools"
   ]
  },
  {
   "cell_type": "markdown",
   "metadata": {},
   "source": [
    "* **rotate3d** rotates the 3-D view using the mouse. [p. 117]  \n",
    "* **zoom** zooms into or out of a plot. [p. 107]  \n"
   ]
  },
  {
   "cell_type": "markdown",
   "metadata": {},
   "source": [
    "## H.3 Annotating Plots"
   ]
  },
  {
   "cell_type": "markdown",
   "metadata": {},
   "source": [
    "* **legend** adds a legend to a plot. If three plot commands have been drawn on a figure, use legend('s1','s2','s3') , where each string describes each plot. Add ,'Location', 'SouthEast' as the last two arguments to place the legend in the bottom right corner (for example). [p. 111]  \n",
    "* **rectangle** draws a rectangle.  \n",
    "* **title** sets the title of a plot. [p. 109]  \n",
    "* **xlabel** sets the label for the x-axis. [p. 109]  \n",
    "* **ylabel** sets the label for the y-axis. [p. 109]  \n",
    "* **zlabel** sets the label for the z-axis, for a 3-D plot. [p. 113]  "
   ]
  },
  {
   "cell_type": "markdown",
   "metadata": {},
   "source": [
    "## H.4 Specialized Plotting"
   ]
  },
  {
   "cell_type": "markdown",
   "metadata": {},
   "source": [
    "* **area** displays an area plot, which is just like a 2-D line plot except that the area below the curve is filled in with a color.  \n",
    "* **bar** draws a bar graph. Try bar(sin(0:.1:pi)) .  \n",
    "* **contour** draws a contour plot.  \n",
    "* **stem** plots a discrete sequence of data.  \n",
    "* **hist** draws a histogram plot. hist(y) uses 10 bins;  \n",
    "* **hist(y,20)** uses 20. hist(y,x) uses bins centered at the points in x.  \n",
    "* **histc** counts the elements in each bin of a histogram (without actually drawing the plot). The bins are defined differently than hist, however. histc(y,x) defines the bins by their edges, where y(i) is in the kth bin if x(k)<=y(i)<=x(k+1) .  \n",
    "* **fill** draws colored polygons.  \n",
    "* **slice** draws a volumetric slice plot. [p. 116]  \n",
    "* **getframe** captures a movie frame.  "
   ]
  },
  {
   "cell_type": "markdown",
   "metadata": {},
   "source": [
    "## H.5 Bit-Mapped Images"
   ]
  },
  {
   "cell_type": "markdown",
   "metadata": {},
   "source": [
    "* **image** displays an image. [p. 119]  \n",
    "* **imagesc** scales and displays an image, so that the full color range is used.  \n",
    "* **imread** reads an image from a graphics file. See p. 169.  \n",
    "* **imwrite** writes an image to a graphics file.  "
   ]
  },
  {
   "cell_type": "markdown",
   "metadata": {},
   "source": [
    "## H.6 Printing"
   ]
  },
  {
   "cell_type": "markdown",
   "metadata": {},
   "source": [
    "* **orient** defines hard-copy landscape/portrait orientation.  \n",
    "* **print** prints a figure.  \n",
    "* **saveas** saves a figure to a file.  "
   ]
  },
  {
   "cell_type": "markdown",
   "metadata": {},
   "source": [
    "## H.7 Handle Graphics"
   ]
  },
  {
   "cell_type": "markdown",
   "metadata": {},
   "source": [
    "### H.7.1 Graphics Object Identification"
   ]
  },
  {
   "cell_type": "markdown",
   "metadata": {},
   "source": [
    "* **delete** deletes a graphics object.  \n",
    "* **findall** finds all graphics objects.  \n",
    "* **findobj** finds a graphics object with specific properties.  \n",
    "* **gca** returns the current axis. [p. 118]  \n",
    "* **gcbf** returns the figure handle of a callback function. [p. 118]  \n",
    "* **gcbo** returns the object handle of a callback function.  \n",
    "* **gco** returns the current graphics object.  \n",
    "* **ishandle** tests if a variable is a Handle Graphics handle.  \n",
    "\n",
    "* **get** gets the properties of a Handle Graphics object. Use get(H) to print all properties, and s=get(H) to return the result as a struct. With the example below (for set), try get(gca,'XTick') , which returns a vector of the tick marks on the x-axis. [p. 118]\n",
    "* **set** sets the properties of a Handle Graphics object. Use set(H) for a list of properties to set. Try creating a figure (plot(rand(5)) , for example). Then use set(gcf) , set(gca) , and set(gco) to see the properties that can be modified by set. Try set(gca,'XTick',1:5) to change the tick marks on the x-axis, and set(gca,'XGrid','on') to turn on the grid lines on the x-axis. [p. 118]"
   ]
  },
  {
   "cell_type": "markdown",
   "metadata": {},
   "source": [
    "### H.7.2 Object Creation"
   ]
  },
  {
   "cell_type": "markdown",
   "metadata": {},
   "source": [
    "* **axes** creates a graphics object for the axes of a plot. figure creates a new figure, or sets the current figure to be a previous-created one. The current figure is where all commands such as plot, title, and xlabel, place their results. figure(3) makes Figure 3 the current figure, creating it if necessary. [p. 107]  \n",
    "* **image** displays an image. [p. 119]  \n",
    "* **light** creates a light at a specified location. [p. 117]  \n",
    "* **line** creates a line object (a low-level version of plot).  \n",
    "* **patch** creates one or more filled polygons.  \n",
    "* **rectangle** draws a rectangle.  \n",
    "* **surface** is a low-level function for creating a surface object.  \n",
    "* **text** adds text to a plot.   \n",
    "* **text(x,y,s)** adds the string s to the plot at position (x,y) . [p. 109]  \n",
    "* **uicontextmenu** creates a context menu, for right-clicking an object.  "
   ]
  },
  {
   "cell_type": "markdown",
   "metadata": {},
   "source": [
    "### H.7.3 Figure Windows"
   ]
  },
  {
   "cell_type": "markdown",
   "metadata": {},
   "source": [
    "* **clf** clears a figure. clf clears the current figure. clf(2) clears Figure 2. [p. 111]\n",
    "* **close** closes a figure. close closes the current figure.\n",
    "* **close(2)** closes Figure 2. [p. 111]\n",
    "* **closereq** is called by default when a figure is closed.\n",
    "* **drawnow** executes all pending plotting operations. [p. 108]\n",
    "* **gcf** returns the current figure. [p. 107]\n",
    "* **saveas** saves a figure to a file."
   ]
  },
  {
   "cell_type": "markdown",
   "metadata": {
    "collapsed": true
   },
   "source": [
    "### H.7.4 Axes Operations"
   ]
  },
  {
   "cell_type": "markdown",
   "metadata": {},
   "source": [
    "* **axis** controls axis scaling for plots. axis auto is the default. axis([xmin xmax ymin ymax]) specifies the limits of the x and y axes. For a 3-D plot, use a vector of length 6. axis tight fits the axes to the data. [p. 110]  \n",
    "* **box** displays or hides the boundary of a plot.  \n",
    "* **cla** clears the current axes.  \n",
    "* **gca** returns the current axis. [p. 118]  \n",
    "* **grid** controls the grid lines of a plot. grid on turns on the grid;  \n",
    "* **grid** off turns it off. [p. 109]   \n",
    "* **ishold** tests if hold is on or off. See p. 202.  "
   ]
  },
  {
   "cell_type": "code",
   "execution_count": null,
   "metadata": {
    "collapsed": true
   },
   "outputs": [],
   "source": []
  }
 ],
 "metadata": {
  "anaconda-cloud": {},
  "kernelspec": {
   "display_name": "Python [default]",
   "language": "python",
   "name": "python3"
  },
  "language_info": {
   "codemirror_mode": {
    "name": "ipython",
    "version": 3
   },
   "file_extension": ".py",
   "mimetype": "text/x-python",
   "name": "python",
   "nbconvert_exporter": "python",
   "pygments_lexer": "ipython3",
   "version": "3.5.2"
  }
 },
 "nbformat": 4,
 "nbformat_minor": 1
}
