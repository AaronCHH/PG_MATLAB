{
 "cells": [
  {
   "cell_type": "markdown",
   "metadata": {},
   "source": [
    "# D Mathematics\n",
    "## D.1 Arrays and Matrices\n",
    "### D.1.1 Basic Information"
   ]
  },
  {
   "cell_type": "markdown",
   "metadata": {},
   "source": [
    "* **disp** displays a MATLAB variable in the Command Window. This works for all data types in MATLAB (scalars, vectors, matrices, higher-dimensional arrays, strings, cell arrays, structs, and objects). Use format to control the detail displayed by disp. Use fprintf instead of disp for even more control. [p. 18]  \n",
    "* **display** displays a MATLAB variable or expression in the Command Window, as if it was the result of a statement with no trailing semicolon.  \n",
    "* **isempty** determines if a matrix has no entries. isempty(A) is true if A is an empty array with one or more dimension of zero size. Same as min(size(A))==0. [p. 23]  \n",
    "* **isequal** tests two variables for equality, returning 1 if equal, 0 otherwise. isequal(a,b) compares two scalars, arrays, structs, cells, objects, or any other pair of MATLAB variables. [p. 52]    \n",
    "* **isfinite** tests if a number is finite (not +inf, -inf, or nan).  \n",
    "* **isinf** tests if a number is +inf or -inf.  \n",
    "* **islogical** tests if a variable is logical. See p. 188.  \n",
    "* **isnan** tests if a number is a NaN.  \n",
    "* **isnumeric** tests if a variable has a numeric type. See p. 188.  \n",
    "* **isscalar** tests if a variable is a scalar.  \n",
    "* **isvector** tests if a variable is a row or column vector. A vector has size n-by-1 or 1-by-n with n>=0.  \n",
    "* **length** returns the length of an array. length(A) is the number ofentries along the largest dimension of A. It is max(size(A)) if A is non-empty, or zero otherwise. [p. 160]  \n",
    "* **max** finds the largest entries in an array. max(x) for a vector x returns a scalar. max(A) for a matrix returns a row vector of length size(A,2) with the largest entry in each column. For computing the maximum along other dimensions, use max(A,[],d) for dimension d. C=max(A,B) returns an array the same size as A and B, where each entry in C is the larger of the two corresponding entries in A and B. A second output returns the indices of the largest entries in A. [p. 25]  \n",
    "* **min** finds the smallest entries in an array. The syntax of min is the same as max, above. [p. 33]  \n",
    "* **ndims** returns the number of array dimensions. ndims(x) is always ≥ 2. ndims(rand(5,5,5)) is 3, for a 3-D array.  \n",
    "* **numel** number of elements in an array. numel(A) is the same as prod(size(A)) .  \n",
    "* **size** returns the size of an array. d=size(A) returns d as a vector of length ndims(A) (normally of size 2), with the size of each dimension of A. Try size(rand(3,4)) . [m,n]=size(A) returns the dimensions as scalars m and n. size(A,2) is the number of columns of a 2-D array A. [p. 23]  \n"
   ]
  },
  {
   "cell_type": "markdown",
   "metadata": {},
   "source": [
    "### D.1.2 Operators"
   ]
  },
  {
   "cell_type": "code",
   "execution_count": null,
   "metadata": {
    "collapsed": true
   },
   "outputs": [],
   "source": []
  },
  {
   "cell_type": "markdown",
   "metadata": {},
   "source": [
    "### D.1.3 Elementary Matrices and Arrays"
   ]
  },
  {
   "cell_type": "markdown",
   "metadata": {},
   "source": [
    "* **diag** extracts the diagonal of a matrix, or creates a diagonal matrix. diag(A) is the diagonal of a matrix A. diag(A,k) is the kth diagonal (use k=-1 for the subdiagonal). diag(x) for a vector x is a diagonal matrix. [p. 23]  \n",
    "* **eye** returns an identity matrix. eye(n) is the n-by-n identity matrix. eye(m,n) or eye([m n]) is an m-by-n matrix with ones on the diagonal and zeros elsewhere. [p. 24]  \n",
    "* **ind2sub** converts linear indices to subscripts.  \n",
    "* **linspace** creates a linearly spaced vector. linspace(a,b) is a row vector of 100 points between a and b. linspace(a,b,n) generates n points. [p. 20]  \n",
    "* **logspace** creates a logarithmically spaced vector. logspace(...) is 10.^linspace(...) , except that the default number of points is 50, not 100.  \n",
    "* **meshgrid** creates X, Y, and Z arrays for 3-D plots. [p. 114]  \n",
    "* **ndgrid** creates X, Y, and Z arrays for plots of N-D functions.  \n",
    "* **rand** computes uniformly distributed pseudo-random numbers. rand(n) is an n-by-n array of random numbers. rand(m,n) is m-by-n. [p. 23]  \n",
    "* **randn** computes normally distributed pseudo-random numbers. Same syntax as rand. [p. 23]  \n",
    "* **sub2ind** converts subscripts to linear indices. If k=find(A) and [i,j]=find(A) , the k=sub2ind(size(A),i,j) .  \n",
    "* **ones** returns a matrix of all ones. Same syntax as zeros, below. [p. 23]  \n",
    "* **zeros** returns a matrix of all zeros. zeros(n) is an all-zero n-by-n matrix. zeros(m,n) is of size m-by-n. The inputs can also be given as a vector whose length is the dimension of the array. For higher dimensional arrays, simply use more input parameters. [p. 23]  \n"
   ]
  },
  {
   "cell_type": "markdown",
   "metadata": {},
   "source": [
    "### D.1.4 Array Operations"
   ]
  },
  {
   "cell_type": "markdown",
   "metadata": {},
   "source": [
    "* **bsxfun** applies a binary function with singleton expansion. Try C=bsxfun(@minus, A, mean(A)); sum(C) . [p. 32]  \n",
    "* **cross** computes the cross product of two vectors of length 3.  \n",
    "* **cumprod** computes the cumulative product. If y=cumprod(x) , then y(k) is prod(x(1:k)) .  \n",
    "* **cumsum** computes the cumulative sum. If y=cumsum(x) , then y(k) is sum(x(1:k)) .  \n",
    "* **dot** computes the dot product. For two column vectors, dot(x,y) is x’ *y.  \n",
    "* **kron** computes the Kronecker tensor product.  \n",
    "* **prod** computes the products of the entries of an array. For a vector, prod(x) is the product of the entries. For a matrix, prod(A) is a row vector of the product of each column of A. prod(A,2) is a column vector of row products. [p. 25]  \n",
    "* **sum** sums entries along one dimension. For a vector, sum(x) is the sum of the entries. For a matrix, sum(A) is a row vector of the sums of each column of A. sum(A,2) is a column vector of row sums. [p. 46]  \n",
    "* **tril** extracts the lower triangular part of a matrix. tril(A) is the lower triangular part. tril(A,k) is all zero above the kth diagonal and equal to A elsewhere. [p. 121]  \n",
    "* **triu** extracts the upper triangular part of a matrix. triu(A) is the upper triangular part. triu(A,k) is all zero below the kth diagonal and equal to A elsewhere. [p. 121]  \n",
    "mm"
   ]
  },
  {
   "cell_type": "markdown",
   "metadata": {},
   "source": [
    "### D.1.5 Array Manipulation"
   ]
  },
  {
   "cell_type": "markdown",
   "metadata": {},
   "source": [
    "* **cat** concatenates arrays along a given dimension. cat(1,A,B) is the same as [A;B] and cat(2,A,B) is [A,B] . [p. 57]  \n",
    "* **circshift** shifts the entries of a matrix.  \n",
    "* **diag** extracts the diagonal of a matrix, or creates a diagonal matrix. See p. 171.  \n",
    "* **end** specifies the end of an array dimension. A(k,3:end) is the kth row of A, excluding the first two entries. [p. 22]  \n",
    "* **fliplr** flips a matrix along its columns. fliplr(A) is the same as A(:,end:-1:1) .  \n",
    "* **flipud** flips a matrix along its rows. flipud(A) is the same as A(end:-1:1,:) .  \n",
    "* **permute** rearranges the dimensions of an N-D array. permute(A,[2 1]) for a 2-D array is the same as A.’ .  \n",
    "* **repmat** replicates and tiles an array. C=repmat(A,m,n) creates a matrix C by replicating A, m times along the rows of C, and n times along the columns. [p. 32]  \n",
    "* **reshape** reshapes an array. C=reshape(A,m,n) is m-by-n with entries taken column-wise from A. [p. 30]  \n",
    "* **rot90** rotates a matrix, like rotating an image.  \n",
    "* **sort** sorts entries in an array. sort(x) sorts a row or column vector x. sort(A) sorts each column of A. sort(A,2) sorts each row. [C,i]=sort(...) returns the permutation i from the sort. [p. 60]  \n",
    "* **sortrows** sorts the rows of a matrix. sortrows(S) for a character array is a dictionary sort. sortrows(A) for a numeric matrix sorts A in ascending order according to the first column, with ties broken by subsequent columns. A second argument changes which columns to use, and whether to sort in ascending or descending order.  \n",
    "* **squeeze** removes singleton dimensions of N-D arrays. squeeze(rand(3,1,4)) is a 3-by-4 matrix. Has no effect on 2-D arrays.  \n"
   ]
  },
  {
   "cell_type": "markdown",
   "metadata": {},
   "source": [
    "## D.2 Linear Algebra"
   ]
  },
  {
   "cell_type": "markdown",
   "metadata": {},
   "source": [
    "### D.2.1 Matrix Analysis"
   ]
  },
  {
   "cell_type": "markdown",
   "metadata": {},
   "source": [
    "* **cond** computes the condition number of a matrix. cond(A) is the 2-norm condition number, ||A || 2||A−1 || 2, or the ratio of the largest singular value over the smallest. cond(A,p) is ||A|| p||A−1 || p for p=1, 2, ’fro’, or inf. [p. 61]  \n",
    "* **det** computes the determinant of a matrix. Never use det to test for singularity; use rank(A) < min(size(A)) instead.  \n",
    "* **norm** computes the norm of a matrix. norm(A) is ||A|| 2, norm(A,p) is ||A||| p for p=1, 2, inf, or ’fro’ (for Frobenius norm). [p. 68]  \n",
    "* **null** computes a basis for the null space of a matrix.  \n",
    "* **rank** computes the rank of a matrix. rank(A) is the number of linearly-independent rows or columns of A, equivalently the number of singular values of A that are not too tiny.  \n",
    "* **trace** sums the diagonal entries of a matrix, trace(A) is sum(diag(A)) .  \n"
   ]
  },
  {
   "cell_type": "markdown",
   "metadata": {},
   "source": [
    "### D.2.2 Linear Equations"
   ]
  },
  {
   "cell_type": "markdown",
   "metadata": {},
   "source": [
    "* **chol** computes the Cholesky factorization of a symmetric positive definite matrix. R=chol(A) is upper triangular, so that R’ *R=A. [R,k,P]=chol(A) returns a positive integer k and a permutation matrix P so that R’ *R=P’ *A*P. If k<size(A,1) then A is not positive definite. P is available for sparse A only; using it leads to a much sparser R. With a second input, ’vector’ , P is a permutation vector. [p. 27]  \n",
    "* **cond** computes the condition number of a matrix. See p. 174.  \n",
    "* **inv** computes A −1 . This is the most frequently abused function in MATLAB. Never compute inv(A) *B or B*inv(A) . Instead, use A\\B or B/A, respectively. To use something like the inv(A) *B syntax, download the factorize package from the MATLAB File Exchange or from the web page for this book. With that package, inverse(A) *B computes inv(A) *B without actually computing the inverse. It uses a chol, lu, or qr factorization of A instead, and solves A\\B. In the rare case when you actually need a few entries of the inverse, use S=inverse(A) and S(1,1) (for example).  \n",
    "* **lu** computes the LU factorization. [L,U,P]=lu(A) returns a lower triangular matrix L, an upper triangular matrix U, and a permutation matrix P so that L*U=P*A. A fourth output Q is available when A is sparse; using it leads to much sparser factors L and U. With two outputs [L,U]=lu(A) , L is a permuted triangular matrix. With a second input, ’vector’ , P and Q are permutation vectors. [pp. 58, 124]  \n",
    "* **pinv** computes the Moore-Penrose pseudo-inverse.  \n",
    "* **qr** computes the QR factorization. [Q,R]=qr(A) returns a unitary matrix Q and an upper triangular matrix R so that Q*R=A. [Q,R,E]=qr(A) computes Q*R=A*E instead. If A is full, E is chosen so that abs(diag(R)) is monotonically decreasing. If A is sparse, E is chosen to reduce the number of nonzeros in R. R=qr(A) returns only R.  \n"
   ]
  },
  {
   "cell_type": "markdown",
   "metadata": {},
   "source": [
    "### D.2.3 Eigenvalues and Singular Values"
   ]
  },
  {
   "cell_type": "markdown",
   "metadata": {},
   "source": [
    "* **eig** computes the eigenvalues and eigenvectors of a matrix, or finds the generalized eigenvalues/eigenvectors. d=eig(A) is a vector of eigenvalues. [V,D]=eig(A) gives A*V=V*D where D is diagonal. [V,D]=eig(A,B) gives A*V=B*V*D. For the sparse case, can only to find eigenvalues for a sparse symmetric A. [p. 26]  \n",
    "* **poly** constructs a polynomial from a set of specified roots, or constructs the characteristic polynomial of a matrix. [p. 150]  \n",
    "* **svd** computes the singular value decomposition. [U,S,V]=svd(A) computes two unitary matrices U and V (with left and right singular vectors) and a diagonal matrix S (containing the singular values) so that U*S*V’=A. The rank, cond, pinv, and null functions rely on svd. Does not work for sparse A.  \n"
   ]
  },
  {
   "cell_type": "markdown",
   "metadata": {},
   "source": [
    "### D.2.4 Factorization"
   ]
  },
  {
   "cell_type": "markdown",
   "metadata": {},
   "source": [
    "* **chol** computes the Cholesky factorization. See p. 175.  \n",
    "* **lu** computes the LU factorization. See p. 175.  \n",
    "* **qr** computes the QR factorization. See p. 175.  \n",
    "* **svd** computes the singular value decomposition. See above.  "
   ]
  },
  {
   "cell_type": "markdown",
   "metadata": {},
   "source": [
    "## D.3 Elementary Math"
   ]
  },
  {
   "cell_type": "markdown",
   "metadata": {},
   "source": [
    "### D.3.1 Trigonometric"
   ]
  },
  {
   "cell_type": "markdown",
   "metadata": {},
   "source": [
    "* **sin** computes the sine in radians.  \n",
    "* **cos** computes the cosine in radians.  \n",
    "* **tan** computes the tangent in radians. tan(x) = sin(x)/ cos(x).  \n",
    "* **sec** computes the secant in radians. sec(x) = 1/ cos(x).  \n",
    "* **csc** computes the cosecant in radians. csc(x) = 1/ sin(x).  \n",
    "* **cot** computes the cotangent in radians. cot(x) = cos(x)/ sin(x).  "
   ]
  },
  {
   "cell_type": "markdown",
   "metadata": {},
   "source": [
    "> Each of the 6 functions above has 6 different variants. Append d for degrees instead of radians. Append h for the hyperbolic version. Prepend a for the inverse. All 36 functions are listed below.\n",
    ">\n",
    "```\n",
    "sin sind sinh asin asind asinh\n",
    "cos cosd cosh acos acosd acosh\n",
    "tan tand tanh atan atand atanh\n",
    "sec secd sech asec asecd asech\n",
    "csc cscd csch acsc acscd acsch\n",
    "cot cotd coth acot acotd acoth\n",
    "```"
   ]
  },
  {
   "cell_type": "markdown",
   "metadata": {},
   "source": [
    "* **atan2** is the four-quadrant version of atan. Use atan2(y,x) instead of atan(y/x) to compute tan−1(y/x).  "
   ]
  },
  {
   "cell_type": "markdown",
   "metadata": {},
   "source": [
    "### D.3.2 Exponential"
   ]
  },
  {
   "cell_type": "markdown",
   "metadata": {},
   "source": [
    "* **exp** computes the exponential of entries in an array. exp(x) is ex for the scalar x. [p. 106]  \n",
    "* **log** computes the exponential of entries in an array. log(x) is logx for the scalar x. [p. 153]  \n",
    "* **log10** computes the base-10 logarithm. [p. 24]  \n",
    "* **log2** computes the base-2 logarithm, and dissects a number x into its mantissa f and integer exponent e, so that x=f*2^e. [p. 46]  \n",
    "* **sqrt** sqrt(A) is the square root of each entry of A. [p. 24]  \n"
   ]
  },
  {
   "cell_type": "markdown",
   "metadata": {},
   "source": [
    "### D.3.3 Complex"
   ]
  },
  {
   "cell_type": "markdown",
   "metadata": {},
   "source": [
    "* **abs** computes the absolute value of each entry in an array. [p. 34]  \n",
    "* **angle** computes the phase angle of each entry in an array.  \n",
    "* **complex** constructs a complex number from two real numbers. complex(A,B) is A+1i*B.  \n",
    "* **conj** computes the complex conjugate of each entry in an array.  \n",
    "* **i** returns the imaginary unit, sqrt(-1) . Often shadowed by the commonly used loop index i. Use 1i instead. See also j . [p. 18]  \n",
    "* **imag** returns the imaginary part of a number. [p. 63]  \n",
    "* **isreal** tests if a variable is real.  \n",
    "* **real** returns the real part of a complex number. [p. 119]  \n",
    "* **sign** returns the sign of a number. sign(x) is 1 if x>0, zero if x==0, and -1 if x<0. [p. 39]  \n"
   ]
  },
  {
   "cell_type": "markdown",
   "metadata": {},
   "source": [
    "### D.3.4 Rounding and Remainder"
   ]
  },
  {
   "cell_type": "markdown",
   "metadata": {},
   "source": [
    "* **ceil** rounds towards +∞. ceil(1.7) is 2 and ceil(-1.7) is -1. [p. 24]  \n",
    "* **fix** rounds towards zero. C=fix(A) rounds each entry in A. fix(1.7) is 1 and fix(-1.7) is -1. The term dates back to the early days of Fortran, which has a function ifix that rounds a floating-point number to a fixed-point integer. [p. 20]  \n",
    "* **floor** rounds towards −∞. floor(1.7) is 1 and floor(-1.7) is -2. [p. 24]  \n",
    "* **mod** computes the modulus after division. m=mod(x,y) is the remainder after the integer division x/y, for the integer division conventionally used in discrete mathematics. [p. 47]  \n",
    "* **rem** computes the remainder after division. r=rem(x,y) is the remainder after the integer division x/y, for the integer division conventionally used in computer programming languages. [p. 24]  \n",
    "* **round** rounds towards the nearest integer. [p. 24]  \n"
   ]
  },
  {
   "cell_type": "markdown",
   "metadata": {},
   "source": [
    "### D.3.5 Discrete Math"
   ]
  },
  {
   "cell_type": "markdown",
   "metadata": {},
   "source": [
    "* **factor** computes the prime factors of a nonnegative integer. Try factor(42) , which is [2 3 7] . prod(factor(n)) is n. [p. 136]  \n",
    "* **factorial** computes the factorial. factorial(n) is n!, or prod(1:n) .  \n"
   ]
  },
  {
   "cell_type": "markdown",
   "metadata": {},
   "source": [
    "## D.4 Polynomials"
   ]
  },
  {
   "cell_type": "markdown",
   "metadata": {},
   "source": [
    "* **conv** performs convolution and polynomial multiplication. Try conv([1 3 2],[3 -2 1]) , which gives [3 7 1 -1 2]) , since (x2 + 3x+ 2)(3x2 − 2x+ 1) = 3x4 + 7x3 + x2 − x+ 2. [p. 152]  \n",
    "* **poly** constructs a polynomial from a set of specified roots, or constructs the characteristic polynomial of a matrix. Try poly([1 2]) , which creates the polynomial (x − 1)(x − 2) = x2 − 3x+ 2, and returns the coefficients [1 -3 2]) . [p. 150]  \n",
    "* **polyfit** fits a polynomial to data. [p. 151]  \n",
    "* **polyval** evaluates a polynomial. Try polyval([1 -3 2], 7) , which evaluates p(7) where p(x) = x2 − 3x+ 2. [p. 151]  \n",
    "* **roots** computes the roots of a polynomial. Try roots([1 -3 2], 7) , which returns the roots [2;1] . [p. 150]  \n"
   ]
  },
  {
   "cell_type": "markdown",
   "metadata": {},
   "source": [
    "## D.5 Interpolation and Computational Geometry"
   ]
  },
  {
   "cell_type": "markdown",
   "metadata": {},
   "source": [
    "### D.5.1 Interpolation"
   ]
  },
  {
   "cell_type": "markdown",
   "metadata": {},
   "source": [
    "* **interp1** interpolates a 1-D function. Try x=0:.1:2*pi; y=sin(x); interp1(x,y,pi) for an interpolation of sin( ) using a coarse grid.  \n",
    "* **meshgrid** creates X, Y, and Z arrays for 3-D plots. [p. 114]  \n",
    "* **ndgrid** creates X, Y, and Z arrays for plots of N-D functions.  \n",
    "* **spline** constructs a cubic spline interpolation. [p. 152]  \n"
   ]
  },
  {
   "cell_type": "markdown",
   "metadata": {},
   "source": [
    "### D.5.2 Domain Generation"
   ]
  },
  {
   "cell_type": "markdown",
   "metadata": {},
   "source": [
    "* **meshgrid** creates X, Y, and Z arrays for 3-D plots. [p. 114]  \n",
    "* **ndgrid** creates X, Y, and Z arrays for plots of N-D functions.  "
   ]
  },
  {
   "cell_type": "markdown",
   "metadata": {},
   "source": [
    "## D.6 Nonlinear Numerical Methods"
   ]
  },
  {
   "cell_type": "markdown",
   "metadata": {},
   "source": [
    "### D.6.1 Ordinary Differential Equations"
   ]
  },
  {
   "cell_type": "markdown",
   "metadata": {},
   "source": [
    "* **ode45** is the primary ODE solver in MATLAB. [p. 157]  \n",
    "* **odeset** creates an options struct for ODE solvers.  \n"
   ]
  },
  {
   "cell_type": "markdown",
   "metadata": {},
   "source": [
    "### D.6.2 Optimization"
   ]
  },
  {
   "cell_type": "markdown",
   "metadata": {},
   "source": [
    "* **fminsearch** finds the minimum of a function. Try fminsearch(@cos,3) , which finds a 6-digit approximation of pi. [p. 157]  \n",
    "* **fzero** finds a root of a continuous function. Try fzero(@sin,3) , which finds pi. [p. 155]  \n",
    "* **optimset** creates an options struct for optimization functions.  \n"
   ]
  },
  {
   "cell_type": "markdown",
   "metadata": {},
   "source": [
    "### D.6.3 Numerical Integration (Quadrature)"
   ]
  },
  {
   "cell_type": "markdown",
   "metadata": {},
   "source": [
    "* **quad** performs numerical integration. Try quad(@sin,0,pi) , and compare with syms x; int(sin(x),0,pi) . [p. 153]  "
   ]
  },
  {
   "cell_type": "markdown",
   "metadata": {},
   "source": [
    "## D.7 Specialized Math"
   ]
  },
  {
   "cell_type": "markdown",
   "metadata": {},
   "source": [
    "* **besselj** computes the Bessel function of the first kind, J (z).  \n",
    "* **beta** computes the Beta function, B(x, y).  \n",
    "* **gamma** computes the Gamma function, Γ(a). For positive integers, Γ(n) = (n − 1)!.  \n",
    "* **psi** computes the psi (polygamma) function, k(x).  \n"
   ]
  },
  {
   "cell_type": "markdown",
   "metadata": {},
   "source": [
    "## D.8 Sparse Matrices"
   ]
  },
  {
   "cell_type": "markdown",
   "metadata": {},
   "source": [
    "* **find** finds indices and values of nonzeros. i=find(A) returns 1-D indices ofall nonzeros in a full or sparse matrix A. i=find(A,k) returns just the first k entries; add the string ’last’ as a third argument to get the last k. [i,j,x]=find(A, ...) returns 2-D indices and values x, so that x(k)=A(i(k),j(k)) is the kth nonzero in A. [p. 28]  \n",
    "* **full** converts a matrix to a full representation. [p. 120]  \n",
    "* **sparse** builds a sparse matrix from a list of entries (via S=sparse(i,j,x) ) or converts a full matrix to a sparse representation (via S=sparse(A) ). sparse(m,n) is an all-zero m-by-n sparse matrix. You should normally not create a sparse matrix S=sparse(A) from a full matrix A. Use S=sparse(i,j,x) instead, which builds a sparse matrix from three vectors containing a list of nonzero entries. [p. 122]  \n",
    "* **nnz** finds the number of nonzeros in a matrix (whether sparse or full). [p. 120]  \n",
    "* **randperm** constructs a pseudo-random permutation. randperm(n) is a permutation of 1:n.  \n"
   ]
  },
  {
   "cell_type": "markdown",
   "metadata": {},
   "source": [
    "## D.9 Math Constants"
   ]
  },
  {
   "cell_type": "markdown",
   "metadata": {},
   "source": [
    "* **eps** determines the floating-point relative accuracy. eps is the smallest number so that 1+eps>eps. eps(x) is the distance to the next floating-point number larger than x. On most computers, eps is 2−52), or about 2.2 × 10−16. [p. 39]  \n",
    "* **i** returns the imaginary unit, sqrt(-1) . Often shadowed by the commonly used loop index i. Use 1i instead. See also j . [p. 18]  \n",
    "* **inf** is the IEEE representation of ∞. Also appears as Inf. The syntax of inf is the same as zeros, ones, and nan (for creating a matrix of Inf’s). [p. 132]  \n",
    "* **nan** is the IEEE representation of Not-a-Number (the result of dividing zero by zero, for example). Also appears as NaN. The syntax of nan is the same as zeros, ones, and inf (for creating a matrix of NaN’s). NaN’s propagate, since any computation with a NaN produces a NaN. Comparisons with NaN always return 0 (false). Thus, x==x is true for all numbers except for x=nan.  \n",
    "* **pi** is a 16-digit approximation to . [p. 6]  \n"
   ]
  },
  {
   "cell_type": "code",
   "execution_count": null,
   "metadata": {
    "collapsed": true
   },
   "outputs": [],
   "source": []
  }
 ],
 "metadata": {
  "kernelspec": {
   "display_name": "Python [default]",
   "language": "python",
   "name": "python3"
  },
  "language_info": {
   "codemirror_mode": {
    "name": "ipython",
    "version": 3
   },
   "file_extension": ".py",
   "mimetype": "text/x-python",
   "name": "python",
   "nbconvert_exporter": "python",
   "pygments_lexer": "ipython3",
   "version": "3.5.2"
  }
 },
 "nbformat": 4,
 "nbformat_minor": 1
}
