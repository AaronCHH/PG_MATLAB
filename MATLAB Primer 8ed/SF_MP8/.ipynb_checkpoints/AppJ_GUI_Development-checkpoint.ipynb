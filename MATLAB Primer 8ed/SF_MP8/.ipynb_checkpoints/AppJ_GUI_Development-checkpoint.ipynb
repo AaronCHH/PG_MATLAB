{
 "cells": [
  {
   "cell_type": "markdown",
   "metadata": {},
   "source": [
    "# J GUI Development"
   ]
  },
  {
   "cell_type": "markdown",
   "metadata": {},
   "source": [
    "## J.1 Predefined Dialog Boxes"
   ]
  },
  {
   "cell_type": "markdown",
   "metadata": {},
   "source": [
    "* **errordlg** displays an error dialog. Try errordlg('ack!') .  \n",
    "* **inputdlg** displays an input dialog. Try inputdlg('x:') .  \n",
    "* **msgbox** displays a message box. Try msgbox('done') .  \n",
    "* **questdlg** displays a question box. Try questdlg('go?') .  \n",
    "* **uigetdir** displays a dialog box for selecting a directory.  \n",
    "* **uigetfile** displays a dialog box for accessing files.  \n",
    "* **uiputfile** displays a dialog box for saving files.  \n",
    "* **waitbar** displays a wait bar. Try h=waitbar(0,'working'); and then for x=0:.1:1, waitbar(x,h), pause(1), end.  \n",
    "* **warndlg** displays a warning dialog.  "
   ]
  },
  {
   "cell_type": "markdown",
   "metadata": {},
   "source": [
    "## J.2 User Interface Deployment"
   ]
  },
  {
   "cell_type": "markdown",
   "metadata": {},
   "source": [
    "* **guidata** stores or retrieves GUI data.  \n",
    "* **guihandles** returns all handles in a figure.  \n",
    "* **movegui** moves a GUI figure to a specified screen location.  \n",
    "* **openfig** opens a figure from a .fig file.  "
   ]
  },
  {
   "cell_type": "markdown",
   "metadata": {},
   "source": [
    "## J.3 User Interface Development"
   ]
  },
  {
   "cell_type": "markdown",
   "metadata": {},
   "source": [
    "* **getappdata** gets the value of application-defined GUI data.  \n",
    "* **getpref** gets the current setting of a preference.  \n",
    "* **ginput** gets graphical input from the mouse or cursor.  \n",
    "* **guidata** stores or retrieves GUI data.  \n",
    "* **isappdata** tests if application-defined data exists.  \n",
    "* **rmappdata** removes application-defined data from an object.  \n",
    "* **setappdata** sets the value of application-defined GUI data.  \n",
    "* **waitfor** pauses until a specified condition occurs.  \n",
    "* **waitforbuttonpress** pauses for the user input.  "
   ]
  },
  {
   "cell_type": "markdown",
   "metadata": {},
   "source": [
    "## J.4 User Interface Objects"
   ]
  },
  {
   "cell_type": "markdown",
   "metadata": {},
   "source": [
    "* **menu** creates a GUI menu.  \n",
    "* **uicontextmenu** creates a (right-click) context menu.  \n",
    "* **uicontrol** creates a user interface object. [p. 118]  \n",
    "* **uimenu** creates a user-interface menu.  \n",
    "* **uipanel** creates a panel for grouping components.  "
   ]
  },
  {
   "cell_type": "markdown",
   "metadata": {},
   "source": [
    "## J.5 Objects from Callbacks"
   ]
  },
  {
   "cell_type": "markdown",
   "metadata": {},
   "source": [
    "* **findall** finds all graphics objects.  \n",
    "* **findobj** finds a graphics object with specific properties.  \n",
    "* **gcbf** returns the figure handle of a callback function. [p. 118]  \n",
    "* **gcbo** returns the object handle of a callback function.  "
   ]
  },
  {
   "cell_type": "markdown",
   "metadata": {},
   "source": [
    "## J.6 Program Execution"
   ]
  },
  {
   "cell_type": "markdown",
   "metadata": {},
   "source": [
    "* **uiresume** resumes execution after uiwait. Typically used in a callback function. [p. 118]  \n",
    "* **uiwait** pauses execution until uiresume is called. [p. 118]  "
   ]
  },
  {
   "cell_type": "code",
   "execution_count": null,
   "metadata": {
    "collapsed": true
   },
   "outputs": [],
   "source": []
  }
 ],
 "metadata": {
  "kernelspec": {
   "display_name": "Python [default]",
   "language": "python",
   "name": "python3"
  },
  "language_info": {
   "codemirror_mode": {
    "name": "ipython",
    "version": 3
   },
   "file_extension": ".py",
   "mimetype": "text/x-python",
   "name": "python",
   "nbconvert_exporter": "python",
   "pygments_lexer": "ipython3",
   "version": "3.5.2"
  }
 },
 "nbformat": 4,
 "nbformat_minor": 1
}
