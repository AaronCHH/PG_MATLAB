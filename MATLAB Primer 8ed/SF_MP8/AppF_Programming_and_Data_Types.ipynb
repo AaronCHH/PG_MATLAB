{
 "cells": [
  {
   "cell_type": "markdown",
   "metadata": {},
   "source": [
    " # F Programming and Data Types\n",
    " ## F.1 Data Types\n",
    " ### F.1.1 Numeric Types"
   ]
  },
  {
   "cell_type": "markdown",
   "metadata": {},
   "source": [
    "* **cat** concatenate arrays. See p. 173.  \n",
    "* **class** returns the class of a variable as a string. class(eye(2)) is 'double', class(@log) is 'function_handle' , and class('s') is 'char' , for example. find returns the indices and values of nonzeros in a matrix. See p. 180.  \n",
    "* **isa** tests whether a variable is from a given class (isa(x,'double') , for example). See p. 188.  \n",
    "* **isequal** tests two variables for equality. See p. 170.  \n",
    "* **isfinite** tests if a number is finite (not +inf, -inf, or nan).  \n",
    "* **isinf** tests if a number is +inf or -inf.  \n",
    "* **isnan** tests if a number is a NaN.  \n",
    "* **isnumeric** tests if a variable has a numeric type. See p. 188.  \n",
    "* **isreal** tests if a variable is real (as opposed to complex).  \n",
    "* **isscalar** tests if a variable is a scalar.  \n",
    "* **isvector** tests if a variable is a vector. See p. 170.  \n",
    "* **permute** rearranges the dimensions of an N-D array. See p. 173.  \n",
    "* **reshape** reshapes an array. See p. 174.  \n",
    "* **squeeze** removes singleton dimensions. See p. 174.  \n",
    "* **zeros** returns an array of all zeros. See p. 172.  "
   ]
  },
  {
   "cell_type": "markdown",
   "metadata": {},
   "source": [
    " ### F.1.2 Characters and Strings"
   ]
  },
  {
   "cell_type": "markdown",
   "metadata": {},
   "source": [
    "* **cellstr** creates a cell array of strings from a character array. If S is m-by-n, then C=cellstr(S) is a cell array of length m, with each entry a row of S.  \n",
    "* **char** converts an array of integers to a character array. [p. 101]  \n",
    "* **eval** executes MATLAB expressions or statements from a string. See p. 198.  \n",
    "* **findstr** Finds strings within another string. Use strfind instead.  \n",
    "* **regexp** searches a string for a regular expression, which is a kind string that can match many strings. For example, to search for a digit followed by a colon, try s=datestr(now), regexp(s,’[0-9]:’) .  \n",
    "* **sprintf** creates a formatted string of other numbers and  \n",
    "* **strings**, with tight control over how they are displayed. [p. 162]  \n",
    "* **sscanf** reads formatted data from a string, with a format string similar to the one used by fprintf.  \n",
    "* **strcat** concatenates strings horizontally. See p. 192.  \n",
    "* **strcmp** compares strings. See p. 193.  \n",
    "* **strcmpi** is a case-insensitive version of strcmp. See p. 193.  \n",
    "* **strfind** determines if one string is a substring of another string. Try strfind(’look in this book’,’oo’) , which gives [2 15] .  \n",
    "* **strmatch** determines if one string is a prefix of another. See p. 194.  \n",
    "* **strrep** finds and replaces substrings. strrep(s,a,b) replaces all occurrences of the substring a with b in the string s.  \n",
    "* **strtrim** removes leading and trailing spaces.  "
   ]
  },
  {
   "cell_type": "markdown",
   "metadata": {},
   "source": [
    " ### F.1.3 Structures"
   ]
  },
  {
   "cell_type": "markdown",
   "metadata": {},
   "source": [
    "* **class** determines the class of a variable. See p. 184.  \n",
    "* **deal** distributes inputs to outputs. Useful for assigning fields of a struct array from a cell array. If s is a 1-by-4 struct array, try c={1,2,3,4}; [s.f]=deal(c{:}) , which is the same as for i=1:4, s(i).f=c{i}; end.  \n",
    "* **fieldnames** returns a cell array of strings with the name of each member ofa struct or object.  \n",
    "* **getfield** gets one or more fields from a struct.  \n",
    "* **getfield**(x,'y') is the same as x.y.  \n",
    "* **isa** tests whether a variable is from a given class (isa(s,'struct') , for example). See p. 188.  \n",
    "* **isequal** tests two structs for equality. The order of members of each struct does not matter. See p. 170.  \n",
    "* **isfield** checks for a member of a struct. isfield(x,'s') is true if x.s is a member of the struct x. Use isfield(x,c) where c is a cell array to check for multiple fields.  \n",
    "* **isscalar** tests if a variable is a scalar. A 1-by-1 struct is considered scalar, even if it contains multiple members or array members.  \n",
    "* **isstruct** tests if a variable is a struct. See p. 188.  \n",
    "* **isvector** tests if a variable is a vector. See p. 170.  \n",
    "* **rmfield** removes fields from a struct.  \n",
    "* **setfield** sets fields in a struct.  \n",
    "* **struct** creates a struct array. Try x.a=1; x.b='s' , which can also be done with x=struct('a',1,'b','s') . [p. 54]  \n",
    "* **struct2cell** converts a struct to a cell array. See p. 187. "
   ]
  },
  {
   "cell_type": "markdown",
   "metadata": {},
   "source": [
    " ### F.1.4 Cell Arrays"
   ]
  },
  {
   "cell_type": "markdown",
   "metadata": {},
   "source": [
    "* **cell** constructs an empty cell array. cell(m,n) is a m-by-n cell array, with every entry equal to the empty array ([] ). [p. 53] cell2mat constructs a matrix from a cell array of matrices. See p. 190.  \n",
    "* **cellfun** applies a function to each entry of a cell array.  \n",
    "* **cellstr** creates a cell array of strings from a character array. See p. 185.  \n",
    "* **class** determines the class of a variable. See p. 184.  \n",
    "* **deal** distributes inputs to outputs. See p. 186.  \n",
    "* **isa** tests whether a variable is from a given class (isa(c,’cell’) , for example). See p. 188.  \n",
    "* **iscell** tests if a variable is a cell array. See p. 188.  \n",
    "* **iscellstr** tests if a variable is a cell array of strings.  \n",
    "* **isequal** tests two cell arrays for equality. See p. 170.  \n",
    "* **isscalar** tests if a variable is a scalar. A 1-by-1 cell array is a scalar, even if it contains an array. Try isscalar({rand(4)}) .  \n",
    "* **isvector** tests if a variable is a vector. See p. 170.  \n",
    "* **num2cell** converts a numeric array into a cell array, placing each entry in its own cell. See p. 190.  \n",
    "* **struct2cell** converts a struct to a cell array, placing each field in its own cell.  "
   ]
  },
  {
   "cell_type": "markdown",
   "metadata": {},
   "source": [
    " ### F.1.5 Function Handles"
   ]
  },
  {
   "cell_type": "markdown",
   "metadata": {},
   "source": [
    "* **class** determines the class of a variable. See p. 184.  \n",
    "* **feval** evaluates a function via a function handle.  \n",
    "* **feval**(@f,x) is the same as f(x) for the function handle @f.  \n",
    "* **feval** remains in MATLAB for historical reasons.  \n",
    "* **isa** tests whether a variable is from a given class (isa(f,’function_handle’) , for example). See p. 188.  \n",
    "* **isequal** tests two function handles for equality. See p. 170.  \n",
    "* **str2func** constructs a function handle from a string.  \n",
    "* **str2func**(’f’) is the same as @f. [p. 68]  "
   ]
  },
  {
   "cell_type": "markdown",
   "metadata": {},
   "source": [
    " ### F.1.6 Data Type Identification "
   ]
  },
  {
   "cell_type": "markdown",
   "metadata": {},
   "source": [
    "* **isa** tests whether a variable is from a given class.  \n",
    "* **isa(x,'struct')** is true if x is a struct, for example. Classes include logical, char, numeric (integer or floating-point), integer, float, int8 (and variants), single, double, cell, struct, function_handle, and any MATLAB or Java class.  \n",
    "* **iscell** tests if a variable is a cell array. Same as isa(x,'cell') .  \n",
    "* **iscellstr** tests if a variable is a cell array of strings.  \n",
    "* **ischar** tests if a variable is a string (a char array). Same as isa(x,'char') . [p. 70]  \n",
    "* **isfield** checks for a member of a struct. See p. 186.  \n",
    "* **islogical** tests if a variable is logical. Same as isa(x,'logical') .  \n",
    "* **isnumeric** tests if a variable has a numeric type (integer or floating-point). Same as isa(x,'numeric') .  \n",
    "* **isreal** tests if a variable is real (as opposed to complex).  \n",
    "* **isstruct** tests if a variable is a struct. Same as isa(x,'struct') .  \n",
    "* **whos** lists variables in the workspace. See p. 166.  "
   ]
  },
  {
   "cell_type": "markdown",
   "metadata": {},
   "source": [
    " ### F.2 Data Type Conversion\n",
    "\n",
    "### F.2.1 Numeric"
   ]
  },
  {
   "cell_type": "markdown",
   "metadata": {},
   "source": [
    "* **double** converts numbers to IEEE double precision. [p. 56]  \n",
    "* **int16** converts numbers to 16-bit signed integers.  \n",
    "* **int32** converts numbers to 32-bit signed integers.  \n",
    "* **single** converts numbers to IEEE single precision. Computations in single are less accurate than double, but can be faster. [p. 56]  \n",
    "* **uint8** converts numbers to 8-bit unsigned integers. Often used for images. [p. 56]  \n",
    "* **uint16** converts numbers to 16-bit unsigned integers.  "
   ]
  },
  {
   "cell_type": "markdown",
   "metadata": {},
   "source": [
    " ### F.2.2 String to Numeric"
   ]
  },
  {
   "cell_type": "markdown",
   "metadata": {},
   "source": [
    "* **hex2dec** converts a string with a hexadecimal number to a number. hex2dec('1F') is 31.  \n",
    "* **str2double** converts a string to a single number.  \n",
    "* **str2double**('3.14') is the number 3.14. str2double(c) with a cell array of strings converts each entry in c. [p. 19]  \n",
    "* **str2num** converts a string to one or more numbers, via eval. Use str2double to avoid side-effects of functions in the string. [p. 19]  "
   ]
  },
  {
   "cell_type": "markdown",
   "metadata": {},
   "source": [
    " ### F.2.3 Numeric to String"
   ]
  },
  {
   "cell_type": "markdown",
   "metadata": {},
   "source": [
    "* **char** converts an array of integers to a character array. [p. 101]  \n",
    "* **dec2bin** converts a number to a string, in binary.  \n",
    "* **int2str** converts an integer to a formatted string, for display. Try int2str(magic(5)) .  \n",
    "* **mat2str** converts an integer to a formatted string, for display or evaluation. Try mat2str(magic(5)) .  \n",
    "* **num2str** converts a numeric array to a string, for display.  \n",
    "* **num2str**(A) uses the default format %11.4g (a width of 11, with 4 digits displayed).   \n",
    "* **num2str**(pi,8) displays 8 digits of , and  \n",
    "* **num2str**(A,s) uses the format string s (like fprintf). [p. 163]  "
   ]
  },
  {
   "cell_type": "markdown",
   "metadata": {},
   "source": [
    " ### F.2.4 Other Conversions"
   ]
  },
  {
   "cell_type": "markdown",
   "metadata": {},
   "source": [
    "* **cell2mat** constructs a matrix from a cell array of matrices. Try A=magic(5) and C=num2cell(A) . Then cell2mat(C) reconstructs A. For the 2-D case, the matrices in each row of the cell array (C{i,:}) must all have the same number of rows, and the matrices in each column (C{:,j}) must all have the same number of columns.  \n",
    "* **datestr** converts the result from clock or now into a string. See p. 196.  \n",
    "* **logical** converts an array to logical. See p. 195.  \n",
    "* **num2cell** converts a numeric array into a cell array, placing each entry in its own cell. Try A=magic(5); C=num2cell(A) , which creates a cell array C so that C{i,j}=A(i,j) .   \n",
    "* **str2func** constructs a function handle from a string. See p. 188.  \n",
    "* **struct2cell** converts a struct to a cell array. See p. 187.  "
   ]
  },
  {
   "cell_type": "markdown",
   "metadata": {},
   "source": [
    " ## F.3 Operators and Special Characters"
   ]
  },
  {
   "cell_type": "markdown",
   "metadata": {},
   "source": [
    "[See pp. 14–16, 33, 123, and 142 for a discussion of each operator.]"
   ]
  },
  {
   "cell_type": "markdown",
   "metadata": {},
   "source": [
    " ### F.3.1 Arithmetic Operators"
   ]
  },
  {
   "cell_type": "markdown",
   "metadata": {},
   "source": [
    "* **A+B**   adds two matrices, or a matrix and a scalar\n",
    "* **A-B**   subtracts two matrices, or a matrix and a scalar\n",
    "* **-A**    negates the matrix A\n",
    "* **A*B**   multiplies two matrices, or a matrix and a scalar\n",
    "* **B/A**   solves XA = B. Use in place of B*inv(A)\n",
    "* **A\\B**   solves AX = B. Use in place of inv(A) *B\n",
    "* **A^B**   A to the power B. A or B must be a scalar\n",
    "* **A.*B**  element-wise array multiplication\n",
    "* **A./B**  element-wise array right division\n",
    "* **A.\\B**  element-wise array left division\n",
    "* **A.^B**  element-wise array power\n",
    "* **A'**    matrix transpose (complex conjugate, if complex)\n",
    "* **A.'**   array transpose (not complex conjugate)"
   ]
  },
  {
   "cell_type": "markdown",
   "metadata": {},
   "source": [
    " ### F.3.2 Relational Operators"
   ]
  },
  {
   "cell_type": "markdown",
   "metadata": {},
   "source": [
    "* **A<B**   less than  \n",
    "* **A<=B**  less than or equal to  \n",
    "* **A>B**   greater than  \n",
    "* **A=>B**  greater than or equal to  \n",
    "* **A==B**  equal to  \n",
    "* **A~=B**  not equal to  "
   ]
  },
  {
   "cell_type": "markdown",
   "metadata": {},
   "source": [
    " ### F.3.3 Logical Operators"
   ]
  },
  {
   "cell_type": "markdown",
   "metadata": {},
   "source": [
    "* **A&&B**  short-circuit logical and (scalars only)\n",
    "* **A||B**  short-circuit logical or (scalars only)\n",
    "* **A&B**   logical and\n",
    "* **A|B**   logical or\n",
    "* **~A**    logical not"
   ]
  },
  {
   "cell_type": "markdown",
   "metadata": {},
   "source": [
    " ### F.3.4 Special Characters"
   ]
  },
  {
   "cell_type": "markdown",
   "metadata": {},
   "source": [
    "* **=**     assignment [p. 3]  \n",
    "* **:**     colon operator [pp. 19–22]  \n",
    "* **()**    input parameters, precedence, subscript [pp. 5, 13]  \n",
    "* **[]**    output parameters, construct array [pp. 4, 26]  \n",
    "* **{}**    construct and subscript cell array [p. 53]  \n",
    "* *3.14**   decimal point [p. 4]  \n",
    "* *A.B**    member of struct or object [pp. 53, 58]  \n",
    "* **A.(B)** dynamic member of struct or object [p. 55]  \n",
    "* **..**    parent folder [p. 8]  \n",
    "* **...**   continue statement on next line [p. 4]  \n",
    "* **,**     array rows, parameters, statements [pp. 4, 13]  \n",
    "* **;**     array columns, terminate statement [pp. 4, 13]  \n",
    "* **%**     comment [p. 42]  \n",
    "* **%%**    code cell [p. 43]  \n",
    "* **%{**    start block comment [p. 43]  \n",
    "* **%}**    end block comment [p. 43]  \n",
    "* **!**     system command [p. 103]  \n",
    "* ***s***   character string [p. 18]  \n",
    "* **@**     object class folder, function handle [pp. 61, 67]  \n",
    "* **~**     unused argument [p. 42]  \n",
    "* **<**     inheritance [p. 62]  "
   ]
  },
  {
   "cell_type": "markdown",
   "metadata": {},
   "source": [
    " ## F.4 Strings"
   ]
  },
  {
   "cell_type": "markdown",
   "metadata": {},
   "source": [
    " ### F.4.1 String Creation"
   ]
  },
  {
   "cell_type": "markdown",
   "metadata": {},
   "source": [
    "* **blanks** creates a string of blanks.  \n",
    "* **cellstr** creates a cell array of strings from a character array. See p. 185.  \n",
    "* **char** converts an array of integers to a character array. [p. 101]  \n",
    "* **sprintf** creates a formatted string. See p. 185.  \n",
    "* **strcat** concatenations strings horizontally. strcat(s1,s2) is like [s1,s2] , except that strcat removes trailing spaces.  "
   ]
  },
  {
   "cell_type": "markdown",
   "metadata": {},
   "source": [
    " ### F.4.2 String Identification"
   ]
  },
  {
   "cell_type": "markdown",
   "metadata": {},
   "source": [
    "* **isa** tests whether a variable is from a given class (isa(s,'char') , for example). See p. 188.\n",
    "* **iscellstr** tests if a variable is a cell array of strings.\n",
    "* **ischar** tests if a variable is a string (a char array). Same as isa(x,'char') . [p. 70]\n",
    "* **isscalar** tests if a variable is a scalar. Try isscalar('a') and isscalar('ab') .\n",
    "* **isspace** tests if a variable is whitespace (space, tab, return, ...).\n",
    "* **isvector** tests if a variable is a vector. See p. 170."
   ]
  },
  {
   "cell_type": "markdown",
   "metadata": {},
   "source": [
    " ### F.4.3 String Manipulation"
   ]
  },
  {
   "cell_type": "markdown",
   "metadata": {},
   "source": [
    "* **deblank** removes trailing blanks from the end of a string.  \n",
    "* **deblank(c)** for a cell array of strings operates on all strings in c.  \n",
    "* **lower** converts a string to lower case. lower(c) for a cell array of strings c operations on all the strings in c.  \n",
    "* **strrep** finds and replaces substrings. See p. 185.  \n",
    "* **strtrim** removes leading and trailing spaces.  \n",
    "* **upper** converts a string to upper case. upper(c) for a cell array of strings c operations on all the strings in c.  "
   ]
  },
  {
   "cell_type": "markdown",
   "metadata": {},
   "source": [
    " ### F.4.4 String Parsing"
   ]
  },
  {
   "cell_type": "markdown",
   "metadata": {},
   "source": [
    "* **findstr** Finds strings within another string. Use strfind instead.  \n",
    "* **regexp** searches a string for a regular expression. See p. 185.  \n",
    "* **regexprep** finds and replaces a substring using a regular expression.  \n",
    "* **sscanf** reads formatted data from a string, with a format string similar to the one used by fprintf.  \n",
    "* **strfind** determines if one string is a substring of another string. See p. 185.  \n",
    "* **strtok** extracts tokens from a string. Try [t,r]=strtok('this is a string') , which gives the token t='this' and the remainder r=' is a string' .  "
   ]
  },
  {
   "cell_type": "markdown",
   "metadata": {},
   "source": [
    " ### F.4.5 String Evaluation"
   ]
  },
  {
   "cell_type": "markdown",
   "metadata": {},
   "source": [
    "* **eval** executes MATLAB expressions or statements from a string. Avoid whenever possible. See p. 198.  \n",
    "* **evalin** evaluates MATLAB expressions or statements from a string in the workspace of the caller, or in the base workspace. Avoid whenever possible. See p. 198.  "
   ]
  },
  {
   "cell_type": "markdown",
   "metadata": {},
   "source": [
    " ### F.4.6 String Comparison"
   ]
  },
  {
   "cell_type": "markdown",
   "metadata": {},
   "source": [
    "* **strcmp** compares strings. strcmp(a,b) is 1 ifthey are identical, 0 otherwise. To compare multiple strings, one or both arguments can be a cell array of strings. [p. 19]  \n",
    "* **strcmpi** is a case-insensitive version of strcmp. [p. 19]  \n",
    "\n",
    "* **strmatch** determines if one string is a prefix of another.  \n",
    "* **strmatch(s,c)** finds the strings in the character array or cell array of strings c that have the string s as a prefix. With a third argument ’exact’ , only exact matches are sought.  \n",
    "* **strncmp** compares the first n characters of strings. Otherwise identical to strcmp.  \n",
    "* **strncmpi** is a case-insensitive version of strncmp.  "
   ]
  },
  {
   "cell_type": "markdown",
   "metadata": {},
   "source": [
    " ## F.5 Bit-Wise Operations"
   ]
  },
  {
   "cell_type": "markdown",
   "metadata": {},
   "source": [
    "Bit-wise operations can be performed only on unsigned integers, or arrays of unsigned integers.\n",
    "* **bitand** computes a bitwise and.  \n",
    "* **bitcmp** computes a bitwise not.  \n",
    "* **bitget** extracts a bit. bitget(A,1) is 1 if A is odd.  \n",
    "* **bitor** computes a bitwise or.  \n",
    "* **bitset** sets a bit.  \n",
    "* **bitshift** shifts bits left or right.  \n",
    "* **bitxor** computes a bitwise xor.  "
   ]
  },
  {
   "cell_type": "markdown",
   "metadata": {},
   "source": [
    " ## F.6 Logical Operations"
   ]
  },
  {
   "cell_type": "markdown",
   "metadata": {},
   "source": [
    "* **all** is the ∀ logical quantifier. all(x) is true ifall entries in the vector x are nonzero. all(A) for a matrix computes a result for each column. [p. 51]  \n",
    "* **and** is the logical and. and(A,B) is (A&B) . [p. 16]  \n",
    "* **any** is the ∃ logical quantifier. any(x) is true ifany entries in the vector x are nonzero. any(A) for a matrix computes a result for each column. [p. 51]  \n",
    "* **false** returns logical 0, for false, or an array of logical 0’s. Its syntax is essentially the same as zeros. [p. 17]  \n",
    "* **find** returns the indices and values of nonzeros in a matrix. See p. 180.  \n",
    "* **logical** converts an array to logical. logical(A) is (A~=0) . [p. 31]  \n",
    "* **not** is the logical not. not(A) is (~A) . [p. 16]  \n",
    "* **or** is the logical or. or(A,B) is (A|B) . [p. 16]  \n",
    "* **true** returns logical 1, for true, or an array of logical 1’s. Its syntax is essentially the same as ones. [p. 17]  \n",
    "* **xor** is the logical xor. xor(A,B) is (A|B)&(~(A&B)) , which is  \n",
    "* **true** if either A or B are true, but not both. [p. 16]  "
   ]
  },
  {
   "cell_type": "markdown",
   "metadata": {},
   "source": [
    " ## F.7 Relational Operations"
   ]
  },
  {
   "cell_type": "markdown",
   "metadata": {},
   "source": [
    "* **eq** equal. eq(A,B) is (A==B) . [p. 33]  \n",
    "* **ge** greater than or equal. ge(A,B) is (A>=B) . [p. 33]  \n",
    "* **gt** greater than. gt(A,B) is (A>B) . [p. 33]  \n",
    "* **le** less than or equal to. le(A,B) is (A<=B) . [p. 33]  \n",
    "* **lt** less than. lt(A,B) is (A<B) . [p. 33]  \n",
    "* **ne** not equal. ne(A,B) is (A~=B) . [p. 33]  "
   ]
  },
  {
   "cell_type": "markdown",
   "metadata": {},
   "source": [
    " ## F.8 Set Operations"
   ]
  },
  {
   "cell_type": "markdown",
   "metadata": {},
   "source": [
    "Sets are represented as vectors of numbers, characters, or cell arrays of strings.\n",
    "* **intersect** computes the intersection of two sets. [p. 55]  \n",
    "* **ismember** tests if an element is a member of a set. [p. 55]  \n",
    "* **setdiff** computes the set difference of two sets. [p. 55]  \n",
    "* **union** computes the union of two sets. [p. 55]  \n",
    "* **unique** finds the unique elements of a set. [p. 55]  "
   ]
  },
  {
   "cell_type": "markdown",
   "metadata": {},
   "source": [
    " ## F.9 Date and Time Operations"
   ]
  },
  {
   "cell_type": "markdown",
   "metadata": {},
   "source": [
    "* **clock**  returns the current time as a date vector ([year month day hour minute seconds] ). The seconds term has a fractional part; all others are integers.  \n",
    "* **cputime**  returns the total CPU time (in seconds) used by MATLAB since the application started. Not recommended for performance evaluation, since it can wrap around when the internal representation overflows. [p. 73]  \n",
    "* **date**  returns today's date as a string (excluding the hours, minutes, and seconds).  \n",
    "* **datenum**  converts a date string to a serial date number. datenum is the inverse of datestr. Try datenum(date) and datenum('1-Jan-0000') .  \n",
    "* **datestr**  converts the result from clock or now into a string. Try datestr(now) .  \n",
    "* **etime**  returns the elapsed time in seconds between two date vectors (as returned by clock).  \n",
    "* **now**  returns the current time as a serial date number (the number of days since December 31, 2BC, in the Gregorian calendar).  \n",
    "* **tic**  starts a stopwatch timer. Find the elapsed time of a statement with tic; statement; toc. For multiple timers, use s=tic with t=toc(s) , where t is the time since s was started. [p. 73]  \n",
    "* **toc**  reads a stopwatch timer. t=toc gives the time since the last tic. [p. 73]  "
   ]
  },
  {
   "cell_type": "markdown",
   "metadata": {},
   "source": [
    " ## F.10 Programming in MATLAB"
   ]
  },
  {
   "cell_type": "markdown",
   "metadata": {},
   "source": [
    " ### F.10.1 Functions and Scripts"
   ]
  },
  {
   "cell_type": "markdown",
   "metadata": {},
   "source": [
    "* **echo** controls the display of statements as they are executed.  \n",
    "* **end** defines the last line of a block of code. See p. 200. function is the first line of any M-file function. function [a,b]=f(x,y) declares a function with two inputs x and y and two outputs a and b. [p. 39]  \n",
    "* **input** prompts the user for keyboard input. [p. 72]  \n",
    "* **inputname** returns the name of an input parameter to a function, as a string.  \n",
    "* **mfilename** returns the filename of the currently-running function.  \n",
    "* **nargchk** checks if the number of input arguments is valid.  \n",
    "* **nargin** is the number of input arguments passed to a function. [p. 41]  \n",
    "* **nargout** is the number of output arguments expected from a function. nargout is zero ifthe result is ans. [p. 41]  \n",
    "* **nargoutchk** checks if the number of output arguments is valid.  \n",
    "* **varargin** specifies a variable input argument list. In the function statement ofan M-file, use varargin as the last input argument to collect an arbitrary number of arguments. These are placed in a cell array of the same name. [p. 41]  \n",
    "* **varargout** specifies a variable output argument list. In the  \n",
    "* **function** statement ofan M-file, use varargout as the last  \n",
    "* **output** argument. Then inside the function, assign outputs to varargout{1}, varargout{2}, and so on. [p. 42]  \n"
   ]
  },
  {
   "cell_type": "markdown",
   "metadata": {},
   "source": [
    " ### F.10.2 Evaluation"
   ]
  },
  {
   "cell_type": "markdown",
   "metadata": {},
   "source": [
    "* **ans** returns the result of the most recently evaluated MATLAB expression that was not an assignment. [p. 4]  \n",
    "* **builtin** executes a built-in function, ignoring overloading and shadowing. Try i=3; builtin(’i’) and then which i -all.  \n",
    "* **cellfun** applies a function to each entry of a cell array.  \n",
    "* **echo** controls the display of statements as they are executed.  \n",
    "* **eval** executes MATLAB expressions or statements from a string. Try eval(’x=4’) . Avoid using eval whenever possible.  \n",
    "* **eval** can have nasty side effects that are difficult to avoid.  \n",
    "* **evalin** evaluates MATLAB expressions or statements from a string in the workspace of the caller, or in the base workspace (what you see in the Workspace window). For example, evalin(’base’,’x’) returns the value of x in the base workspace. Like eval, avoid whenever possible.  \n",
    "* **feval** evaluates a function via a function handle. See p. 187.  \n",
    "* **pause** pauses the Command Window output. Hit any key on the  \n",
    "* **keyboard** to continue. pause(3) pauses for 3 seconds. [p. 72]  \n",
    "* **run** runs a script that need not be on the current path.  "
   ]
  },
  {
   "cell_type": "markdown",
   "metadata": {},
   "source": [
    " ### F.10.3 Timer"
   ]
  },
  {
   "cell_type": "markdown",
   "metadata": {},
   "source": [
    "* **timer** creates a timer object, which calls a function f(t,e,s) at given intervals (t is the timer object, e is the event, and s is optional). Try t=timer('TimerFcn',@(t,e)why,'Period', 1,'ExecutionMode','fixedRate') . Then start(t) creates a timer that calls why once each second.  \n",
    "* **delete** deletes a timer, with delete(t) .  \n",
    "* **start** starts a timer. Try start(t) .  \n",
    "* **stop** stops a timer. Try stop(t) .  "
   ]
  },
  {
   "cell_type": "markdown",
   "metadata": {},
   "source": [
    " ### F.10.4 Variables and Functions in Memory"
   ]
  },
  {
   "cell_type": "markdown",
   "metadata": {},
   "source": [
    "* **ans** returns the result of the most recently evaluated MATLAB expression that was not an assignment. [p. 4]\n",
    "* **assignin** assigns a value to a variable in the base workspace or caller workspace. Avoid if possible, since it can lead to hard-to-debug code. See also evalin (p. 198).\n",
    "* **global** declares variables as global. Global variables can be accessed from any function without the need to pass them as arguments. Try not to use global, since it can lead to hard-to-debug code. [p. 39]\n",
    "* **persistent** defines a variable local to a function, which is retained between subsequent calls to that function."
   ]
  },
  {
   "cell_type": "markdown",
   "metadata": {},
   "source": [
    " ### F.10.5 Control Flow"
   ]
  },
  {
   "cell_type": "markdown",
   "metadata": {},
   "source": [
    "* **for** loops across a block of statements terminated with end. for i=a, statements, end iterates across the statements, setting the loop index i to one column of a at a time. Try for i=1:5,i,end and for i=eye(3),i,end. [p. 44]  \n",
    "* **if** defines a conditional statement. Use with else, elseif, and end. if(A) for a matrix A is true only if all entries are nonzero. Try if(x<0), s=-1, elseif(x>0), s=1, else, s=0, end, which is s=sign(x) for the scalar x. [p. 47]  \n",
    "* **elseif** is a part of a conditional statement. The  \n",
    "* **elseif**( expression) is tested only when the if test is false. [p. 48]  \n",
    "* **else** is a part of a conditional statement. The else part is executed when the if test and any elseif tests are all false. [p. 48]  \n",
    "* **return** is the normal return from a function. A function also returns normally after executing the last statement in the function. Unlike many programming languages, the return statement in MATLAB does not accept any input arguments. [p. 40]  \n",
    "* **switch** selects among cases, depending on a single expression. Each case is defined by a case statement. [p. 48]  \n",
    "* **case** defines a block of statements for one case of a switch statement. The statements after case(e) are triggered if the switch expression s is equal to e. The statements after case{e1,e2} are triggered if s is equal to e1 or e2. [p. 48]  \n",
    "* **otherwise** defines a part of a switch statement. ifno case in a switch statement matches the expression, the otherwise block of statements is executed. [p. 48]  \n",
    "* **while** executes a block of statements. while(e) tests the expression e each iteration. If the expression e is false, the loop terminates. Try x=2^10, while(x>1) , x=x/2, end. [p. 46]  \n",
    "* **break** terminates a for or while loop. Statements after the  \n",
    "* **break** are not executed. [p. 47]  \n",
    "* **continue** skips the remaining statements in a for or while loop, and goes to the next iteration of the loop. [p. 47]  \n",
    "* **error** abnormally terminates a script or function. error(msg) prints the msg string and terminates the current function. An error may instead be caught via a try/catch statement. [p. 71]  \n",
    "* **try** executes a block of code and recovers from errors. If an error occurs, the try block of code is terminated and the catch block (if any) is executed. [p. 49]  \n",
    "* **catch** defines the second part of a try/catch statement. Ifan  \n",
    "* **error** occurs, the try part is terminated and the statements after the  \n",
    "* **catch** part are executed. An optional argument (catch ME) gives information about the error. [p. 49]  \n",
    "* **end** defines the last line of a for, while, if, switch, or try/catch block ofcode. In a classdef file, end defines the last line of the classdef, properties, methods, and events blocks of code. Also defines the last line of a function, but this is required only if an M-file contains more than one function, or if the function is in a classdef file. [p. 44]  \n",
    "* **goto** does not exist in MATLAB because it leads to unmanageable code. Use break to exit a loop. Use continue to skip a loop iteration. Place code in a function and use return. Use try/catch to handle errors and special conditions. [p. 232]  "
   ]
  },
  {
   "cell_type": "markdown",
   "metadata": {},
   "source": [
    " ### F.10.6 Error Handling"
   ]
  },
  {
   "cell_type": "markdown",
   "metadata": {},
   "source": [
    "* **error** abnormally terminates a script or function (see above).  \n",
    "* **rethrow** reissues a previously-caught error. [p. 49]  \n",
    "* **try** executes code and recovers from errors (see above).  \n",
    "* **catch** is the second part of a try/catch statement (see above).  \n",
    "* **warning** issues a warning. warning('oops') displays the warning but does not terminate the function. [p. 72]  "
   ]
  },
  {
   "cell_type": "markdown",
   "metadata": {
    "collapsed": true
   },
   "source": [
    " ### F.10.7 MEX Programming"
   ]
  },
  {
   "cell_type": "markdown",
   "metadata": {},
   "source": [
    "* **mex** compiles a C/C++ or Fortran mexFunction. [p. 87]"
   ]
  },
  {
   "cell_type": "code",
   "execution_count": null,
   "metadata": {
    "collapsed": true
   },
   "outputs": [],
   "source": []
  }
 ],
 "metadata": {
  "anaconda-cloud": {},
  "kernelspec": {
   "display_name": "Python [default]",
   "language": "python",
   "name": "python3"
  },
  "language_info": {
   "codemirror_mode": {
    "name": "ipython",
    "version": 3
   },
   "file_extension": ".py",
   "mimetype": "text/x-python",
   "name": "python",
   "nbconvert_exporter": "python",
   "pygments_lexer": "ipython3",
   "version": "3.5.2"
  }
 },
 "nbformat": 4,
 "nbformat_minor": 1
}
