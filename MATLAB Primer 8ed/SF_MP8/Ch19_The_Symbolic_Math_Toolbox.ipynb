{
 "cells": [
  {
   "cell_type": "markdown",
   "metadata": {},
   "source": [
    "# 19 The Symbolic Math Toolbox"
   ]
  },
  {
   "cell_type": "code",
   "execution_count": 83,
   "metadata": {
    "collapsed": false
   },
   "outputs": [
    {
     "name": "stdout",
     "output_type": "stream",
     "text": [
      "The pymatbridge extension is already loaded. To reload it, use:\n",
      "  %reload_ext pymatbridge\n"
     ]
    }
   ],
   "source": [
    "%load_ext pymatbridge"
   ]
  },
  {
   "cell_type": "markdown",
   "metadata": {},
   "source": [
    "## 19.1 Symbolic variables"
   ]
  },
  {
   "cell_type": "code",
   "execution_count": 84,
   "metadata": {
    "collapsed": false
   },
   "outputs": [
    {
     "ename": "SyntaxError",
     "evalue": "invalid syntax (<ipython-input-84-dc243fd6597c>, line 1)",
     "output_type": "error",
     "traceback": [
      "\u001b[0;36m  File \u001b[0;32m\"<ipython-input-84-dc243fd6597c>\"\u001b[0;36m, line \u001b[0;32m1\u001b[0m\n\u001b[0;31m    syms x\u001b[0m\n\u001b[0m         ^\u001b[0m\n\u001b[0;31mSyntaxError\u001b[0m\u001b[0;31m:\u001b[0m invalid syntax\n"
     ]
    }
   ],
   "source": [
    "syms x\n",
    "syms x real"
   ]
  },
  {
   "cell_type": "code",
   "execution_count": null,
   "metadata": {
    "collapsed": false
   },
   "outputs": [],
   "source": [
    "%%matlab\n",
    "z = 1/10\n",
    "a = sym(z)\n",
    "y = rand(1)\n",
    "b = sym(y, 'd')\n",
    "a = sym('1/10')\n",
    "a = 1 / sym(10)"
   ]
  },
  {
   "cell_type": "code",
   "execution_count": null,
   "metadata": {
    "collapsed": false
   },
   "outputs": [],
   "source": [
    "%%matlab\n",
    "sym(log(2))\n",
    "sym('log(2)')\n",
    "log(sym(2))"
   ]
  },
  {
   "cell_type": "code",
   "execution_count": null,
   "metadata": {
    "collapsed": false
   },
   "outputs": [],
   "source": [
    "%%matlab\n",
    "syms x\n",
    "f = sym('f(x)')"
   ]
  },
  {
   "cell_type": "markdown",
   "metadata": {},
   "source": [
    "## 19.2 Calculus"
   ]
  },
  {
   "cell_type": "code",
   "execution_count": null,
   "metadata": {
    "collapsed": false
   },
   "outputs": [],
   "source": [
    "%%matlab\n",
    "syms x\n",
    "f = x^2 * exp(x)\n",
    "diff(f)\n",
    "syms t\n",
    "diff(sin(pi*t))"
   ]
  },
  {
   "cell_type": "code",
   "execution_count": null,
   "metadata": {
    "collapsed": false
   },
   "outputs": [],
   "source": [
    "%%matlab\n",
    "syms x n\n",
    "f = sym('f(x)')\n",
    "g = sym('g(x)')\n",
    "pretty(diff(f*g))\n",
    "pretty(diff(f/g))\n",
    "pretty(diff(1/f))\n",
    "pretty(simple(diff(f^n)))"
   ]
  },
  {
   "cell_type": "code",
   "execution_count": null,
   "metadata": {
    "collapsed": false
   },
   "outputs": [],
   "source": [
    "%%matlab\n",
    "syms x a b\n",
    "f = x/(a*x+b)\n",
    "pretty(f)\n",
    "g = int(f)\n",
    "pretty(g)\n",
    "latex(g)\n",
    "ccode(g)\n",
    "fortran(g)\n",
    "int(g)\n",
    "pretty(ans)"
   ]
  },
  {
   "cell_type": "code",
   "execution_count": null,
   "metadata": {
    "collapsed": false
   },
   "outputs": [],
   "source": [
    "%%matlab\n",
    "syms x y\n",
    "g = x*y + x^2\n",
    "diff(g)         % computes g/ x\n",
    "diff(g, x)      % also computes g / x\n",
    "diff(g, y)      % computes g/y"
   ]
  },
  {
   "cell_type": "code",
   "execution_count": null,
   "metadata": {
    "collapsed": false
   },
   "outputs": [],
   "source": [
    "%%matlab\n",
    "syms x x1 x2 theta\n",
    "F = x * (x1*x2 + x1 - 2)\n",
    "findsym(F,1)\n",
    "diff(F, x)          % computes F / x\n",
    "diff(F, x1)         % computes F / x 1\n",
    "diff(F, x2)         % computes F / x 2\n",
    "G = cos(theta*x)\n",
    "diff(G, theta)      % computes G/δθ"
   ]
  },
  {
   "cell_type": "code",
   "execution_count": null,
   "metadata": {
    "collapsed": false
   },
   "outputs": [],
   "source": [
    "%%matlab\n",
    "diff(sin(2*x), 2)\n",
    "diff(sin(2*x), x, 2)"
   ]
  },
  {
   "cell_type": "code",
   "execution_count": null,
   "metadata": {
    "collapsed": false
   },
   "outputs": [],
   "source": [
    "%%matlab\n",
    "syms a b t x y z theta\n",
    "int(sin(a*t + b))\n",
    "int(sin(a*theta + b), theta)\n",
    "int(x*y^2 + y*z, y)\n",
    "int(x^2 * sin(x))"
   ]
  },
  {
   "cell_type": "code",
   "execution_count": null,
   "metadata": {
    "collapsed": false
   },
   "outputs": [],
   "source": [
    "%%matlab\n",
    "int(exp(-x^2))\n",
    "int(sqrt(1 + x^3))"
   ]
  },
  {
   "cell_type": "code",
   "execution_count": null,
   "metadata": {
    "collapsed": false
   },
   "outputs": [],
   "source": [
    "%%matlab\n",
    "f = sym('f(x)')\n",
    "int(diff(f) / f)"
   ]
  },
  {
   "cell_type": "code",
   "execution_count": null,
   "metadata": {
    "collapsed": false
   },
   "outputs": [],
   "source": [
    "%%matlab\n",
    "int(sin(x), 0, pi)\n",
    "int(sin(theta), theta, 0, pi)"
   ]
  },
  {
   "cell_type": "code",
   "execution_count": null,
   "metadata": {
    "collapsed": false
   },
   "outputs": [],
   "source": [
    "%%matlab\n",
    "int(x^5, 1, 2)\n",
    "int(log(x), 1, 4)\n",
    "int(x * exp(x), 0, 2)\n",
    "int(exp(-x^2), 0, inf)"
   ]
  },
  {
   "cell_type": "code",
   "execution_count": null,
   "metadata": {
    "collapsed": false
   },
   "outputs": [],
   "source": [
    "%%matlab\n",
    "int(exp(-x^2), 0, inf)"
   ]
  },
  {
   "cell_type": "code",
   "execution_count": null,
   "metadata": {
    "collapsed": false
   },
   "outputs": [],
   "source": [
    "%%matlab\n",
    "vpa(ans, 25)"
   ]
  },
  {
   "cell_type": "code",
   "execution_count": null,
   "metadata": {
    "collapsed": false
   },
   "outputs": [],
   "source": [
    "%%matlab\n",
    "syms h n x\n",
    "limit((1 + x/n)^n, n, inf)"
   ]
  },
  {
   "cell_type": "code",
   "execution_count": null,
   "metadata": {
    "collapsed": false
   },
   "outputs": [],
   "source": [
    "%%matlab\n",
    "limit(sin(x), x, 0)\n",
    "limit((sin(x+h)-sin(x))/h, h, 0)"
   ]
  },
  {
   "cell_type": "code",
   "execution_count": null,
   "metadata": {
    "collapsed": false
   },
   "outputs": [],
   "source": [
    "%%matlab\n",
    "taylor(cos(x) + sin(x))"
   ]
  },
  {
   "cell_type": "code",
   "execution_count": null,
   "metadata": {
    "collapsed": false
   },
   "outputs": [],
   "source": [
    "%%matlab\n",
    "taylor(cos(x^2), 8, x, pi)"
   ]
  },
  {
   "cell_type": "markdown",
   "metadata": {},
   "source": [
    "## 19.3 Variable precision arithmetic"
   ]
  },
  {
   "cell_type": "code",
   "execution_count": null,
   "metadata": {
    "collapsed": false
   },
   "outputs": [],
   "source": [
    "%%matlab\n",
    "s = simple(sym('13/17 + 17/23'))"
   ]
  },
  {
   "cell_type": "code",
   "execution_count": null,
   "metadata": {
    "collapsed": false
   },
   "outputs": [],
   "source": [
    "%%matlab\n",
    "pi*log(2)"
   ]
  },
  {
   "cell_type": "code",
   "execution_count": null,
   "metadata": {
    "collapsed": false
   },
   "outputs": [],
   "source": [
    "%%matlab\n",
    "vpa('pi * log(2)')\n",
    "vpa(sym(pi) * log(sym(2)))\n",
    "vpa('pi * log(2)', 50)"
   ]
  },
  {
   "cell_type": "code",
   "execution_count": null,
   "metadata": {
    "collapsed": false
   },
   "outputs": [],
   "source": [
    "%%matlab\n",
    "pretty(vpa('pi', 10000))"
   ]
  },
  {
   "cell_type": "code",
   "execution_count": null,
   "metadata": {
    "collapsed": false
   },
   "outputs": [],
   "source": [
    "%%matlab\n",
    "vpa(pi * log(2))"
   ]
  },
  {
   "cell_type": "markdown",
   "metadata": {},
   "source": [
    "## 19.4 Numeric and symbolic substitution"
   ]
  },
  {
   "cell_type": "code",
   "execution_count": null,
   "metadata": {
    "collapsed": false
   },
   "outputs": [],
   "source": [
    "%%matlab\n",
    "syms x s t\n",
    "subs(sin(x), x, pi/3)\n",
    "subs(sin(x), x, sym(pi)/3)\n",
    "double(ans)\n",
    "subs(g*t^2/2, t, sqrt(2*s))\n",
    "subs(sqrt(1-x^2), x, cos(x))\n",
    "subs(sqrt(1-x^2), 1-x^2, cos(x))"
   ]
  },
  {
   "cell_type": "code",
   "execution_count": null,
   "metadata": {
    "collapsed": false
   },
   "outputs": [],
   "source": [
    "%%matlab\n",
    "syms x y\n",
    "S = x^y\n",
    "subs(S, x, 3)\n",
    "subs(S, {x y}, {3 2})\n",
    "subs(S, {x y}, {3 x+1})"
   ]
  },
  {
   "cell_type": "code",
   "execution_count": null,
   "metadata": {
    "collapsed": false
   },
   "outputs": [],
   "source": [
    "%%matlab\n",
    "# x=0:.1:1.\n",
    "syms x\n",
    "F = x^2 * sin(x)\n",
    "G = diff(F)\n",
    "subs(G, x, 0:.1:1)"
   ]
  },
  {
   "cell_type": "code",
   "execution_count": null,
   "metadata": {
    "collapsed": true
   },
   "outputs": [],
   "source": [
    "%%matlab\n",
    "a = subs(S, y, 1:9)\n",
    "a(3)\n",
    "a = subs(S, {x y},{2*ones(9,1) (1:9)'})"
   ]
  },
  {
   "cell_type": "code",
   "execution_count": null,
   "metadata": {
    "collapsed": false
   },
   "outputs": [],
   "source": [
    "%%matlab\n",
    "f = sym('f(x)')\n",
    "g = sym('g(x)')\n",
    "diff(subs(f, g))\n",
    "pretty(ans)"
   ]
  },
  {
   "cell_type": "markdown",
   "metadata": {},
   "source": [
    "\n",
    "## 19.5 Algebraic simplification"
   ]
  },
  {
   "cell_type": "code",
   "execution_count": null,
   "metadata": {
    "collapsed": false
   },
   "outputs": [],
   "source": [
    "%%matlab\n",
    "syms a b x y z\n",
    "expand((a + b)^5)\n",
    "factor(ans)\n",
    "expand(exp(x + y))\n",
    "expand(sin(x + 2*y))\n",
    "factor(x^6 - 1)\n",
    "collect(x * (x * (x + 3) + 5) + 1)\n",
    "horner(ans)\n",
    "collect((x + y + z) *(x - y - z))\n",
    "collect((x + y + z) *(x - y - z), y)\n",
    "collect((x + y + z) *(x - y - z), z)\n",
    "diff(x^3 * exp(x))\n",
    "factor(ans)"
   ]
  },
  {
   "cell_type": "code",
   "execution_count": null,
   "metadata": {
    "collapsed": false
   },
   "outputs": [],
   "source": [
    "%%matlab\n",
    "simplify(sin(x)^2 + cos(x)^2)\n",
    "simplify(exp(5*log(x) + 1))\n",
    "d = diff((x^2 + 1)/(x^2 - 1))\n",
    "simplify(d)"
   ]
  },
  {
   "cell_type": "code",
   "execution_count": null,
   "metadata": {
    "collapsed": false
   },
   "outputs": [],
   "source": [
    "%%matlab\n",
    "simplify(cos(x) + (-sin(x)^2)^(1/2))\n",
    "simple (cos(x) + (-sin(x)^2)^(1/2))\n",
    "simplify((1/x^3+6/x^2+12/x+8)^(1/3))\n",
    "simple ((1/x^3+6/x^2+12/x+8)^(1/3))"
   ]
  },
  {
   "cell_type": "code",
   "execution_count": null,
   "metadata": {
    "collapsed": false
   },
   "outputs": [],
   "source": [
    "%%matlab\n",
    "factor(4248)\n",
    "factor(sym('4248'))\n",
    "factor(sym('4549319348693'))\n",
    "factor(sym('4549319348597'))"
   ]
  },
  {
   "cell_type": "markdown",
   "metadata": {},
   "source": [
    "## 19.6 Two-dimensional graphs"
   ]
  },
  {
   "cell_type": "code",
   "execution_count": null,
   "metadata": {
    "collapsed": false,
    "scrolled": true
   },
   "outputs": [],
   "source": [
    "%%matlab\n",
    "syms t x y\n",
    "ezplot(sin(2*x))\n",
    "ezplot(t + 3*sin(t))\n",
    "ezplot(2*x/(x^2 - 1))\n",
    "ezplot(1/(1 + 30*exp(-x)))"
   ]
  },
  {
   "cell_type": "code",
   "execution_count": null,
   "metadata": {
    "collapsed": false
   },
   "outputs": [],
   "source": [
    "%%matlab\n",
    "ezplot(x*sin(1/x), [-.2 .2])"
   ]
  },
  {
   "cell_type": "code",
   "execution_count": null,
   "metadata": {
    "collapsed": false
   },
   "outputs": [],
   "source": [
    "%%matlab\n",
    "ezplot(x*exp(-x))\n",
    "ezplot(x*exp(-x), [-1 4])"
   ]
  },
  {
   "cell_type": "code",
   "execution_count": null,
   "metadata": {
    "collapsed": false
   },
   "outputs": [],
   "source": [
    "%%matlab\n",
    "ezplot(x^2 + y^2 - 1)"
   ]
  },
  {
   "cell_type": "code",
   "execution_count": null,
   "metadata": {
    "collapsed": false
   },
   "outputs": [],
   "source": [
    "%%matlab\n",
    "ezplot(x^2 + y^2 - 1, [-1 1 -1 1])"
   ]
  },
  {
   "cell_type": "code",
   "execution_count": null,
   "metadata": {
    "collapsed": false
   },
   "outputs": [],
   "source": [
    "%%matlab\n",
    "ezplot(x^2 + y^2 - 1, [-1 1 -1 1])\n",
    "axis equal"
   ]
  },
  {
   "cell_type": "code",
   "execution_count": null,
   "metadata": {
    "collapsed": false,
    "scrolled": false
   },
   "outputs": [],
   "source": [
    "%%matlab\n",
    "x = t-sin(t)\n",
    "y = 1-cos(t)\n",
    "ezplot(x,y, [-4*pi 4*pi])"
   ]
  },
  {
   "cell_type": "code",
   "execution_count": null,
   "metadata": {
    "collapsed": false
   },
   "outputs": [],
   "source": [
    "%%matlab\n",
    "ezpolar(sin(3*t))\n",
    "ezpolar(1/t, [1 10*pi])"
   ]
  },
  {
   "cell_type": "markdown",
   "metadata": {},
   "source": [
    "## 19.7 Three-dimensional surface graphs"
   ]
  },
  {
   "cell_type": "markdown",
   "metadata": {},
   "source": [
    "```\n",
    "ezcontour   3-D contour plot\n",
    "ezcontourf  3-D filled contour plot\n",
    "ezmesh      3-D mesh plot\n",
    "ezmeshc     3-D mesh and contour plot\n",
    "ezsurf      3-D surface plot\n",
    "ezsurfc     3-D surface and contour plot\n",
    "```"
   ]
  },
  {
   "cell_type": "code",
   "execution_count": null,
   "metadata": {
    "collapsed": false
   },
   "outputs": [],
   "source": [
    "%%matlab\n",
    "syms x y\n",
    "f = sin((x^2+y)/2)/(x^2-x+2)\n",
    "ezsurfc(f)"
   ]
  },
  {
   "cell_type": "code",
   "execution_count": null,
   "metadata": {
    "collapsed": false
   },
   "outputs": [],
   "source": [
    "%%matlab\n",
    "ezsurf(f, [-4 4 -pi pi])"
   ]
  },
  {
   "cell_type": "code",
   "execution_count": null,
   "metadata": {
    "collapsed": false
   },
   "outputs": [],
   "source": [
    "%%matlab\n",
    "f = sin(abs(sqrt(x^2+y)))/(x^2-x+2)\n",
    "ezsurf(f)"
   ]
  },
  {
   "cell_type": "code",
   "execution_count": null,
   "metadata": {
    "collapsed": false
   },
   "outputs": [],
   "source": [
    "%%matlab\n",
    "figure(1) ; clf\n",
    "syms u v x y z\n",
    "ezsurfc(x,y,z,[0 2*pi])"
   ]
  },
  {
   "cell_type": "markdown",
   "metadata": {},
   "source": [
    "## 19.8 Three-dimensional curves"
   ]
  },
  {
   "cell_type": "code",
   "execution_count": null,
   "metadata": {
    "collapsed": false
   },
   "outputs": [],
   "source": [
    "%%matlab\n",
    "syms x y z t\n",
    "x = 3*t / (1+t^3)\n",
    "y = 3*t^2 / (1+t^3)\n",
    "z = sin(t)\n",
    "ezplot3(x,y,z)"
   ]
  },
  {
   "cell_type": "code",
   "execution_count": null,
   "metadata": {
    "collapsed": false
   },
   "outputs": [],
   "source": [
    "%%matlab\n",
    "ezplot3(x,y,z,[-.9 10])"
   ]
  },
  {
   "cell_type": "code",
   "execution_count": null,
   "metadata": {
    "collapsed": false
   },
   "outputs": [],
   "source": [
    "%%matlab\n",
    "ezplot3(x,y,z,'animate')\n",
    "ezplot3(x,y,z, [-.9 10], 'animate')"
   ]
  },
  {
   "cell_type": "code",
   "execution_count": null,
   "metadata": {
    "collapsed": true
   },
   "outputs": [],
   "source": [
    "%%matlab\n",
    "syms z\n",
    "z = 0\n",
    "ezplot3(x,y,z,'animate')"
   ]
  },
  {
   "cell_type": "markdown",
   "metadata": {},
   "source": [
    "## 19.9 Symbolic matrix operations"
   ]
  },
  {
   "cell_type": "code",
   "execution_count": null,
   "metadata": {
    "collapsed": false
   },
   "outputs": [],
   "source": [
    "%%matlab\n",
    "a = magic(3)\n",
    "A = sym(a)"
   ]
  },
  {
   "cell_type": "code",
   "execution_count": null,
   "metadata": {
    "collapsed": false
   },
   "outputs": [],
   "source": [
    "%%matlab\n",
    "syms a b s\n",
    "K = [a + b, a - b ; b - a, a + b]\n",
    "G = [cos(s), sin(s); -sin(s), cos(s)]"
   ]
  },
  {
   "cell_type": "markdown",
   "metadata": {},
   "source": [
    "```\n",
    "K+G matrix addition\n",
    "K-G matrix subtraction\n",
    "K*G matrix multiplication\n",
    "K\\G left matrix division\n",
    "K/G right matrix division\n",
    "G^2 power\n",
    "G.' array transpose\n",
    "G'  matrix transpose\n",
    "```"
   ]
  },
  {
   "cell_type": "code",
   "execution_count": null,
   "metadata": {
    "collapsed": false
   },
   "outputs": [],
   "source": [
    "%%matlab\n",
    "L = K^2\n",
    "collect(L)\n",
    "factor(L)\n",
    "diff(L, a)\n",
    "int(K, a)\n",
    "J = K/G\n",
    "simplify(J*G)\n",
    "simplify(G*(G.'))"
   ]
  },
  {
   "cell_type": "markdown",
   "metadata": {},
   "source": [
    "\n",
    "## 19.10 Symbolic linear algebraic functions"
   ]
  },
  {
   "cell_type": "markdown",
   "metadata": {},
   "source": [
    "```\n",
    "det       determinant\n",
    "inv       inverse\n",
    "null      basis for null space\n",
    "colspace  basis for column space\n",
    "eig       eigenvalues and eigenvectors\n",
    "poly      characteristic polynomial\n",
    "svd       singular value decomposition\n",
    "\n",
    "jordan    Jordan canonical form\n",
    "```"
   ]
  },
  {
   "cell_type": "code",
   "execution_count": null,
   "metadata": {
    "collapsed": false
   },
   "outputs": [],
   "source": [
    "%%matlab\n",
    "c = randi([0 9], 4)\n",
    "D = sym(c)\n",
    "A = inv(D)\n",
    "inv(A)\n",
    "inv(A) * A\n",
    "det(A)\n",
    "b = ones(4,1)\n",
    "x = A\\b\n",
    "A*x\n",
    "A^3"
   ]
  },
  {
   "cell_type": "code",
   "execution_count": null,
   "metadata": {
    "collapsed": false
   },
   "outputs": [],
   "source": [
    "%%matlab\n",
    "inv(K)\n",
    "simplify(inv(G))\n",
    "p = poly(G)\n",
    "simplify(p)\n",
    "pretty(simple(solve(p)))\n",
    "pretty(simple(eig(G)))\n",
    "y = simple(svd(G))\n",
    "pretty(y)\n",
    "syms s real\n",
    "r = simple(svd(G))\n",
    "syms s clear"
   ]
  },
  {
   "cell_type": "code",
   "execution_count": null,
   "metadata": {
    "collapsed": false
   },
   "outputs": [],
   "source": [
    "%%matlab\n",
    "A = [t 1 0 ; 1 t 1 ; 0 1 t]"
   ]
  },
  {
   "cell_type": "code",
   "execution_count": null,
   "metadata": {
    "collapsed": false
   },
   "outputs": [],
   "source": [
    "%%matlab\n",
    "syms t\n",
    "A = [t 1 0 ; 1 t 1 ; 0 1 t]\n",
    "p = det(A)\n",
    "solve(p)"
   ]
  },
  {
   "cell_type": "code",
   "execution_count": null,
   "metadata": {
    "collapsed": false
   },
   "outputs": [],
   "source": [
    "%%matlab\n",
    "for n = 4:6\n",
    "    A = sym(magic(n))\n",
    "    [V, D] = eig(A)\n",
    "end"
   ]
  },
  {
   "cell_type": "code",
   "execution_count": null,
   "metadata": {
    "collapsed": false
   },
   "outputs": [],
   "source": [
    "%%matlab\n",
    "A = sym(randi([0 9], 3))\n",
    "[V, D] = eig(A)\n",
    "pretty(V)"
   ]
  },
  {
   "cell_type": "code",
   "execution_count": null,
   "metadata": {
    "collapsed": false
   },
   "outputs": [],
   "source": [
    "%%matlab\n",
    "A = vpa(randi([0 9], 3))\n",
    "[V, D] = eig(A)"
   ]
  },
  {
   "cell_type": "markdown",
   "metadata": {},
   "source": [
    "## 19.11 Solving algebraic equations"
   ]
  },
  {
   "cell_type": "code",
   "execution_count": null,
   "metadata": {
    "collapsed": false
   },
   "outputs": [],
   "source": [
    "%%matlab\n",
    "syms x b\n",
    "solve(2^x - b)\n",
    "solve(2^x + 3^x - 1)\n",
    "solve(2^x + 3^x - b)"
   ]
  },
  {
   "cell_type": "code",
   "execution_count": null,
   "metadata": {
    "collapsed": false
   },
   "outputs": [],
   "source": [
    "%%matlab\n",
    "syms x\n",
    "f = x*cos(x) - 1\n",
    "s = solve(f)"
   ]
  },
  {
   "cell_type": "code",
   "execution_count": null,
   "metadata": {
    "collapsed": false,
    "scrolled": true
   },
   "outputs": [],
   "source": [
    "%%matlab\n",
    "Z = solve(x^2 + 2*x - 1)\n",
    "pretty(Z)\n",
    "syms x y z\n",
    "f = x^2 + y^2 + z^2 + x*y*z\n",
    "a = solve(f)\n",
    "pretty(a)\n",
    "simplify (subs (f, ’x’, a))\n",
    "b = solve(f, y)\n",
    "pretty(b)\n",
    "simplify (subs (f, ’y’, b))"
   ]
  },
  {
   "cell_type": "code",
   "execution_count": null,
   "metadata": {
    "collapsed": false
   },
   "outputs": [],
   "source": [
    "%%matlab\n",
    "X = solve('log(x) = x - 2')\n",
    "X = solve(log(x) - x + 2)\n",
    "vpa(X)\n",
    "X = solve('2^x = x + 2')\n",
    "X = solve(2^x - x - 2)\n",
    "vpa(X)"
   ]
  },
  {
   "cell_type": "code",
   "execution_count": null,
   "metadata": {
    "collapsed": false
   },
   "outputs": [],
   "source": [
    "%%matlab\n",
    "solve('1 + (a+b)/(a-b) = b', 'a')"
   ]
  },
  {
   "cell_type": "code",
   "execution_count": null,
   "metadata": {
    "collapsed": false
   },
   "outputs": [],
   "source": [
    "%%matlab\n",
    "solve('1 + (a+b)/(a-b) = b', 'b')"
   ]
  },
  {
   "cell_type": "code",
   "execution_count": null,
   "metadata": {
    "collapsed": false
   },
   "outputs": [],
   "source": [
    "%%matlab\n",
    "syms a b c x\n",
    "solve(a*x^2 + b*x + c, x)\n",
    "pretty(ans)"
   ]
  },
  {
   "cell_type": "code",
   "execution_count": null,
   "metadata": {
    "collapsed": false
   },
   "outputs": [],
   "source": [
    "%%matlab\n",
    "S1 = 'x^2 + y^2 + z^2 = 2'\n",
    "S2 = 'x + y = 1'\n",
    "S3 = 'y + z = 1'\n",
    "\n",
    "[X, Y, Z] = solve(S1, S2, S3)"
   ]
  },
  {
   "cell_type": "code",
   "execution_count": null,
   "metadata": {
    "collapsed": false
   },
   "outputs": [],
   "source": [
    "%%matlab\n",
    "a = solve(S1, S2, S3)\n",
    "a.x\n",
    "a.y\n",
    "a.z"
   ]
  },
  {
   "cell_type": "code",
   "execution_count": 85,
   "metadata": {
    "collapsed": false
   },
   "outputs": [
    {
     "data": {
      "text/plain": [
       "\r\n",
       "S2 =\r\n",
       "\r\n",
       "x + y + z = 1\r\n",
       "\r\n"
      ]
     },
     "metadata": {},
     "output_type": "display_data"
    }
   ],
   "source": [
    "%%matlab\n",
    "S2 = 'x + y + z = 1'"
   ]
  },
  {
   "cell_type": "code",
   "execution_count": 86,
   "metadata": {
    "collapsed": false
   },
   "outputs": [
    {
     "data": {
      "text/plain": [
       " \r\n",
       "X =\r\n",
       " \r\n",
       "                                      [0]\r\n",
       "                                      [ ]\r\n",
       "                                      [0]\r\n",
       " \r\n",
       "Y =\r\n",
       " \r\n",
       "                               [           1/2]\r\n",
       "                               [1/2 - 1/2 3   ]\r\n",
       "                               [              ]\r\n",
       "                               [           1/2]\r\n",
       "                               [1/2 + 1/2 3   ]\r\n",
       " \r\n",
       "Z =\r\n",
       " \r\n",
       "                               [           1/2]\r\n",
       "                               [1/2 + 1/2 3   ]\r\n",
       "                               [              ]\r\n",
       "                               [           1/2]\r\n",
       "                               [1/2 - 1/2 3   ]\r\n"
      ]
     },
     "metadata": {},
     "output_type": "display_data"
    }
   ],
   "source": [
    "%%matlab\n",
    "[X, Y, Z] = solve(S1, S2, S3)"
   ]
  },
  {
   "cell_type": "code",
   "execution_count": 87,
   "metadata": {
    "collapsed": false
   },
   "outputs": [
    {
     "data": {
      "text/plain": [
       " \r\n",
       "S1 =\r\n",
       " \r\n",
       "                                2    2    2\r\n",
       "                               x  + y  + z  - 2\r\n",
       " \r\n",
       "S2 =\r\n",
       " \r\n",
       "                                   x + y - 1\r\n",
       " \r\n",
       "S3 =\r\n",
       " \r\n",
       "                                   y + z - 1\r\n",
       "\r\n",
       "a = \r\n",
       "\r\n",
       "    x: [2x1 sym]\r\n",
       "    y: [2x1 sym]\r\n",
       "    z: [2x1 sym]\r\n",
       "\r\n"
      ]
     },
     "metadata": {},
     "output_type": "display_data"
    }
   ],
   "source": [
    "%%matlab\n",
    "syms x y z\n",
    "S1 = x^2 + y^2 + z^2 - 2\n",
    "S2 = x + y - 1\n",
    "S3 = y + z - 1\n",
    "a = solve(S1, S2, S3)"
   ]
  },
  {
   "cell_type": "markdown",
   "metadata": {},
   "source": [
    "## 19.12 Solving differential equations"
   ]
  },
  {
   "cell_type": "code",
   "execution_count": 88,
   "metadata": {
    "collapsed": false
   },
   "outputs": [
    {
     "data": {
      "text/plain": [
       " \r\n",
       "Y =\r\n",
       " \r\n",
       "                                             3\r\n",
       "                                _C1 exp(1/3 x )\r\n"
      ]
     },
     "metadata": {},
     "output_type": "display_data"
    }
   ],
   "source": [
    "%%matlab\n",
    "Y = dsolve('Dy = x^2*y', 'x')"
   ]
  },
  {
   "cell_type": "code",
   "execution_count": 89,
   "metadata": {
    "collapsed": false
   },
   "outputs": [
    {
     "data": {
      "text/plain": [
       " \r\n",
       "Y =\r\n",
       " \r\n",
       "                                            3\r\n",
       "                                 4 exp(1/3 x )\r\n"
      ]
     },
     "metadata": {},
     "output_type": "display_data"
    }
   ],
   "source": [
    "%%matlab\n",
    "Y = dsolve('Dy = x^2*y', 'y(0)=4', 'x')"
   ]
  },
  {
   "cell_type": "code",
   "execution_count": 91,
   "metadata": {
    "collapsed": false
   },
   "outputs": [
    {
     "data": {
      "text/plain": [
       " \r\n",
       "ans =\r\n",
       " \r\n",
       "                            _C1 sin(t) + _C2 cos(t)\r\n",
       " \r\n",
       "ans =\r\n",
       " \r\n",
       "                                                  2\r\n",
       "                       sin(x) _C2 + cos(x) _C1 + x  - 2\r\n",
       " \r\n",
       "ans =\r\n",
       " \r\n",
       "                                               2\r\n",
       "                          sin(x) + 6 cos(x) + x  - 2\r\n"
      ]
     },
     "metadata": {},
     "output_type": "display_data"
    }
   ],
   "source": [
    "%%matlab\n",
    "dsolve('D2y + y = 0')\n",
    "dsolve('D2y + y = x^2', 'x')\n",
    "dsolve('D2y + y = x^2', 'y(0) = 4', 'Dy(0) = 1', 'x')"
   ]
  },
  {
   "cell_type": "code",
   "execution_count": 92,
   "metadata": {
    "collapsed": false
   },
   "outputs": [
    {
     "data": {
      "text/plain": [
       " \r\n",
       "ans =\r\n",
       " \r\n",
       "                          _C1 exp(-t) + _C2 exp(2 t)\r\n",
       " \r\n",
       "ans =\r\n",
       " \r\n",
       "                               1/2                       1/2\r\n",
       "               _C1 exp((-3 + 22   ) t) + _C2 exp(-(3 + 22   ) t)\r\n",
       " \r\n",
       "ans =\r\n",
       " \r\n",
       "                  _C1 exp(2 t) + _C2 exp(-t) + _C3 exp(-t) t\r\n",
       " \r\n",
       "                  _C1 exp(2 t) + _C2 exp(-t) + _C3 exp(-t) t\r\n"
      ]
     },
     "metadata": {},
     "output_type": "display_data"
    }
   ],
   "source": [
    "%%matlab\n",
    "dsolve('D2y - Dy = 2*y')\n",
    "dsolve('D2y + 6*Dy = 13*y')\n",
    "dsolve('D3y - 3*Dy = 2*y')\n",
    "pretty(ans)"
   ]
  },
  {
   "cell_type": "code",
   "execution_count": 93,
   "metadata": {
    "collapsed": false
   },
   "outputs": [
    {
     "data": {
      "text/plain": [
       "\r\n",
       "E1 =\r\n",
       "\r\n",
       "Dx = -2*x + y\r\n",
       "\r\n",
       "\r\n",
       "E2 =\r\n",
       "\r\n",
       "Dy = x - 2*y + z\r\n",
       "\r\n",
       "\r\n",
       "E3 =\r\n",
       "\r\n",
       "Dz = y - 2*z\r\n",
       "\r\n"
      ]
     },
     "metadata": {},
     "output_type": "display_data"
    }
   ],
   "source": [
    "%%matlab\n",
    "E1 = 'Dx = -2*x + y'\n",
    "E2 = 'Dy = x - 2*y + z'\n",
    "E3 = 'Dz = y - 2*z'"
   ]
  },
  {
   "cell_type": "code",
   "execution_count": 94,
   "metadata": {
    "collapsed": false
   },
   "outputs": [
    {
     "data": {
      "text/plain": [
       " \r\n",
       "x =\r\n",
       " \r\n",
       "       1/2                   1/2\r\n",
       "  1/2 2    _C2 exp(-2 t + t 2   ) + exp(-2 t) _C1\r\n",
       "\r\n",
       "                1/2                   1/2\r\n",
       "         - 1/2 2    _C3 exp(-2 t - t 2   )\r\n",
       " \r\n",
       "y =\r\n",
       " \r\n",
       "                               1/2                      1/2\r\n",
       "                _C2 exp((-2 + 2   ) t) + _C3 exp(-(2 + 2   ) t)\r\n",
       " \r\n",
       "z =\r\n",
       " \r\n",
       "         1/2                   1/2                   1/2      1/2\r\n",
       "  - 1/2 2    _C2 exp(-2 t + t 2   ) + _C2 exp((-2 + 2   ) t) 2\r\n",
       "\r\n",
       "                          1/2      1/2        1/2                   1/2\r\n",
       "         - _C3 exp(-(2 + 2   ) t) 2    + 1/2 2    _C3 exp(-2 t - t 2   )\r\n",
       "\r\n",
       "         - exp(-2 t) _C1\r\n",
       " \r\n",
       "       1/2                   1/2\r\n",
       "  1/2 2    _C2 exp(-2 t + t 2   ) + exp(-2 t) _C1\r\n",
       "\r\n",
       "                1/2                   1/2\r\n",
       "         - 1/2 2    _C3 exp(-2 t - t 2   )\r\n",
       " \r\n",
       "                               1/2                      1/2\r\n",
       "                _C2 exp((-2 + 2   ) t) + _C3 exp(-(2 + 2   ) t)\r\n",
       " \r\n",
       "         1/2                   1/2                   1/2      1/2\r\n",
       "  - 1/2 2    _C2 exp(-2 t + t 2   ) + _C2 exp((-2 + 2   ) t) 2\r\n",
       "\r\n",
       "                          1/2      1/2        1/2                   1/2\r\n",
       "         - _C3 exp(-(2 + 2   ) t) 2    + 1/2 2    _C3 exp(-2 t - t 2   )\r\n",
       "\r\n",
       "         - exp(-2 t) _C1\r\n"
      ]
     },
     "metadata": {},
     "output_type": "display_data"
    }
   ],
   "source": [
    "%%matlab\n",
    "[x, y, z] = dsolve(E1, E2, E3)\n",
    "pretty(x)\n",
    "pretty(y)\n",
    "pretty(z)"
   ]
  },
  {
   "cell_type": "markdown",
   "metadata": {},
   "source": [
    "## 19.13 Further MuPAD access"
   ]
  },
  {
   "cell_type": "markdown",
   "metadata": {},
   "source": [
    "> In all of the examples you have worked through so far, you accessed the MuPAD symbolic engine through MATLAB commands.\n",
    "\n",
    "> You can access more features in the Symbolic Math Toolbox via a powerful GUI interface called the MuPAD Notebook.\n",
    "\n",
    "> Type mupadwelcome at the command line, and create a new Notebook.\n",
    "\n",
    "> Once the GUI starts, you can enter commands directly into the MuPAD Notebook.\n",
    "\n",
    "> The syntax of the MuPAD language is much like Pascal.\n",
    "\n",
    "> It is very different than the MATLAB language and beyond the scope of this primer.\n",
    "\n",
    "> For help, type doc(symengine) in the MATLAB Command Window (be sure to use the parentheses) or click the help button in the menu bar at the top of the MuPAD Notebook.\n",
    "\n",
    "> For an extensive tutorial on MuPAD, click on the PDF documentation link in the MuPAD Help window, and read The MuPAD Tutorial.\n",
    "\n"
   ]
  },
  {
   "cell_type": "code",
   "execution_count": null,
   "metadata": {
    "collapsed": true
   },
   "outputs": [],
   "source": []
  }
 ],
 "metadata": {
  "kernelspec": {
   "display_name": "Python [default]",
   "language": "python",
   "name": "python3"
  },
  "language_info": {
   "codemirror_mode": {
    "name": "ipython",
    "version": 3
   },
   "file_extension": ".py",
   "mimetype": "text/x-python",
   "name": "python",
   "nbconvert_exporter": "python",
   "pygments_lexer": "ipython3",
   "version": "3.5.2"
  }
 },
 "nbformat": 4,
 "nbformat_minor": 1
}
