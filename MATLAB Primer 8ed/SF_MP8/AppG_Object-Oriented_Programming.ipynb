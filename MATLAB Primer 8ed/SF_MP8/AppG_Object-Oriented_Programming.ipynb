{
 "cells": [
  {
   "cell_type": "markdown",
   "metadata": {},
   "source": [
    "# G Object-Oriented Programming"
   ]
  },
  {
   "cell_type": "markdown",
   "metadata": {},
   "source": [
    "## G.1 Classes and Objects"
   ]
  },
  {
   "cell_type": "markdown",
   "metadata": {},
   "source": [
    "* **class** determines the class of a variable. See p. 184.  \n",
    "* **classdef** is a statement that defines a class, with properties and methods. The class definition is terminated by an end statement. [p. 57]  \n",
    "* **exist** determines if a class or object exists. See p. 166.  \n",
    "* **methods** is both a function and a keyword. The function  \n",
    "* **methods(A)** lists the public methods of a class or object A. As a keyword, the methods statement defines the set of methods for a class, terminated by an end statement. [p. 59]  \n",
    "* **properties** is both a function and a keyword. The function properties(A) lists the public properties of a class or object A. As a keyword, the properties statement defines the set of properties for a class, terminated by an end statement. [p. 58]  \n",
    "* **subsref** is the method for subscripted references to objects.  "
   ]
  },
  {
   "cell_type": "markdown",
   "metadata": {
    "collapsed": true
   },
   "source": [
    "## G.2 Handle Classes"
   ]
  },
  {
   "cell_type": "markdown",
   "metadata": {},
   "source": [
    "* **delete** deletes a handle object.  \n",
    "* **findobj** finds a graphics object with specific properties.  \n",
    "* **get** returns the properties of an object. See p. 205.  \n",
    "* **handle** is the superclass for all handle classes, including Handle Graphics. [p. 66]  \n",
    "* **set** lists or sets the properties of an object. set(H) lists the properties that can be modified via set(H,’Property’,value) . See p. 205.  "
   ]
  },
  {
   "cell_type": "code",
   "execution_count": null,
   "metadata": {
    "collapsed": true
   },
   "outputs": [],
   "source": []
  }
 ],
 "metadata": {
  "anaconda-cloud": {},
  "kernelspec": {
   "display_name": "Python [default]",
   "language": "python",
   "name": "python3"
  },
  "language_info": {
   "codemirror_mode": {
    "name": "ipython",
    "version": 3
   },
   "file_extension": ".py",
   "mimetype": "text/x-python",
   "name": "python",
   "nbconvert_exporter": "python",
   "pygments_lexer": "ipython3",
   "version": "3.5.2"
  }
 },
 "nbformat": 4,
 "nbformat_minor": 1
}
