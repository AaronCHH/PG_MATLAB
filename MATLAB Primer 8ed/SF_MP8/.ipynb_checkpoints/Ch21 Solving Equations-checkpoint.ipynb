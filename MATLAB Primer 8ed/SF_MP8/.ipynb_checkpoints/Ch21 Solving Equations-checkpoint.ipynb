{
 "cells": [
  {
   "cell_type": "markdown",
   "metadata": {},
   "source": [
    "# 21 Solving Equations"
   ]
  },
  {
   "cell_type": "code",
   "execution_count": 14,
   "metadata": {
    "collapsed": false
   },
   "outputs": [
    {
     "name": "stdout",
     "output_type": "stream",
     "text": [
      "The pymatbridge extension is already loaded. To reload it, use:\n",
      "  %reload_ext pymatbridge\n"
     ]
    }
   ],
   "source": [
    "%load_ext pymatbridge"
   ]
  },
  {
   "cell_type": "markdown",
   "metadata": {},
   "source": [
    "Solving equations is at the core of what MATLAB does. First, we will look back at the kinds of equations you have seen so far in the book.  \n",
    "Next, in this chapter you will learn how MATLAB finds numerical solutions to nonlinear equations and systems of differential equations."
   ]
  },
  {
   "cell_type": "markdown",
   "metadata": {},
   "source": [
    "## 21.1 Symbolic equations"
   ]
  },
  {
   "cell_type": "markdown",
   "metadata": {},
   "source": [
    "The Symbolic Math Toolbox can solve  \n",
    "symbolic **linear systems of equations** using **backslash** (Section 19.9),  \n",
    "**nonlinear systems of equations** using the **solve** function (Section 19.11), and  \n",
    "**systems of differential equations** using **dsolve** (Section 19.12).  \n",
    "**The rest of MATLAB focuses on finding numeric solutions to equations, not symbolic.**"
   ]
  },
  {
   "cell_type": "markdown",
   "metadata": {},
   "source": [
    "## 21.2 Linear systems of equations"
   ]
  },
  {
   "cell_type": "markdown",
   "metadata": {},
   "source": [
    "```\n",
    "A*x=b\n",
    "x=A\\b\n",
    "```"
   ]
  },
  {
   "cell_type": "markdown",
   "metadata": {},
   "source": [
    "## 21.3 Polynomial roots"
   ]
  },
  {
   "cell_type": "markdown",
   "metadata": {},
   "source": [
    "```\n",
    "f(x) = 0 \n",
    "```"
   ]
  },
  {
   "cell_type": "markdown",
   "metadata": {},
   "source": [
    "## 21.4 Nonlinear equations"
   ]
  },
  {
   "cell_type": "code",
   "execution_count": 15,
   "metadata": {
    "collapsed": false
   },
   "outputs": [
    {
     "data": {
      "text/plain": [
       "\r\n",
       "ans =\r\n",
       "\r\n",
       "   1.414213562373095\r\n",
       "\r\n"
      ]
     },
     "metadata": {},
     "output_type": "display_data"
    }
   ],
   "source": [
    "%%matlab\n",
    "fzero(@(x) x^2-2, 1)"
   ]
  },
  {
   "cell_type": "code",
   "execution_count": 16,
   "metadata": {
    "collapsed": false
   },
   "outputs": [
    {
     "data": {
      "text/plain": [
       "\r\n",
       "fa = \r\n",
       "\r\n",
       "    @(x)(x-2)^2\r\n",
       "\r\n",
       "\r\n",
       "fb = \r\n",
       "\r\n",
       "    @(x)(x-2)^2-1e-12\r\n",
       "\r\n"
      ]
     },
     "metadata": {},
     "output_type": "display_data"
    }
   ],
   "source": [
    "%%matlab\n",
    "fa = @(x) (x-2)^2\n",
    "fb = @(x) (x-2)^2 - 1e-12"
   ]
  },
  {
   "cell_type": "code",
   "execution_count": 17,
   "metadata": {
    "collapsed": false
   },
   "outputs": [
    {
     "data": {
      "text/plain": [
       "Exiting fzero: aborting search for an interval containing a sign change\r\n",
       "    because NaN or Inf function value encountered during search.\r\n",
       "(Function value at -1.7162e+154 is Inf.)\r\n",
       "Check function or try again with a different starting value.\r\n",
       "\r\n",
       "ans =\r\n",
       "\r\n",
       "   NaN\r\n",
       "\r\n",
       "Exiting fzero: aborting search for an interval containing a sign change\r\n",
       "    because NaN or Inf function value encountered during search.\r\n",
       "(Function value at -1.8203e+154 is Inf.)\r\n",
       "Check function or try again with a different starting value.\r\n",
       "\r\n",
       "ans =\r\n",
       "\r\n",
       "   NaN\r\n",
       "\r\n"
      ]
     },
     "metadata": {},
     "output_type": "display_data"
    }
   ],
   "source": [
    "%%matlab\n",
    "fzero(fa, 1)\n",
    "fzero(fb, 3)"
   ]
  },
  {
   "cell_type": "markdown",
   "metadata": {},
   "source": [
    "> Both functions can be easily solved with the Symbolic Math Toolbox. Note that solve correctly reports that 2 is a double root of (x-2)^2. Try:"
   ]
  },
  {
   "cell_type": "code",
   "execution_count": 19,
   "metadata": {
    "collapsed": false
   },
   "outputs": [
    {
     "data": {
      "text/plain": [
       " \r\n",
       "ans =\r\n",
       " \r\n",
       "                                      [2]\r\n",
       "                                      [ ]\r\n",
       "                                      [2]\r\n",
       " \r\n",
       "s =\r\n",
       " \r\n",
       "                                 [2.000001000]\r\n",
       "                                 [           ]\r\n",
       "                                 [1.999999000]\r\n",
       " \r\n",
       "ans =\r\n",
       " \r\n",
       "                                      0.\r\n",
       " \r\n",
       "ans =\r\n",
       " \r\n",
       "                                      0.\r\n"
      ]
     },
     "metadata": {},
     "output_type": "display_data"
    }
   ],
   "source": [
    "%%matlab\n",
    "syms x\n",
    "solve((x-2)^2)\n",
    "s = solve((x-2)^2-1e-12)\n",
    "fb(s(1))\n",
    "fb(s(2))"
   ]
  },
  {
   "cell_type": "markdown",
   "metadata": {},
   "source": [
    "> The zeros of fb can be found numerically only if you guess close enough, or if you provide two initial values of x for which fb differs in sign:"
   ]
  },
  {
   "cell_type": "code",
   "execution_count": 20,
   "metadata": {
    "collapsed": false,
    "scrolled": true
   },
   "outputs": [
    {
     "data": {
      "text/plain": [
       "\r\n",
       "ans =\r\n",
       "\r\n",
       "   1.999999000000000\r\n",
       "\r\n",
       "\r\n",
       "ans =\r\n",
       "\r\n",
       "   2.000001000000000\r\n",
       "\r\n",
       "\r\n",
       "ans =\r\n",
       "\r\n",
       "   1.999999000000000\r\n",
       "\r\n"
      ]
     },
     "metadata": {},
     "output_type": "display_data"
    }
   ],
   "source": [
    "%%matlab\n",
    "fzero(fb, 2)\n",
    "format long\n",
    "fzero(fb, [2 3])\n",
    "fzero(fb, [1 2])"
   ]
  },
  {
   "cell_type": "code",
   "execution_count": 21,
   "metadata": {
    "collapsed": false,
    "scrolled": false
   },
   "outputs": [
    {
     "data": {
      "text/plain": [
       "\r\n",
       "f = \r\n",
       "\r\n",
       "    @(x)real(airy(x))\r\n",
       "\r\n",
       " \r\n",
       "ans =\r\n",
       " \r\n",
       "                      RootOf(airy(_Z) - RootOf(real(_Z)))\r\n"
      ]
     },
     "metadata": {},
     "output_type": "display_data"
    },
    {
     "data": {
      "image/png": "[encoded data removed]"
     },
     "metadata": {},
     "output_type": "display_data"
    }
   ],
   "source": [
    "%%matlab\n",
    "f = @(x) real(airy(x))\n",
    "figure(1) ; clf\n",
    "ezplot(f)\n",
    "solve('real(airy(x))')"
   ]
  },
  {
   "cell_type": "code",
   "execution_count": 22,
   "metadata": {
    "collapsed": false,
    "scrolled": true
   },
   "outputs": [
    {
     "data": {
      "text/plain": [
       "\r\n",
       "s =\r\n",
       "\r\n",
       "  -2.338107410459763\r\n",
       "\r\n"
      ]
     },
     "metadata": {},
     "output_type": "display_data"
    },
    {
     "data": {
      "image/png": "[encoded data removed]"
     },
     "metadata": {},
     "output_type": "display_data"
    }
   ],
   "source": [
    "%%matlab\n",
    "s = fzero(f, 0)\n",
    "hold on\n",
    "plot(s, f(s), 'ro')"
   ]
  },
  {
   "cell_type": "code",
   "execution_count": 23,
   "metadata": {
    "collapsed": false
   },
   "outputs": [
    {
     "data": {
      "text/plain": [
       "\r\n",
       "xmin =\r\n",
       "\r\n",
       "  -3.248194011240023\r\n",
       "\r\n"
      ]
     },
     "metadata": {},
     "output_type": "display_data"
    },
    {
     "data": {
      "image/png": "[encoded data removed]"
     },
     "metadata": {},
     "output_type": "display_data"
    }
   ],
   "source": [
    "%%matlab\n",
    "xmin = fminbnd(f, -4, 0)\n",
    "plot(xmin, f(xmin), 'ko')"
   ]
  },
  {
   "cell_type": "code",
   "execution_count": 24,
   "metadata": {
    "collapsed": false
   },
   "outputs": [
    {
     "data": {
      "text/plain": [
       "\r\n",
       "g = \r\n",
       "\r\n",
       "    @(x)-real(airy(x))\r\n",
       "\r\n",
       "\r\n",
       "xmax =\r\n",
       "\r\n",
       "  -4.820099516350185\r\n",
       "\r\n"
      ]
     },
     "metadata": {},
     "output_type": "display_data"
    },
    {
     "data": {
      "image/png": "[encoded data removed]"
     },
     "metadata": {},
     "output_type": "display_data"
    }
   ],
   "source": [
    "%%matlab\n",
    "g = @(x) -real(airy(x))\n",
    "xmax = fminbnd(g, -5, -4)\n",
    "plot(xmax, f(xmax), 'ko')"
   ]
  },
  {
   "cell_type": "code",
   "execution_count": 25,
   "metadata": {
    "collapsed": false
   },
   "outputs": [
    {
     "data": {
      "text/plain": [
       "\r\n",
       "s =\r\n",
       "\r\n",
       "  -4.087949444130973\r\n",
       "\r\n"
      ]
     },
     "metadata": {},
     "output_type": "display_data"
    },
    {
     "data": {
      "image/png": "[encoded data removed]"
     },
     "metadata": {},
     "output_type": "display_data"
    }
   ],
   "source": [
    "%%matlab\n",
    "s = fzero(f, [xmax xmin])\n",
    "plot(s, f(s), 'ro')"
   ]
  },
  {
   "cell_type": "code",
   "execution_count": 26,
   "metadata": {
    "collapsed": false
   },
   "outputs": [
    {
     "data": {
      "text/plain": [
       "\r\n",
       "xmin =\r\n",
       "\r\n",
       "  -6.163330078125000\r\n",
       "\r\n"
      ]
     },
     "metadata": {},
     "output_type": "display_data"
    },
    {
     "data": {
      "image/png": "[encoded data removed]"
     },
     "metadata": {},
     "output_type": "display_data"
    }
   ],
   "source": [
    "%%matlab\n",
    "xmin = fminsearch(f, -6)\n",
    "plot(xmin, f(xmin), 'kx')"
   ]
  },
  {
   "cell_type": "markdown",
   "metadata": {},
   "source": [
    "## 21.5 Ordinary differential equations"
   ]
  },
  {
   "cell_type": "code",
   "execution_count": null,
   "metadata": {
    "collapsed": false
   },
   "outputs": [],
   "source": [
    "%%matlab\n",
    "syms t y\n",
    "Y = dsolve('Dy = t^2*y', 'y(0)=1', 't')\n",
    "\n",
    "% [tt,yy] = ode45(@f, tspan, y0)\n",
    "\n",
    "f1 = @(t,y) t^2 * y\n",
    "[tr,yr] = ode45(f1, [0 2], 1);\n",
    "\n",
    "ts = 0:.05:2;\n",
    "ys = subs(Y, t, ts);\n",
    "\n",
    "figure(2) ; clf\n",
    "plot(ts,ys, 'r-', tr,yr, 'bx');\n",
    "legend('symbolic', 'numeric')\n",
    "\n",
    "ys = subs(Y, t, tr);\n",
    "[tr ys yr ys-yr]\n",
    "err = norm(ys-yr) / norm(ys)"
   ]
  },
  {
   "cell_type": "code",
   "execution_count": 48,
   "metadata": {
    "collapsed": false
   },
   "outputs": [
    {
     "data": {
      "text/plain": [
       " \r\n",
       "Y =\r\n",
       " \r\n",
       "                                               2\r\n",
       "                              -2 + 3 cos(t) + t\r\n"
      ]
     },
     "metadata": {},
     "output_type": "display_data"
    }
   ],
   "source": [
    "%%matlab\n",
    "Y = dsolve('D2y + y = t^2', 'y(0)=1', 'Dy(0)=0', 't')"
   ]
  },
  {
   "cell_type": "code",
   "execution_count": 50,
   "metadata": {
    "collapsed": false
   },
   "outputs": [
    {
     "data": {
      "text/plain": [
       "\r\n",
       "f2 = \r\n",
       "\r\n",
       "    @(t,y)[y(2);t^2-y(1)]\r\n",
       "\r\n"
      ]
     },
     "metadata": {},
     "output_type": "display_data"
    }
   ],
   "source": [
    "%%matlab\n",
    "f2 = @(t,y) [y(2) ; t^2-y(1)]\n",
    "[tr,yy] = ode45(f2, [0 2], [1 0]');\n",
    "yr = yy(:,1) ;"
   ]
  },
  {
   "cell_type": "markdown",
   "metadata": {},
   "source": [
    "## 21.6 Other differential equations"
   ]
  },
  {
   "cell_type": "markdown",
   "metadata": {},
   "source": [
    "Delay differential equations (DDEs) are solved by dde23.  \n",
    "The function **bvp4c** solves boundary value ODE problems.  \n",
    "Finally, partial differential equations are solved with **pdepe** and **pdeval**.  \n",
    "See the online help facility for more information on these ODE, DDE, and PDE solvers.  \n"
   ]
  },
  {
   "cell_type": "code",
   "execution_count": null,
   "metadata": {
    "collapsed": true
   },
   "outputs": [],
   "source": []
  }
 ],
 "metadata": {
  "kernelspec": {
   "display_name": "Python [default]",
   "language": "python",
   "name": "python3"
  },
  "language_info": {
   "codemirror_mode": {
    "name": "ipython",
    "version": 3
   },
   "file_extension": ".py",
   "mimetype": "text/x-python",
   "name": "python",
   "nbconvert_exporter": "python",
   "pygments_lexer": "ipython3",
   "version": "3.5.2"
  }
 },
 "nbformat": 4,
 "nbformat_minor": 1
}
