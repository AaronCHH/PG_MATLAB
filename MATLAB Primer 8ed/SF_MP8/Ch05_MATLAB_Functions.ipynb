{
 "cells": [
  {
   "cell_type": "markdown",
   "metadata": {
    "collapsed": true
   },
   "source": [
    "# 5 MATLAB Functions"
   ]
  },
  {
   "cell_type": "code",
   "execution_count": 3,
   "metadata": {
    "collapsed": false
   },
   "outputs": [
    {
     "name": "stderr",
     "output_type": "stream",
     "text": [
      "C:\\Anaconda3\\lib\\site-packages\\IPython\\nbformat.py:13: ShimWarning: The `IPython.nbformat` package has been deprecated. You should import from nbformat instead.\n",
      "  \"You should import from nbformat instead.\", ShimWarning)\n"
     ]
    },
    {
     "name": "stdout",
     "output_type": "stream",
     "text": [
      "Starting MATLAB on ZMQ socket tcp://127.0.0.1:3202\n",
      "Send 'exit' command to kill the server\n",
      "........................MATLAB started and connected!\n"
     ]
    }
   ],
   "source": [
    "%load_ext pymatbridge"
   ]
  },
  {
   "cell_type": "markdown",
   "metadata": {},
   "source": [
    "## 5.1 Constructing matrices"
   ]
  },
  {
   "cell_type": "markdown",
   "metadata": {},
   "source": [
    "* Convenient matrix building functions include:  "
   ]
  },
  {
   "cell_type": "markdown",
   "metadata": {},
   "source": [
    "```    \n",
    "eye           identity matrix\n",
    "zeros         matrix of zeros\n",
    "ones          matrix of ones\n",
    "diag          create or extract diagonals\n",
    "triu          upper triangular part of a matrix\n",
    "tril          lower triangular part of a matrix\n",
    "rand          randomly generated matrix\n",
    "hilb          Hilbert matrix\n",
    "magic         magic square\n",
    "toeplitz      Toeplitz matrix\n",
    "gallery       a wide range of interesting matrices\n",
    "```"
   ]
  },
  {
   "cell_type": "code",
   "execution_count": 8,
   "metadata": {
    "collapsed": false
   },
   "outputs": [
    {
     "data": {
      "text/plain": [
       "\r\n",
       "A =\r\n",
       "\r\n",
       "    0.9649    0.9572    0.1419\r\n",
       "    0.1576    0.4854    0.4218\r\n",
       "    0.9706    0.8003    0.9157\r\n",
       "\r\n"
      ]
     },
     "metadata": {},
     "output_type": "display_data"
    }
   ],
   "source": [
    "%%matlab\n",
    "A = rand(3)"
   ]
  },
  {
   "cell_type": "code",
   "execution_count": 10,
   "metadata": {
    "collapsed": false
   },
   "outputs": [
    {
     "data": {
      "text/plain": [
       "\r\n",
       "x =\r\n",
       "\r\n",
       "     1     2     3\r\n",
       "\r\n",
       "\r\n",
       "ans =\r\n",
       "\r\n",
       "     1     0     0\r\n",
       "     0     2     0\r\n",
       "     0     0     3\r\n",
       "\r\n",
       "\r\n",
       "ans =\r\n",
       "\r\n",
       "    0.7922\r\n",
       "    0.8491\r\n",
       "    0.7431\r\n",
       "\r\n",
       "\r\n",
       "ans =\r\n",
       "\r\n",
       "    0.7922         0         0\r\n",
       "         0    0.8491         0\r\n",
       "         0         0    0.7431\r\n",
       "\r\n"
      ]
     },
     "metadata": {},
     "output_type": "display_data"
    }
   ],
   "source": [
    "%%matlab\n",
    "x = 1:3\n",
    "diag(x)\n",
    "diag(A)\n",
    "diag(diag(A))"
   ]
  },
  {
   "cell_type": "code",
   "execution_count": 11,
   "metadata": {
    "collapsed": false
   },
   "outputs": [
    {
     "data": {
      "text/plain": [
       "\r\n",
       "B =\r\n",
       "\r\n",
       "    0.7922    0.0357    0.6787         0         0\r\n",
       "    0.9595    0.8491    0.7577         0         0\r\n",
       "    0.6557    0.9340    0.7431         0         0\r\n",
       "    3.1416    3.1416    3.1416    1.0000         0\r\n",
       "    3.1416    3.1416    3.1416         0    1.0000\r\n",
       "\r\n"
      ]
     },
     "metadata": {},
     "output_type": "display_data"
    }
   ],
   "source": [
    "%%matlab\n",
    "B = [A zeros(3,2) ; pi*ones(2,3), eye(2)]"
   ]
  },
  {
   "cell_type": "code",
   "execution_count": 12,
   "metadata": {
    "collapsed": false
   },
   "outputs": [
    {
     "data": {
      "text/plain": [
       "\r\n",
       "ans =\r\n",
       "\r\n",
       "    0.7922    0.0357    0.6787\r\n",
       "         0    0.8491    0.7577\r\n",
       "         0         0    0.7431\r\n",
       "\r\n",
       "\r\n",
       "ans =\r\n",
       "\r\n",
       "     1     1     1\r\n",
       "     0     1     1\r\n",
       "     0     0     1\r\n",
       "\r\n"
      ]
     },
     "metadata": {},
     "output_type": "display_data"
    }
   ],
   "source": [
    "%%matlab\n",
    "triu(A)\n",
    "triu(A) == A"
   ]
  },
  {
   "cell_type": "code",
   "execution_count": 14,
   "metadata": {
    "collapsed": false,
    "scrolled": false
   },
   "outputs": [
    {
     "data": {
      "text/plain": [
       "\r\n",
       "A =\r\n",
       "\r\n",
       "    2.0000   -2.0000   -0.6667   -0.4000   -0.2857   -0.2222\r\n",
       "    0.6667    2.0000   -2.0000   -0.6667   -0.4000   -0.2857\r\n",
       "    0.4000    0.6667    2.0000   -2.0000   -0.6667   -0.4000\r\n",
       "    0.2857    0.4000    0.6667    2.0000   -2.0000   -0.6667\r\n",
       "    0.2222    0.2857    0.4000    0.6667    2.0000   -2.0000\r\n",
       "    0.1818    0.2222    0.2857    0.4000    0.6667    2.0000\r\n",
       "\r\n",
       "\r\n",
       "ans =\r\n",
       "\r\n",
       "    3.1416\r\n",
       "    3.1416\r\n",
       "    3.1409\r\n",
       "    3.1244\r\n",
       "    2.8875\r\n",
       "    1.4161\r\n",
       "\r\n"
      ]
     },
     "metadata": {},
     "output_type": "display_data"
    }
   ],
   "source": [
    "%%matlab\n",
    "A = gallery('parter', 6)\n",
    "svd(A)"
   ]
  },
  {
   "cell_type": "code",
   "execution_count": 16,
   "metadata": {
    "collapsed": false
   },
   "outputs": [
    {
     "data": {
      "text/plain": [
       "\r\n",
       "ans =\r\n",
       "\r\n",
       "   1.0e+03 *\r\n",
       "\r\n",
       "   -1.0200\r\n",
       "    0.0000\r\n",
       "    0.0001\r\n",
       "    1.0000\r\n",
       "    1.0000\r\n",
       "    1.0199\r\n",
       "    1.0200\r\n",
       "    1.0200\r\n",
       "\r\n",
       "\r\n",
       "ans =\r\n",
       "\r\n",
       "   1.0e+03 *\r\n",
       "\r\n",
       "   -1.0200\r\n",
       "    1.0200\r\n",
       "    1.0200\r\n",
       "    1.0199\r\n",
       "    1.0000\r\n",
       "    1.0000\r\n",
       "\r\n"
      ]
     },
     "metadata": {},
     "output_type": "display_data"
    }
   ],
   "source": [
    "%%matlab\n",
    "A = rosser;\n",
    "eig(A)\n",
    "eigs(A)"
   ]
  },
  {
   "cell_type": "markdown",
   "metadata": {},
   "source": [
    "## 5.2 Scalar functions"
   ]
  },
  {
   "cell_type": "markdown",
   "metadata": {},
   "source": [
    "```\n",
    "abs atan2 exp log10 rem sqrt\n",
    "acos ceil floor log2 round tan\n",
    "asin conj imag mod sign\n",
    "atan cos log real sin\n",
    "```"
   ]
  },
  {
   "cell_type": "code",
   "execution_count": 18,
   "metadata": {
    "collapsed": false
   },
   "outputs": [
    {
     "data": {
      "text/plain": [
       "\r\n",
       "ans =\r\n",
       "\r\n",
       "         0         0\r\n",
       "    0.1000    0.0998\r\n",
       "    0.2000    0.1987\r\n",
       "    0.3000    0.2955\r\n",
       "    0.4000    0.3894\r\n",
       "    0.5000    0.4794\r\n",
       "    0.6000    0.5646\r\n",
       "    0.7000    0.6442\r\n",
       "    0.8000    0.7174\r\n",
       "    0.9000    0.7833\r\n",
       "    1.0000    0.8415\r\n",
       "    1.1000    0.8912\r\n",
       "    1.2000    0.9320\r\n",
       "    1.3000    0.9636\r\n",
       "    1.4000    0.9854\r\n",
       "    1.5000    0.9975\r\n",
       "    1.6000    0.9996\r\n",
       "    1.7000    0.9917\r\n",
       "    1.8000    0.9738\r\n",
       "    1.9000    0.9463\r\n",
       "    2.0000    0.9093\r\n",
       "\r\n"
      ]
     },
     "metadata": {},
     "output_type": "display_data"
    }
   ],
   "source": [
    "%%matlab\n",
    "x = (0:0.1:2)';\n",
    "y = sin(x);\n",
    "[x y]"
   ]
  },
  {
   "cell_type": "markdown",
   "metadata": {},
   "source": [
    "## 5.3 Vector functions and data analysis"
   ]
  },
  {
   "cell_type": "markdown",
   "metadata": {},
   "source": [
    "```\n",
    "max sum median any sort var\n",
    "min prod mean all std mode\n",
    "```"
   ]
  },
  {
   "cell_type": "markdown",
   "metadata": {},
   "source": [
    "## 5.4 Matrix functions"
   ]
  },
  {
   "cell_type": "markdown",
   "metadata": {},
   "source": [
    "* Much of the power of MATLAB comes from its matrix functions. Here is a partial list of the most important ones:"
   ]
  },
  {
   "cell_type": "markdown",
   "metadata": {},
   "source": [
    "```\n",
    "eig           eigenvalues and eigenvectors\n",
    "eigs          like eig, for large sparse matrices\n",
    "chol          Cholesky factorization\n",
    "svd           singular value decomposition\n",
    "svds          like svd, for large sparse matrices\n",
    "lu            LU factorization\n",
    "qr            QR factorization\n",
    "poly          characteristic polynomial\n",
    "det           determinant\n",
    "size          size of an array\n",
    "length        length of a vector\n",
    "norm          1-norm, 2-norm, Frobenius-norm, ∞-norm\n",
    "cond          condition number in the 2-norm\n",
    "condest       condition number estimate\n",
    "rank          rank\n",
    "kron          Kronecker tensor product\n",
    "find          find indices of nonzero entries\n",
    "linsolve      solve a special linear system\n",
    "```"
   ]
  },
  {
   "cell_type": "code",
   "execution_count": 19,
   "metadata": {
    "collapsed": false
   },
   "outputs": [
    {
     "data": {
      "text/plain": [
       "\r\n",
       "lambda =\r\n",
       "\r\n",
       "   1.0e+03 *\r\n",
       "\r\n",
       "   -1.0200\r\n",
       "    0.0000\r\n",
       "    0.0001\r\n",
       "    1.0000\r\n",
       "    1.0000\r\n",
       "    1.0199\r\n",
       "    1.0200\r\n",
       "    1.0200\r\n",
       "\r\n"
      ]
     },
     "metadata": {},
     "output_type": "display_data"
    }
   ],
   "source": [
    "%%matlab\n",
    "lambda = eig(A)"
   ]
  },
  {
   "cell_type": "code",
   "execution_count": 20,
   "metadata": {
    "collapsed": false
   },
   "outputs": [
    {
     "data": {
      "text/plain": [
       "\r\n",
       "V =\r\n",
       "\r\n",
       "    0.0031   -0.0447    0.6294   -0.1760   -0.3421    0.0623   -0.2236    0.6324\r\n",
       "    0.0016   -0.0894   -0.3147    0.5330   -0.5549   -0.0312    0.4472    0.3162\r\n",
       "    0.0016    0.0894    0.3147    0.3521    0.6841    0.0312    0.4472    0.3162\r\n",
       "    0.0031    0.0447   -0.6294   -0.2665    0.2775   -0.0623   -0.2236    0.6324\r\n",
       "    0.3162   -0.6261   -0.0312    0.4296    0.1531    0.3147   -0.4472   -0.0016\r\n",
       "    0.3162   -0.6261    0.0312   -0.4554    0.0239   -0.3147    0.4472   -0.0016\r\n",
       "   -0.6324   -0.3130    0.0623    0.2148    0.0766   -0.6294   -0.2236    0.0031\r\n",
       "   -0.6324   -0.3130   -0.0623   -0.2277    0.0120    0.6294    0.2236    0.0031\r\n",
       "\r\n",
       "\r\n",
       "Lambda =\r\n",
       "\r\n",
       "   1.0e+03 *\r\n",
       "\r\n",
       "   -1.0200         0         0         0         0         0         0         0\r\n",
       "         0   -0.0000         0         0         0         0         0         0\r\n",
       "         0         0    0.0001         0         0         0         0         0\r\n",
       "         0         0         0    1.0000         0         0         0         0\r\n",
       "         0         0         0         0    1.0000         0         0         0\r\n",
       "         0         0         0         0         0    1.0199         0         0\r\n",
       "         0         0         0         0         0         0    1.0200         0\r\n",
       "         0         0         0         0         0         0         0    1.0200\r\n",
       "\r\n"
      ]
     },
     "metadata": {},
     "output_type": "display_data"
    }
   ],
   "source": [
    "%%matlab\n",
    "[V, Lambda] = eig(A)"
   ]
  },
  {
   "cell_type": "code",
   "execution_count": 21,
   "metadata": {
    "collapsed": false
   },
   "outputs": [
    {
     "data": {
      "text/plain": [
       "\r\n",
       "ans =\r\n",
       "\r\n",
       "   -3.1623   -0.0000    0.0617 -176.0401 -342.0671   63.5610 -228.0789  645.1279\r\n",
       "   -1.5812    0.0000   -0.0309  532.9658 -554.9301  -31.7805  456.1579  322.5639\r\n",
       "   -1.5812    0.0000    0.0309  352.0801  684.1342   31.7805  456.1579  322.5639\r\n",
       "   -3.1623    0.0000   -0.0617 -266.4829  277.4651  -63.5610 -228.0789  645.1279\r\n",
       " -322.5639   -0.0000   -0.0031  429.6026  153.1066  320.9517 -456.1579   -1.5812\r\n",
       " -322.5639   -0.0000    0.0031 -455.4434   23.9026 -320.9517  456.1579   -1.5812\r\n",
       "  645.1279    0.0000    0.0061  214.8013   76.5533 -641.9034 -228.0789    3.1623\r\n",
       "  645.1279    0.0000   -0.0061 -227.7217   11.9513  641.9034  228.0789    3.1623\r\n",
       "\r\n"
      ]
     },
     "metadata": {},
     "output_type": "display_data"
    }
   ],
   "source": [
    "%%matlab\n",
    "A*V"
   ]
  },
  {
   "cell_type": "code",
   "execution_count": 22,
   "metadata": {
    "collapsed": false
   },
   "outputs": [
    {
     "data": {
      "text/plain": [
       "\r\n",
       "ans =\r\n",
       "\r\n",
       "   -3.1623    0.0000    0.0617 -176.0401 -342.0671   63.5610 -228.0789  645.1279\r\n",
       "   -1.5812    0.0000   -0.0309  532.9658 -554.9301  -31.7805  456.1579  322.5639\r\n",
       "   -1.5812   -0.0000    0.0309  352.0801  684.1342   31.7805  456.1579  322.5639\r\n",
       "   -3.1623   -0.0000   -0.0617 -266.4829  277.4651  -63.5610 -228.0789  645.1279\r\n",
       " -322.5639    0.0000   -0.0031  429.6026  153.1066  320.9517 -456.1579   -1.5812\r\n",
       " -322.5639    0.0000    0.0031 -455.4434   23.9026 -320.9517  456.1579   -1.5812\r\n",
       "  645.1279    0.0000    0.0061  214.8013   76.5533 -641.9034 -228.0789    3.1623\r\n",
       "  645.1279    0.0000   -0.0061 -227.7217   11.9513  641.9034  228.0789    3.1623\r\n",
       "\r\n"
      ]
     },
     "metadata": {},
     "output_type": "display_data"
    }
   ],
   "source": [
    "%%matlab\n",
    "V*Lambda"
   ]
  },
  {
   "cell_type": "markdown",
   "metadata": {},
   "source": [
    "## 5.5 The linsolve function"
   ]
  },
  {
   "cell_type": "code",
   "execution_count": 23,
   "metadata": {
    "collapsed": false
   },
   "outputs": [
    {
     "data": {
      "text/plain": [
       "\r\n",
       "A =\r\n",
       "\r\n",
       "     1     2\r\n",
       "     3     4\r\n",
       "\r\n",
       "\r\n",
       "b =\r\n",
       "\r\n",
       "     4\r\n",
       "    10\r\n",
       "\r\n",
       "\r\n",
       "ans =\r\n",
       "\r\n",
       "    2.0000\r\n",
       "    1.0000\r\n",
       "\r\n",
       "\r\n",
       "ans =\r\n",
       "\r\n",
       "    2.0000\r\n",
       "    1.0000\r\n",
       "\r\n"
      ]
     },
     "metadata": {},
     "output_type": "display_data"
    }
   ],
   "source": [
    "%%matlab\n",
    "A = [1 2 ; 3 4]\n",
    "b = [4 10]'\n",
    "A\\b\n",
    "linsolve(A,b)"
   ]
  },
  {
   "cell_type": "code",
   "execution_count": 24,
   "metadata": {
    "collapsed": false
   },
   "outputs": [
    {
     "data": {
      "text/plain": [
       "\r\n",
       "C =\r\n",
       "\r\n",
       "     2     1\r\n",
       "     1     2\r\n",
       "\r\n",
       "\r\n",
       "x =\r\n",
       "\r\n",
       "   -0.6667\r\n",
       "    5.3333\r\n",
       "\r\n"
      ]
     },
     "metadata": {},
     "output_type": "display_data"
    }
   ],
   "source": [
    "%%matlab\n",
    "C = [2 1 ; 1 2]\n",
    "x = C\\b"
   ]
  },
  {
   "cell_type": "code",
   "execution_count": 25,
   "metadata": {
    "collapsed": false
   },
   "outputs": [
    {
     "data": {
      "text/plain": [
       "\r\n",
       "R =\r\n",
       "\r\n",
       "    1.4142    0.7071\r\n",
       "         0    1.2247\r\n",
       "\r\n",
       "\r\n",
       "y =\r\n",
       "\r\n",
       "    2.8284\r\n",
       "    6.5320\r\n",
       "\r\n",
       "\r\n",
       "x =\r\n",
       "\r\n",
       "   -0.6667\r\n",
       "    5.3333\r\n",
       "\r\n"
      ]
     },
     "metadata": {},
     "output_type": "display_data"
    }
   ],
   "source": [
    "%%matlab\n",
    "R = chol(C)\n",
    "y = R'\\b\n",
    "x = R\\y"
   ]
  },
  {
   "cell_type": "code",
   "execution_count": 26,
   "metadata": {
    "collapsed": false,
    "scrolled": true
   },
   "outputs": [
    {
     "data": {
      "text/plain": [
       "\r\n",
       "opts = \r\n",
       "\r\n",
       "    UT: 1\r\n",
       "\r\n",
       "\r\n",
       "opts = \r\n",
       "\r\n",
       "        UT: 1\r\n",
       "    TRANSA: 1\r\n",
       "\r\n",
       "\r\n",
       "y =\r\n",
       "\r\n",
       "    2.8284\r\n",
       "    6.5320\r\n",
       "\r\n"
      ]
     },
     "metadata": {},
     "output_type": "display_data"
    }
   ],
   "source": [
    "%%matlab\n",
    "opts.UT = true\n",
    "opts.TRANSA = true\n",
    "y = linsolve(R,b,opts)"
   ]
  },
  {
   "cell_type": "markdown",
   "metadata": {},
   "source": [
    "## 5.6 The find function"
   ]
  },
  {
   "cell_type": "code",
   "execution_count": 27,
   "metadata": {
    "collapsed": false
   },
   "outputs": [
    {
     "data": {
      "text/plain": [
       "\r\n",
       "x =\r\n",
       "\r\n",
       "    1.6469    1.3897    0.6342    1.9004    0.0689\r\n",
       "\r\n",
       "\r\n",
       "y =\r\n",
       "\r\n",
       "    1.6469    1.3897    1.9004\r\n",
       "\r\n"
      ]
     },
     "metadata": {},
     "output_type": "display_data"
    }
   ],
   "source": [
    "%%matlab\n",
    "x = 2*rand(1,5)\n",
    "y = x(find(x > 1))"
   ]
  },
  {
   "cell_type": "code",
   "execution_count": 28,
   "metadata": {
    "collapsed": false
   },
   "outputs": [
    {
     "data": {
      "text/plain": [
       "\r\n",
       "A =\r\n",
       "\r\n",
       "    0.4387    0.7952    0.4456\r\n",
       "    0.3816    0.1869    0.6463\r\n",
       "    0.7655    0.4898    0.7094\r\n",
       "\r\n",
       "\r\n",
       "i =\r\n",
       "\r\n",
       "     1\r\n",
       "     2\r\n",
       "     3\r\n",
       "     1\r\n",
       "     2\r\n",
       "     3\r\n",
       "     1\r\n",
       "     2\r\n",
       "     3\r\n",
       "\r\n",
       "\r\n",
       "j =\r\n",
       "\r\n",
       "     1\r\n",
       "     1\r\n",
       "     1\r\n",
       "     2\r\n",
       "     2\r\n",
       "     2\r\n",
       "     3\r\n",
       "     3\r\n",
       "     3\r\n",
       "\r\n",
       "\r\n",
       "x =\r\n",
       "\r\n",
       "    0.4387\r\n",
       "    0.3816\r\n",
       "    0.7655\r\n",
       "    0.7952\r\n",
       "    0.1869\r\n",
       "    0.4898\r\n",
       "    0.4456\r\n",
       "    0.6463\r\n",
       "    0.7094\r\n",
       "\r\n"
      ]
     },
     "metadata": {},
     "output_type": "display_data"
    }
   ],
   "source": [
    "%%matlab\n",
    "A = rand(3)\n",
    "[i,j,x] = find(A)"
   ]
  },
  {
   "cell_type": "code",
   "execution_count": 29,
   "metadata": {
    "collapsed": false
   },
   "outputs": [
    {
     "data": {
      "text/plain": [
       "\r\n",
       "i =\r\n",
       "\r\n",
       "     3\r\n",
       "     1\r\n",
       "     2\r\n",
       "     3\r\n",
       "\r\n",
       "\r\n",
       "j =\r\n",
       "\r\n",
       "     1\r\n",
       "     2\r\n",
       "     3\r\n",
       "     3\r\n",
       "\r\n",
       "\r\n",
       "x =\r\n",
       "\r\n",
       "     1\r\n",
       "     1\r\n",
       "     1\r\n",
       "     1\r\n",
       "\r\n",
       "\r\n",
       "ans =\r\n",
       "\r\n",
       "     3     1     1\r\n",
       "     1     2     1\r\n",
       "     2     3     1\r\n",
       "     3     3     1\r\n",
       "\r\n"
      ]
     },
     "metadata": {},
     "output_type": "display_data"
    }
   ],
   "source": [
    "%%matlab\n",
    "[i,j,x] = find(A > .5)\n",
    "[i j x]"
   ]
  },
  {
   "cell_type": "markdown",
   "metadata": {},
   "source": [
    "## 5.7 1-D indexing and the reshape function"
   ]
  },
  {
   "cell_type": "code",
   "execution_count": 30,
   "metadata": {
    "collapsed": false
   },
   "outputs": [
    {
     "data": {
      "text/plain": [
       "\r\n",
       "A =\r\n",
       "\r\n",
       "    0.7547    0.1190    0.2238    0.8909    0.2575\r\n",
       "    0.2760    0.4984    0.7513    0.9593    0.8407\r\n",
       "    0.6797    0.9597    0.2551    0.5472    0.2543\r\n",
       "    0.6551    0.3404    0.5060    0.1386    0.8143\r\n",
       "    0.1626    0.5853    0.6991    0.1493    0.2435\r\n",
       "\r\n",
       "\r\n",
       "k =\r\n",
       "\r\n",
       "     1\r\n",
       "     3\r\n",
       "     4\r\n",
       "     8\r\n",
       "    10\r\n",
       "    12\r\n",
       "    14\r\n",
       "    15\r\n",
       "    16\r\n",
       "    17\r\n",
       "    18\r\n",
       "    22\r\n",
       "    24\r\n",
       "\r\n",
       "\r\n",
       "ans =\r\n",
       "\r\n",
       "    0.7547\r\n",
       "    0.6797\r\n",
       "    0.6551\r\n",
       "    0.9597\r\n",
       "    0.5853\r\n",
       "    0.7513\r\n",
       "    0.5060\r\n",
       "    0.6991\r\n",
       "    0.8909\r\n",
       "    0.9593\r\n",
       "    0.5472\r\n",
       "    0.8407\r\n",
       "    0.8143\r\n",
       "\r\n",
       "\r\n",
       "A =\r\n",
       "\r\n",
       "   99.7547    0.1190    0.2238   99.8909    0.2575\r\n",
       "    0.2760    0.4984   99.7513   99.9593   99.8407\r\n",
       "   99.6797   99.9597    0.2551   99.5472    0.2543\r\n",
       "   99.6551    0.3404   99.5060    0.1386   99.8143\r\n",
       "    0.1626   99.5853   99.6991    0.1493    0.2435\r\n",
       "\r\n"
      ]
     },
     "metadata": {},
     "output_type": "display_data"
    }
   ],
   "source": [
    "%%matlab\n",
    "A = rand(5)\n",
    "k = find(A > .5)\n",
    "A(k)\n",
    "A(k) = A(k) + 99"
   ]
  },
  {
   "cell_type": "code",
   "execution_count": 31,
   "metadata": {
    "collapsed": false
   },
   "outputs": [
    {
     "data": {
      "text/plain": [
       "\r\n",
       "A =\r\n",
       "\r\n",
       "    0.9293    0.2511    0.3517\r\n",
       "    0.3500    0.6160    0.8308\r\n",
       "    0.1966    0.4733    0.5853\r\n",
       "\r\n",
       "\r\n",
       "ans =\r\n",
       "\r\n",
       "    0.2511\r\n",
       "\r\n",
       "\r\n",
       "ans =\r\n",
       "\r\n",
       "    0.2511\r\n",
       "\r\n"
      ]
     },
     "metadata": {},
     "output_type": "display_data"
    }
   ],
   "source": [
    "%%matlab\n",
    "A = rand(3)\n",
    "A(1,2)\n",
    "A(4)"
   ]
  },
  {
   "cell_type": "code",
   "execution_count": 32,
   "metadata": {
    "collapsed": false
   },
   "outputs": [
    {
     "data": {
      "text/plain": [
       "\r\n",
       "A =\r\n",
       "\r\n",
       "    17    24     1     8    15\r\n",
       "    23     5     7    14    16\r\n",
       "     4     6    13    20    22\r\n",
       "    10    12    19    21     3\r\n",
       "    11    18    25     2     9\r\n",
       "\r\n",
       "\r\n",
       "ans =\r\n",
       "\r\n",
       "    17    23\r\n",
       "    11    24\r\n",
       "\r\n",
       "\r\n",
       "ans =\r\n",
       "\r\n",
       "    17    23     4    10    11    24     5\r\n",
       "\r\n",
       "\r\n",
       "ans =\r\n",
       "\r\n",
       "    17\r\n",
       "    23\r\n",
       "     4\r\n",
       "    10\r\n",
       "    11\r\n",
       "    24\r\n",
       "     5\r\n",
       "\r\n"
      ]
     },
     "metadata": {},
     "output_type": "display_data"
    }
   ],
   "source": [
    "%%matlab\n",
    "A = magic(5)\n",
    "A([1 2 ; 5 6])\n",
    "A(1:7)\n",
    "A([1:7]')"
   ]
  },
  {
   "cell_type": "code",
   "execution_count": 33,
   "metadata": {
    "collapsed": false
   },
   "outputs": [
    {
     "data": {
      "text/plain": [
       "\r\n",
       "A =\r\n",
       "\r\n",
       "   101   104     1     8    15\r\n",
       "   103     5     7    14    16\r\n",
       "     4     6    13    20    22\r\n",
       "    10    12    19    21     3\r\n",
       "   102    18    25     2     9\r\n",
       "\r\n",
       "\r\n",
       "A =\r\n",
       "\r\n",
       "     0     0     1     8    15\r\n",
       "     0     0     7    14    16\r\n",
       "     0     6    13    20    22\r\n",
       "     0    12    19    21     3\r\n",
       "     0    18    25     2     9\r\n",
       "\r\n",
       "\r\n",
       "A =\r\n",
       "\r\n",
       "    -1    -1     1     8    15\r\n",
       "    -1    -1     7    14    16\r\n",
       "    -1     6    13    20    22\r\n",
       "    -1    12    19    21     3\r\n",
       "    -1    18    25     2     9\r\n",
       "\r\n"
      ]
     },
     "metadata": {},
     "output_type": "display_data"
    }
   ],
   "source": [
    "%%matlab\n",
    "A([1 2 ; 5 6]) = 101:104\n",
    "A(1:7) = 0\n",
    "A([1:7]') = -1"
   ]
  },
  {
   "cell_type": "code",
   "execution_count": 34,
   "metadata": {
    "collapsed": false
   },
   "outputs": [
    {
     "data": {
      "text/plain": [
       "\r\n",
       "A =\r\n",
       "\r\n",
       "    17    24     1     8    15\r\n",
       "    23     5     7    14    16\r\n",
       "     4     6    13    20    22\r\n",
       "    10    12    19    21     3\r\n",
       "    11    18    25     2     9\r\n",
       "\r\n",
       "\r\n",
       "k =\r\n",
       "\r\n",
       "     1     2\r\n",
       "     5     6\r\n",
       "\r\n",
       "\r\n",
       "k =\r\n",
       "\r\n",
       "     1\r\n",
       "     5\r\n",
       "     2\r\n",
       "     6\r\n",
       "\r\n",
       "\r\n",
       "A =\r\n",
       "\r\n",
       "   101   104     1     8    15\r\n",
       "   103     5     7    14    16\r\n",
       "     4     6    13    20    22\r\n",
       "    10    12    19    21     3\r\n",
       "   102    18    25     2     9\r\n",
       "\r\n"
      ]
     },
     "metadata": {},
     "output_type": "display_data"
    }
   ],
   "source": [
    "%%matlab\n",
    "A = magic(5)\n",
    "k = [1 2 ; 5 6]\n",
    "k = k(:)\n",
    "A(k) = 101:104"
   ]
  },
  {
   "cell_type": "code",
   "execution_count": 35,
   "metadata": {
    "collapsed": false
   },
   "outputs": [
    {
     "data": {
      "text/plain": [
       "\r\n",
       "A =\r\n",
       "\r\n",
       "     1     5     9    13\r\n",
       "     2     6    10    14\r\n",
       "     3     7    11    15\r\n",
       "     4     8    12    16\r\n",
       "\r\n",
       "\r\n",
       "C =\r\n",
       "\r\n",
       "     1     3     5     7     9    11    13    15\r\n",
       "     2     4     6     8    10    12    14    16\r\n",
       "\r\n"
      ]
     },
     "metadata": {},
     "output_type": "display_data"
    }
   ],
   "source": [
    "%%matlab\n",
    "A = reshape(1:16, 4, 4)\n",
    "C = reshape(A, 2, 8)"
   ]
  },
  {
   "cell_type": "markdown",
   "metadata": {},
   "source": [
    "## 5.8 Logical indexing"
   ]
  },
  {
   "cell_type": "code",
   "execution_count": 36,
   "metadata": {
    "collapsed": false
   },
   "outputs": [
    {
     "data": {
      "text/plain": [
       "\r\n",
       "A =\r\n",
       "\r\n",
       "    0.5497    0.3804    0.7792    0.0119    0.5285\r\n",
       "    0.9172    0.5678    0.9340    0.3371    0.1656\r\n",
       "    0.2858    0.0759    0.1299    0.1622    0.6020\r\n",
       "    0.7572    0.0540    0.5688    0.7943    0.2630\r\n",
       "    0.7537    0.5308    0.4694    0.3112    0.6541\r\n",
       "\r\n",
       "\r\n",
       "S =\r\n",
       "\r\n",
       "     1     0     1     0     1\r\n",
       "     1     1     1     0     0\r\n",
       "     0     0     0     0     1\r\n",
       "     1     0     1     1     0\r\n",
       "     1     1     0     0     1\r\n",
       "\r\n",
       "\r\n",
       "ans =\r\n",
       "\r\n",
       "    0.5497\r\n",
       "    0.9172\r\n",
       "    0.7572\r\n",
       "    0.7537\r\n",
       "    0.5678\r\n",
       "    0.5308\r\n",
       "    0.7792\r\n",
       "    0.9340\r\n",
       "    0.5688\r\n",
       "    0.7943\r\n",
       "    0.5285\r\n",
       "    0.6020\r\n",
       "    0.6541\r\n",
       "\r\n",
       "\r\n",
       "A =\r\n",
       "\r\n",
       "   99.5497    0.3804   99.7792    0.0119   99.5285\r\n",
       "   99.9172   99.5678   99.9340    0.3371    0.1656\r\n",
       "    0.2858    0.0759    0.1299    0.1622   99.6020\r\n",
       "   99.7572    0.0540   99.5688   99.7943    0.2630\r\n",
       "   99.7537   99.5308    0.4694    0.3112   99.6541\r\n",
       "\r\n"
      ]
     },
     "metadata": {},
     "output_type": "display_data"
    }
   ],
   "source": [
    "%%matlab\n",
    "A = rand(5)\n",
    "S = A > .5\n",
    "A(S)\n",
    "A(S) = A(S) + 99"
   ]
  },
  {
   "cell_type": "code",
   "execution_count": 40,
   "metadata": {
    "collapsed": false
   },
   "outputs": [
    {
     "data": {
      "text/plain": [
       "\r\n",
       "S =\r\n",
       "\r\n",
       "     0     0     1     0     1\r\n",
       "     0     0     0     0     0\r\n",
       "     1     0     0     0     1\r\n",
       "     0     1     0     1     0\r\n",
       "     0     1     1     1     1\r\n",
       "\r\n",
       "\r\n",
       "ans =\r\n",
       "\r\n",
       "    0.2858\r\n",
       "    0.0540\r\n",
       "   99.5308\r\n",
       "   99.7792\r\n",
       "    0.4694\r\n",
       "   99.7943\r\n",
       "    0.3112\r\n",
       "   99.5285\r\n",
       "   99.6020\r\n",
       "   99.6541\r\n",
       "\r\n"
      ]
     },
     "metadata": {},
     "output_type": "display_data"
    }
   ],
   "source": [
    "%%matlab\n",
    "S = randi([0 1], 5)\n",
    "% A(S) % fails\n",
    "A(S==1) % OK"
   ]
  },
  {
   "cell_type": "markdown",
   "metadata": {},
   "source": [
    "## 5.9 The bsxfun and repmat functions"
   ]
  },
  {
   "cell_type": "code",
   "execution_count": 41,
   "metadata": {
    "collapsed": false
   },
   "outputs": [
    {
     "data": {
      "text/plain": [
       "\r\n",
       "A =\r\n",
       "\r\n",
       "    0.1890    0.7802    0.4359    0.8176    0.5328\r\n",
       "    0.6868    0.0811    0.4468    0.7948    0.3507\r\n",
       "    0.1835    0.9294    0.3063    0.6443    0.9390\r\n",
       "    0.3685    0.7757    0.5085    0.3786    0.8759\r\n",
       "    0.6256    0.4868    0.5108    0.8116    0.5502\r\n",
       "\r\n",
       "\r\n",
       "C =\r\n",
       "\r\n",
       "   -0.3715    0.2198   -0.1246    0.2572   -0.0276\r\n",
       "    0.1264   -0.4793   -0.1136    0.2344   -0.2097\r\n",
       "   -0.3769    0.3690   -0.2541    0.0839    0.3786\r\n",
       "   -0.1919    0.2153   -0.0519   -0.1818    0.3155\r\n",
       "    0.0652   -0.0736   -0.0496    0.2512   -0.0103\r\n",
       "\r\n"
      ]
     },
     "metadata": {},
     "output_type": "display_data"
    }
   ],
   "source": [
    "%%matlab\n",
    "A = rand(5)\n",
    "C = A - mean(A(:))"
   ]
  },
  {
   "cell_type": "code",
   "execution_count": 42,
   "metadata": {
    "collapsed": false
   },
   "outputs": [
    {
     "data": {
      "text/plain": [
       "\r\n",
       "n =\r\n",
       "\r\n",
       "     5\r\n",
       "\r\n",
       "\r\n",
       "C =\r\n",
       "\r\n",
       "   -0.2217    0.1696   -0.0058    0.1282   -0.1169\r\n",
       "    0.2761   -0.5295    0.0051    0.1054   -0.2990\r\n",
       "   -0.2272    0.3187   -0.1353   -0.0451    0.2893\r\n",
       "   -0.0422    0.1651    0.0669   -0.3108    0.2262\r\n",
       "    0.2149   -0.1239    0.0691    0.1222   -0.0996\r\n",
       "\r\n"
      ]
     },
     "metadata": {},
     "output_type": "display_data"
    }
   ],
   "source": [
    "%%matlab\n",
    "n = size(A,1)\n",
    "C = A - repmat(mean(A), n, 1)"
   ]
  },
  {
   "cell_type": "code",
   "execution_count": 43,
   "metadata": {
    "collapsed": false
   },
   "outputs": [
    {
     "data": {
      "text/plain": [
       "\r\n",
       "C =\r\n",
       "\r\n",
       "   -0.2217    0.1696   -0.0058    0.1282   -0.1169\r\n",
       "    0.2761   -0.5295    0.0051    0.1054   -0.2990\r\n",
       "   -0.2272    0.3187   -0.1353   -0.0451    0.2893\r\n",
       "   -0.0422    0.1651    0.0669   -0.3108    0.2262\r\n",
       "    0.2149   -0.1239    0.0691    0.1222   -0.0996\r\n",
       "\r\n",
       "\r\n",
       "ans =\r\n",
       "\r\n",
       "   1.0e-15 *\r\n",
       "\r\n",
       "    0.0444    0.0222   -0.0111    0.1332   -0.0222\r\n",
       "\r\n"
      ]
     },
     "metadata": {},
     "output_type": "display_data"
    }
   ],
   "source": [
    "%%matlab\n",
    "C = bsxfun(@minus, A, mean(A))\n",
    "mean(C)"
   ]
  },
  {
   "cell_type": "code",
   "execution_count": 44,
   "metadata": {
    "collapsed": false
   },
   "outputs": [
    {
     "data": {
      "text/plain": [
       "\r\n",
       "C =\r\n",
       "\r\n",
       "   -0.3621    0.2291   -0.1152    0.2665   -0.0183\r\n",
       "    0.2147   -0.3909   -0.0253    0.3228   -0.1213\r\n",
       "   -0.4170    0.3289   -0.2942    0.0438    0.3385\r\n",
       "   -0.2130    0.1943   -0.0729   -0.2028    0.2945\r\n",
       "    0.0286   -0.1102   -0.0862    0.2146   -0.0468\r\n",
       "\r\n",
       "\r\n",
       "ans =\r\n",
       "\r\n",
       "   1.0e-15 *\r\n",
       "\r\n",
       "   -0.0222\r\n",
       "   -0.0555\r\n",
       "    0.0222\r\n",
       "    0.1110\r\n",
       "    0.1110\r\n",
       "\r\n"
      ]
     },
     "metadata": {},
     "output_type": "display_data"
    }
   ],
   "source": [
    "%%matlab\n",
    "C = bsxfun(@minus, A, mean(A,2))\n",
    "mean(C,2)"
   ]
  },
  {
   "cell_type": "markdown",
   "metadata": {},
   "source": [
    "> The @ symbol creates a function handle, which is described in more detail in Section 10.1. Each MATLAB operator has a function name associated with it.  \n",
    "You must add @ to the name to create a function handle, which can then be passed to bsxfun. Here is a list of the most common entry-wise functions to use with bsxfun (see doc bsxfun for a complete list):"
   ]
  },
  {
   "cell_type": "markdown",
   "metadata": {},
   "source": [
    "```\n",
    "@plus     +         @minus     -\n",
    "@times    .*        @power     .^\n",
    "@rdivide  ./        @ldivide   .\\\n",
    "@lt       <         @gt        >\n",
    "@le       <=        @ge        >=\n",
    "@eq       ==        @ne        ~=\n",
    "@max      maximum   @min       minimum\n",
    "```"
   ]
  },
  {
   "cell_type": "code",
   "execution_count": 46,
   "metadata": {
    "collapsed": false
   },
   "outputs": [
    {
     "data": {
      "text/plain": [
       "\r\n",
       "C =\r\n",
       "\r\n",
       "    0.0054    0.6991    0.1295    0.4390    0.1821\r\n",
       "    0.5033         0    0.1404    0.4162         0\r\n",
       "         0    0.8483         0    0.2657    0.5883\r\n",
       "    0.1850    0.6946    0.2022         0    0.5252\r\n",
       "    0.4421    0.4057    0.2044    0.4330    0.1994\r\n",
       "\r\n",
       "\r\n",
       "ans =\r\n",
       "\r\n",
       "     0     0     0     0     0\r\n",
       "\r\n"
      ]
     },
     "metadata": {},
     "output_type": "display_data"
    }
   ],
   "source": [
    "%%matlab\n",
    "C = bsxfun(@minus, A, min(A))\n",
    "min(C)"
   ]
  },
  {
   "cell_type": "code",
   "execution_count": 47,
   "metadata": {
    "collapsed": false
   },
   "outputs": [
    {
     "data": {
      "text/plain": [
       "\r\n",
       "d =\r\n",
       "\r\n",
       "    0.8176\r\n",
       "    0.7948\r\n",
       "    0.9390\r\n",
       "    0.8759\r\n",
       "    0.8116\r\n",
       "\r\n",
       "\r\n",
       "C =\r\n",
       "\r\n",
       "    0.2311    0.9543    0.5331    1.0000    0.6517\r\n",
       "    0.8641    0.1021    0.5621    1.0000    0.4413\r\n",
       "    0.1954    0.9898    0.3263    0.6862    1.0000\r\n",
       "    0.4207    0.8856    0.5805    0.4322    1.0000\r\n",
       "    0.7709    0.5998    0.6294    1.0000    0.6779\r\n",
       "\r\n",
       "\r\n",
       "C =\r\n",
       "\r\n",
       "    0.2311    0.9543    0.5331    1.0000    0.6517\r\n",
       "    0.8641    0.1021    0.5621    1.0000    0.4413\r\n",
       "    0.1954    0.9898    0.3263    0.6862    1.0000\r\n",
       "    0.4207    0.8856    0.5805    0.4322    1.0000\r\n",
       "    0.7709    0.5998    0.6294    1.0000    0.6779\r\n",
       "\r\n",
       "\r\n",
       "n =\r\n",
       "\r\n",
       "     5\r\n",
       "\r\n",
       "\r\n",
       "C =\r\n",
       "\r\n",
       "    0.2311    0.9543    0.5331    1.0000    0.6517\r\n",
       "    0.8641    0.1021    0.5621    1.0000    0.4413\r\n",
       "    0.1954    0.9898    0.3263    0.6862    1.0000\r\n",
       "    0.4207    0.8856    0.5805    0.4322    1.0000\r\n",
       "    0.7709    0.5998    0.6294    1.0000    0.6779\r\n",
       "\r\n"
      ]
     },
     "metadata": {},
     "output_type": "display_data"
    }
   ],
   "source": [
    "%%matlab\n",
    "d = max(abs(A), [], 2)\n",
    "C = bsxfun(@ldivide, d, A)\n",
    "C = diag(d) \\ A\n",
    "n = size(A,1)\n",
    "C = spdiags(d,0,n,n) \\ A"
   ]
  },
  {
   "cell_type": "code",
   "execution_count": null,
   "metadata": {
    "collapsed": true
   },
   "outputs": [],
   "source": []
  }
 ],
 "metadata": {
  "anaconda-cloud": {},
  "kernelspec": {
   "display_name": "Python [default]",
   "language": "python",
   "name": "python3"
  },
  "language_info": {
   "codemirror_mode": {
    "name": "ipython",
    "version": 3
   },
   "file_extension": ".py",
   "mimetype": "text/x-python",
   "name": "python",
   "nbconvert_exporter": "python",
   "pygments_lexer": "ipython3",
   "version": "3.5.2"
  }
 },
 "nbformat": 4,
 "nbformat_minor": 1
}
