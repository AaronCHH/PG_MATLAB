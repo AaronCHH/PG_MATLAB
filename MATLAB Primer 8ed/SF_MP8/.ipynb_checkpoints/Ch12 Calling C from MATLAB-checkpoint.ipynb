{
 "cells": [
  {
   "cell_type": "markdown",
   "metadata": {},
   "source": [
    "# 12 Calling C from MATLAB"
   ]
  },
  {
   "cell_type": "code",
   "execution_count": 1,
   "metadata": {
    "collapsed": false
   },
   "outputs": [
    {
     "name": "stderr",
     "output_type": "stream",
     "text": [
      "C:\\Anaconda3\\lib\\site-packages\\IPython\\nbformat.py:13: ShimWarning: The `IPython.nbformat` package has been deprecated. You should import from nbformat instead.\n",
      "  \"You should import from nbformat instead.\", ShimWarning)\n"
     ]
    },
    {
     "name": "stdout",
     "output_type": "stream",
     "text": [
      "Starting MATLAB on ZMQ socket tcp://127.0.0.1:4560\n",
      "Send 'exit' command to kill the server\n",
      "......MATLAB started and connected!\n"
     ]
    }
   ],
   "source": [
    "%load_ext pymatbridge"
   ]
  },
  {
   "cell_type": "markdown",
   "metadata": {},
   "source": [
    "## 12.1 A simple example"
   ]
  },
  {
   "cell_type": "code",
   "execution_count": 3,
   "metadata": {
    "collapsed": false,
    "scrolled": true
   },
   "outputs": [
    {
     "data": {
      "text/plain": [
       "Building with 'Microsoft Visual C++ 2010 (C)'.\r\n",
       "MEX completed successfully.\r\n",
       "hello world\r\n",
       "Howdy!\r\n"
      ]
     },
     "metadata": {},
     "output_type": "display_data"
    }
   ],
   "source": [
    "%%matlab\n",
    "mex hello.c\n",
    "hello"
   ]
  },
  {
   "cell_type": "code",
   "execution_count": null,
   "metadata": {
    "collapsed": false
   },
   "outputs": [],
   "source": [
    "%%matlab\n",
    "[a,b] = hello('there')"
   ]
  },
  {
   "cell_type": "markdown",
   "metadata": {},
   "source": [
    "## 12.2 C versus MATLAB arrays"
   ]
  },
  {
   "cell_type": "markdown",
   "metadata": {},
   "source": [
    "## 12.3 A matrix computation in C"
   ]
  },
  {
   "cell_type": "code",
   "execution_count": null,
   "metadata": {
    "collapsed": false,
    "scrolled": false
   },
   "outputs": [],
   "source": [
    "%%matlab\n",
    "mex diagdom.c diagom_mex.c\n",
    "A = rand(6) ;\n",
    "B = ddom(A) ;\n",
    "C = diagdom(A) ;"
   ]
  },
  {
   "cell_type": "markdown",
   "metadata": {},
   "source": [
    "## 12.4 MATLAB mx and mex routines"
   ]
  },
  {
   "cell_type": "markdown",
   "metadata": {},
   "source": [
    "```\n",
    "mxIsEmpty               1 if the matrix is empty, 0 otherwise\n",
    "mxIsSparse              1 if the matrix is sparse, 0 otherwise\n",
    "mxGetN                  number of columns of a matrix\n",
    "mxGetM                  number of rows of a matrix\n",
    "mxGetPr                 pointer to the real values of a matrix\n",
    "mxGetScalar             the value of a scalar\n",
    "mxCreateDoubleMatrix    create MATLAB matrix\n",
    "mxMalloc                like malloc in ANSI C\n",
    "mxFree                  like free in ANSI C\n",
    "```"
   ]
  },
  {
   "cell_type": "markdown",
   "metadata": {},
   "source": [
    "```\n",
    "mexPrintf      like printf in C\n",
    "mexErrMsgTxt   like MATLAB error statement\n",
    "mexFunction    the gateway routine from MATLAB\n",
    "```"
   ]
  },
  {
   "cell_type": "markdown",
   "metadata": {},
   "source": [
    "## 12.5 Online help for MEX routines"
   ]
  },
  {
   "cell_type": "markdown",
   "metadata": {},
   "source": [
    "```\n",
    "function [B,i] = diagdom(A,tol)\n",
    "%DIAGDOM: modify the matrix A.\n",
    "% [B,i] = diagdom(A,tol) returns a\n",
    "% diagonally dominant matrix B by\n",
    "% modifying the diagonal of A. i is a\n",
    "% list of modified diagonal entries.\n",
    "error('diagdom mexFunction not found');\n",
    "```"
   ]
  },
  {
   "cell_type": "markdown",
   "metadata": {},
   "source": [
    "## 12.6 Larger examples on the web"
   ]
  }
 ],
 "metadata": {
  "anaconda-cloud": {},
  "kernelspec": {
   "display_name": "Python [default]",
   "language": "python",
   "name": "python3"
  },
  "language_info": {
   "codemirror_mode": {
    "name": "ipython",
    "version": 3
   },
   "file_extension": ".py",
   "mimetype": "text/x-python",
   "name": "python",
   "nbconvert_exporter": "python",
   "pygments_lexer": "ipython3",
   "version": "3.5.2"
  }
 },
 "nbformat": 4,
 "nbformat_minor": 1
}
