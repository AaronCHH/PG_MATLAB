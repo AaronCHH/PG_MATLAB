{
 "cells": [
  {
   "cell_type": "markdown",
   "metadata": {},
   "source": [
    "# C Data Import and Export"
   ]
  },
  {
   "cell_type": "markdown",
   "metadata": {},
   "source": [
    "## C.1 File Name Construction"
   ]
  },
  {
   "cell_type": "markdown",
   "metadata": {},
   "source": [
    "* **fileparts** extracts the components of a filename and its path.  \n",
    "* **filesep** returns the file separator (’\\’ on Microsoft Windows, ’/’ on Linux or Mac).  \n",
    "* **fullfile** constructs the full filename (with its entire path) from a list offolders and a base filename.  \n"
   ]
  },
  {
   "cell_type": "markdown",
   "metadata": {},
   "source": [
    "## C.2 File Opening, Loading, and Saving"
   ]
  },
  {
   "cell_type": "markdown",
   "metadata": {},
   "source": [
    "* **load** loads variables from a MAT-file. [p. 10]  \n",
    "* **open** opens a file in the Editor, Workspace, or Figure Window.  \n",
    "* **save** saves variables to a MAT-file. [p. 10]  \n",
    "* **uigetdir** displays a dialog box for selecting a directory.  \n",
    "* **uigetfile** displays a dialog box for accessing files.  \n",
    "* **uiputfile** displays a dialog box for saving files.  "
   ]
  },
  {
   "cell_type": "markdown",
   "metadata": {},
   "source": [
    "## C.3 Low-Level File I/O"
   ]
  },
  {
   "cell_type": "markdown",
   "metadata": {},
   "source": [
    "* **fclose** closes a file opened by fopen. [p. 162]  \n",
    "* **feof** tests if the end-of-file has been reached.  \n",
    "* **fgetl** reads a line from a text file, discarding newline characters.  \n",
    "* **fgets** reads a line from a text file, keeping newline characters.  \n",
    "* **fopen** opens a file. f=fopen(’foo’,’w’) opens the file ’foo’ for writing, creating it if necessary. f=fopen(’foo’,’r’) opens the file ’foo’ for reading. [p. 162]  \n",
    "* **fprintf** displays numbers and strings (or prints them to a file) with tight control over how they are displayed. Try fprintf(’%10.1e\\n’,eps) . [p. 160]  \n",
    "* **fread** reads data from a binary file. With the file from the fwrite example below, try f=fopen(’a.bin’,’r’); C=fread(f,’double’); , and compare with A(:) .  \n",
    "* **fscanf** reads formatted data from a text file, with a format string similar to the one used by fprintf.  \n",
    "* **fseek** moves to a specified position in a file, where the next fread or fwrite will take place.  \n",
    "* **ftell** returns the current position in a file, as the number of bytes from the beginning of the file.  \n",
    "* **fwrite** writes binary data from a file. Try A=rand(4); f=fopen(’a.bin’,’w’); fwrite(f,A,’double’); fclose(f) . Then try the fread example above.  \n"
   ]
  },
  {
   "cell_type": "markdown",
   "metadata": {},
   "source": [
    "## C.4 Text Files"
   ]
  },
  {
   "cell_type": "markdown",
   "metadata": {},
   "source": [
    "* **textscan** reads formatted data from a text file or string.  \n",
    "* **type** displays the contents of a file. Try type factorial. [p. 8]  "
   ]
  },
  {
   "cell_type": "markdown",
   "metadata": {},
   "source": [
    "## C.5 Audio and Video"
   ]
  },
  {
   "cell_type": "markdown",
   "metadata": {},
   "source": [
    "* **wavread** reads an audio signal from a .wav file.  \n",
    "* **sound** plays audio from a signal. Try load handel; sound(y,Fs) .  "
   ]
  },
  {
   "cell_type": "markdown",
   "metadata": {},
   "source": [
    "## C.6 Images"
   ]
  },
  {
   "cell_type": "markdown",
   "metadata": {},
   "source": [
    "* **imread** reads an image from a graphics file. Supported formats include TIFF, JPEG, GIF, PNG, BMP, ICO, and may others. Image processing typically uses uint8, uint16, and other compact integer data types. Use image to display an image.\n",
    "* **imwrite** writes an image to a graphics file.\n",
    "  "
   ]
  },
  {
   "cell_type": "code",
   "execution_count": null,
   "metadata": {
    "collapsed": true
   },
   "outputs": [],
   "source": []
  }
 ],
 "metadata": {
  "kernelspec": {
   "display_name": "Python [default]",
   "language": "python",
   "name": "python3"
  },
  "language_info": {
   "codemirror_mode": {
    "name": "ipython",
    "version": 3
   },
   "file_extension": ".py",
   "mimetype": "text/x-python",
   "name": "python",
   "nbconvert_exporter": "python",
   "pygments_lexer": "ipython3",
   "version": "3.5.2"
  }
 },
 "nbformat": 4,
 "nbformat_minor": 1
}
