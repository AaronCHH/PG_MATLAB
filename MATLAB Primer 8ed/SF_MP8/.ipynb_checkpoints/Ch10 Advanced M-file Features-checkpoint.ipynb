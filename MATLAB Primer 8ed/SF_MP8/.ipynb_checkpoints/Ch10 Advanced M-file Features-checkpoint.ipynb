{
 "cells": [
  {
   "cell_type": "markdown",
   "metadata": {},
   "source": [
    "# 10 Advanced M-file Features"
   ]
  },
  {
   "cell_type": "code",
   "execution_count": 1,
   "metadata": {
    "collapsed": false,
    "scrolled": true
   },
   "outputs": [
    {
     "name": "stderr",
     "output_type": "stream",
     "text": [
      "C:\\Anaconda3\\lib\\site-packages\\IPython\\nbformat.py:13: ShimWarning: The `IPython.nbformat` package has been deprecated. You should import from nbformat instead.\n",
      "  \"You should import from nbformat instead.\", ShimWarning)\n"
     ]
    },
    {
     "name": "stdout",
     "output_type": "stream",
     "text": [
      "Starting MATLAB on ZMQ socket tcp://127.0.0.1:4165\n",
      "Send 'exit' command to kill the server\n",
      "......MATLAB started and connected!\n"
     ]
    }
   ],
   "source": [
    "%load_ext pymatbridge"
   ]
  },
  {
   "cell_type": "markdown",
   "metadata": {},
   "source": [
    "## 10.1 Function handles and anonymous functions"
   ]
  },
  {
   "cell_type": "code",
   "execution_count": 2,
   "metadata": {
    "collapsed": false
   },
   "outputs": [
    {
     "data": {
      "text/plain": [
       "\r\n",
       "f = \r\n",
       "\r\n",
       "    @sqrt\r\n",
       "\r\n",
       "\r\n",
       "ans =\r\n",
       "\r\n",
       "    1.4142\r\n",
       "\r\n",
       "\r\n",
       "ans =\r\n",
       "\r\n",
       "    1.4142\r\n",
       "\r\n"
      ]
     },
     "metadata": {},
     "output_type": "display_data"
    }
   ],
   "source": [
    "%%matlab\n",
    "f = @sqrt\n",
    "f(2)\n",
    "sqrt(2)"
   ]
  },
  {
   "cell_type": "code",
   "execution_count": 3,
   "metadata": {
    "collapsed": false
   },
   "outputs": [
    {
     "data": {
      "text/plain": [
       "\r\n",
       "f = \r\n",
       "\r\n",
       "    @sqrt\r\n",
       "\r\n",
       "\r\n",
       "ans =\r\n",
       "\r\n",
       "    1.4142\r\n",
       "\r\n"
      ]
     },
     "metadata": {},
     "output_type": "display_data"
    }
   ],
   "source": [
    "%%matlab\n",
    "f = str2func('sqrt')\n",
    "f(2)"
   ]
  },
  {
   "cell_type": "code",
   "execution_count": 4,
   "metadata": {
    "collapsed": false
   },
   "outputs": [
    {
     "data": {
      "text/plain": [
       "\r\n",
       "g = \r\n",
       "\r\n",
       "    @(x)x^2-5*x+6-sin(9*x)\r\n",
       "\r\n",
       "\r\n",
       "ans =\r\n",
       "\r\n",
       "    1.5879\r\n",
       "\r\n"
      ]
     },
     "metadata": {},
     "output_type": "display_data"
    }
   ],
   "source": [
    "%%matlab\n",
    "g = @(x) x^2-5*x+6-sin(9*x)\n",
    "g(1)"
   ]
  },
  {
   "cell_type": "code",
   "execution_count": 5,
   "metadata": {
    "collapsed": false
   },
   "outputs": [
    {
     "data": {
      "text/plain": [
       "\r\n",
       "g = \r\n",
       "\r\n",
       "    @(x)x.^2-5*x+6-sin(9*x)\r\n",
       "\r\n",
       "\r\n",
       "ans =\r\n",
       "\r\n",
       "    6.0000    1.5879\r\n",
       "\r\n"
      ]
     },
     "metadata": {},
     "output_type": "display_data"
    }
   ],
   "source": [
    "%%matlab\n",
    "g = @(x) x.^2-5*x+6-sin(9*x)\n",
    "g([0 1])"
   ]
  },
  {
   "cell_type": "markdown",
   "metadata": {},
   "source": [
    "- The general syntax for an anonymous function is\n",
    "```        \n",
    "handle = @(arg1, arg2, ...) expression\n",
    "```"
   ]
  },
  {
   "cell_type": "code",
   "execution_count": 6,
   "metadata": {
    "collapsed": false
   },
   "outputs": [
    {
     "data": {
      "text/plain": [
       "\r\n",
       "norm2 = \r\n",
       "\r\n",
       "    @(x,y)sqrt(x^2+y^2)\r\n",
       "\r\n",
       "\r\n",
       "ans =\r\n",
       "\r\n",
       "    6.4031\r\n",
       "\r\n",
       "\r\n",
       "ans =\r\n",
       "\r\n",
       "    6.4031\r\n",
       "\r\n"
      ]
     },
     "metadata": {},
     "output_type": "display_data"
    }
   ],
   "source": [
    "%%matlab\n",
    "norm2 = @(x,y) sqrt(x^2 + y^2)\n",
    "norm2(4, 5)\n",
    "norm([4 5])"
   ]
  },
  {
   "cell_type": "code",
   "execution_count": 7,
   "metadata": {
    "collapsed": false,
    "scrolled": true
   },
   "outputs": [
    {
     "data": {
      "text/plain": [
       "\r\n",
       "A =\r\n",
       "\r\n",
       "     3     2\r\n",
       "     1     3\r\n",
       "\r\n",
       "\r\n",
       "b =\r\n",
       "\r\n",
       "     3\r\n",
       "     4\r\n",
       "\r\n",
       "\r\n",
       "y =\r\n",
       "\r\n",
       "    0.1429\r\n",
       "    1.2857\r\n",
       "\r\n",
       "\r\n",
       "resid = \r\n",
       "\r\n",
       "    @(x)A*x-b\r\n",
       "\r\n",
       "\r\n",
       "ans =\r\n",
       "\r\n",
       "   1.0e-15 *\r\n",
       "\r\n",
       "         0\r\n",
       "   -0.4441\r\n",
       "\r\n",
       "\r\n",
       "ans =\r\n",
       "\r\n",
       "   1.0e-15 *\r\n",
       "\r\n",
       "         0\r\n",
       "   -0.4441\r\n",
       "\r\n"
      ]
     },
     "metadata": {},
     "output_type": "display_data"
    }
   ],
   "source": [
    "%%matlab\n",
    "A = [3 2 ; 1 3]\n",
    "b = [3 ; 4]\n",
    "y = A\\b\n",
    "resid = @(x) A*x-b\n",
    "resid(y)\n",
    "A*y-b"
   ]
  },
  {
   "cell_type": "code",
   "execution_count": 8,
   "metadata": {
    "collapsed": false
   },
   "outputs": [
    {
     "data": {
      "text/plain": [
       "\r\n",
       "ans =\r\n",
       "\r\n",
       "sqrt\r\n",
       "\r\n",
       "\r\n",
       "ans =\r\n",
       "\r\n",
       "@(x)x.^2-5*x+6-sin(9*x)\r\n",
       "\r\n",
       "\r\n",
       "ans =\r\n",
       "\r\n",
       "@(x,y)sqrt(x^2+y^2)\r\n",
       "\r\n",
       "\r\n",
       "ans =\r\n",
       "\r\n",
       "@(x)A*x-b\r\n",
       "\r\n",
       "\r\n",
       "ans = \r\n",
       "\r\n",
       "    function: 'sqrt'\r\n",
       "        type: 'simple'\r\n",
       "        file: ''\r\n",
       "\r\n"
      ]
     },
     "metadata": {},
     "output_type": "display_data"
    }
   ],
   "source": [
    "%%matlab\n",
    "func2str(f)\n",
    "func2str(g)\n",
    "func2str(norm2)\n",
    "func2str(resid)\n",
    "functions(f)"
   ]
  },
  {
   "cell_type": "code",
   "execution_count": 9,
   "metadata": {
    "collapsed": false
   },
   "outputs": [
    {
     "data": {
      "text/plain": [
       "\r\n",
       "h = \r\n",
       "\r\n",
       "    @sqrt\r\n",
       "\r\n",
       "\r\n",
       "h = \r\n",
       "\r\n",
       "    @sqrt    @(x)x.^2-5*x+6-sin(9*x)\r\n",
       "\r\n",
       "\r\n",
       "ans =\r\n",
       "\r\n",
       "    1.4142\r\n",
       "\r\n",
       "\r\n",
       "ans =\r\n",
       "\r\n",
       "    1.4142\r\n",
       "\r\n",
       "\r\n",
       "ans =\r\n",
       "\r\n",
       "    1.5879\r\n",
       "\r\n",
       "\r\n",
       "ans =\r\n",
       "\r\n",
       "    1.5879\r\n",
       "\r\n"
      ]
     },
     "metadata": {},
     "output_type": "display_data"
    }
   ],
   "source": [
    "%%matlab\n",
    "h{1} = f\n",
    "h{2} = g\n",
    "h{1}(2)\n",
    "f(2)\n",
    "h{2}(1)\n",
    "g(1)"
   ]
  },
  {
   "cell_type": "code",
   "execution_count": 10,
   "metadata": {
    "collapsed": false
   },
   "outputs": [
    {
     "data": {
      "text/plain": [
       "\r\n",
       "ans =\r\n",
       "\r\n",
       "    3.1416\r\n",
       "\r\n",
       "\r\n",
       "ans =\r\n",
       "\r\n",
       "    3.1416\r\n",
       "\r\n",
       "\r\n",
       "ans =\r\n",
       "\r\n",
       "    1.4929\r\n",
       "\r\n",
       "\r\n",
       "ans =\r\n",
       "\r\n",
       "  -1.1102e-16\r\n",
       "\r\n"
      ]
     },
     "metadata": {},
     "output_type": "display_data"
    }
   ],
   "source": [
    "%%matlab\n",
    "bisect(@sin, [3 4])\n",
    "bisect('sin', [3 4])\n",
    "bisect(g, [0 3])\n",
    "g(ans)"
   ]
  },
  {
   "cell_type": "markdown",
   "metadata": {},
   "source": [
    "## 10.2 Name resolution"
   ]
  },
  {
   "cell_type": "code",
   "execution_count": 11,
   "metadata": {
    "collapsed": false
   },
   "outputs": [
    {
     "data": {
      "text/plain": [
       "built-in (C:\\Program Files\\MATLAB\\R2015b\\toolbox\\matlab\\elmat\\i)\r\n",
       "\r\n",
       "i =\r\n",
       "\r\n",
       "     3\r\n",
       "\r\n",
       "i is a variable.\r\n",
       "i is a variable.\r\n",
       "built-in (C:\\Program Files\\MATLAB\\R2015b\\toolbox\\matlab\\elmat\\i)  % Shadowed\r\n"
      ]
     },
     "metadata": {},
     "output_type": "display_data"
    }
   ],
   "source": [
    "%%matlab\n",
    "clear\n",
    "which i\n",
    "i = 3\n",
    "which i\n",
    "which i -all"
   ]
  },
  {
   "cell_type": "markdown",
   "metadata": {},
   "source": [
    "## 10.3 Error and warning messages"
   ]
  },
  {
   "cell_type": "code",
   "execution_count": null,
   "metadata": {
    "collapsed": false
   },
   "outputs": [],
   "source": [
    "%%matlab\n",
    "A = rand(4,3)\n",
    "[m n] = size(A) ;\n",
    "if m ~= n\n",
    "    error('A must be square') ;\n",
    "end"
   ]
  },
  {
   "cell_type": "markdown",
   "metadata": {},
   "source": [
    "```\n",
    "warning('A singular; computing anyway')\n",
    "```"
   ]
  },
  {
   "cell_type": "markdown",
   "metadata": {},
   "source": [
    "## 10.4 User input"
   ]
  },
  {
   "cell_type": "code",
   "execution_count": null,
   "metadata": {
    "collapsed": true
   },
   "outputs": [],
   "source": [
    "iter = input('iteration count: ') ;"
   ]
  },
  {
   "cell_type": "code",
   "execution_count": null,
   "metadata": {
    "collapsed": true
   },
   "outputs": [],
   "source": [
    "disp('Hit enter to continue: ') ;\n",
    "pause"
   ]
  },
  {
   "cell_type": "markdown",
   "metadata": {},
   "source": [
    "## 10.5 Performance measures"
   ]
  },
  {
   "cell_type": "markdown",
   "metadata": {},
   "source": [
    "```\n",
    "tic ; statement ; t = toc\n",
    "```"
   ]
  },
  {
   "cell_type": "code",
   "execution_count": 13,
   "metadata": {
    "collapsed": false
   },
   "outputs": [
    {
     "data": {
      "text/plain": [
       "\r\n",
       "t =\r\n",
       "\r\n",
       "    0.1389\r\n",
       "\r\n",
       "\r\n",
       "r =\r\n",
       "\r\n",
       "   6.6297e-12\r\n",
       "\r\n",
       "\r\n",
       "ans =\r\n",
       "\r\n",
       "   4.7996e+09\r\n",
       "\r\n"
      ]
     },
     "metadata": {},
     "output_type": "display_data"
    }
   ],
   "source": [
    "%%matlab\n",
    "n = 1000 ;\n",
    "A = rand(n) ;\n",
    "b = rand(n,1) ;\n",
    "tic ; x = A\\b ; t = toc\n",
    "r = norm(A*x-b)\n",
    "(2/3) *n^3 / t"
   ]
  },
  {
   "cell_type": "code",
   "execution_count": 14,
   "metadata": {
    "collapsed": false
   },
   "outputs": [
    {
     "data": {
      "text/plain": [
       "Elapsed time is 0.033155 seconds.\r\n",
       "Elapsed time is 0.018796 seconds.\r\n",
       "Elapsed time is 0.251161 seconds.\r\n",
       "Elapsed time is 0.271791 seconds.\r\n",
       "Elapsed time is 0.296172 seconds.\r\n"
      ]
     },
     "metadata": {},
     "output_type": "display_data"
    }
   ],
   "source": [
    "%%matlab\n",
    "m = 4000 ; n = 1000 ;\n",
    "A = rand (m,n) ;\n",
    "[v,beta,s] = gallery('house',A(:,1)) ;\n",
    "tic ; C = A - v*(beta*(v' *A)) ; toc\n",
    "tic ; C = A - beta*(v*(v' *A)) ; toc\n",
    "tic ; C = A - beta*v*v' *A ; toc\n",
    "tic ; C = A - beta*(v*v') *A ; toc\n",
    "tic ; H = eye(m)-beta*v*v' ; C=H*A ; toc"
   ]
  },
  {
   "cell_type": "code",
   "execution_count": 15,
   "metadata": {
    "collapsed": false
   },
   "outputs": [
    {
     "data": {
      "text/plain": [
       "\r\n",
       "s = \r\n",
       "\r\n",
       "14x1 struct array with fields:\r\n",
       "\r\n",
       "    name\r\n",
       "    size\r\n",
       "    bytes\r\n",
       "    class\r\n",
       "    global\r\n",
       "    sparse\r\n",
       "    complex\r\n",
       "    nesting\r\n",
       "    persistent\r\n",
       "\r\n",
       "\r\n",
       "space =\r\n",
       "\r\n",
       "   192048064\r\n",
       "\r\n"
      ]
     },
     "metadata": {},
     "output_type": "display_data"
    }
   ],
   "source": [
    "%%matlab\n",
    "s = whos\n",
    "space = sum([s.bytes])"
   ]
  },
  {
   "cell_type": "markdown",
   "metadata": {},
   "source": [
    "## 10.6 Efficient code"
   ]
  },
  {
   "cell_type": "code",
   "execution_count": 17,
   "metadata": {
    "collapsed": false,
    "scrolled": false
   },
   "outputs": [
    {
     "data": {
      "text/plain": [
       "Elapsed time is 0.100303 seconds.\r\n",
       "Elapsed time is 0.060182 seconds.\r\n"
      ]
     },
     "metadata": {},
     "output_type": "display_data"
    }
   ],
   "source": [
    "%%matlab\n",
    "A = rand(1000) ;\n",
    "tic ; B = ddom(A) ; toc\n",
    "tic ; B = ddomloops(A) ; toc"
   ]
  },
  {
   "cell_type": "code",
   "execution_count": null,
   "metadata": {
    "collapsed": true
   },
   "outputs": [],
   "source": [
    "# %load ddom.m\n",
    "function [B,i] = ddom(A, tol)\n",
    "% B = ddom(A,tol) returns a diagonally\n",
    "% dominant matrix B by modifying the\n",
    "% diagonal of A.\n",
    "\n",
    "[m n] = size(A) ;\n",
    "if m ~= n\n",
    "    error('A must be square') ;\n",
    "end\n",
    "\n",
    "if (nargin == 1)\n",
    "    tol = 100 * eps ;\n",
    "end\n",
    "\n",
    "d = diag(A) ;\n",
    "a = abs(d) ;\n",
    "f = sum(abs(A), 2) - a ;\n",
    "i = find(f >= a) ;\n",
    "[m n] = size(A) ;\n",
    "k = i + (i-1)*m ;\n",
    "% tol = 100 * eps ;\n",
    "s = 2 * (d(i) >= 0) - 1 ;\n",
    "A(k) = (1+tol) * s .* max(f(i), tol) ;\n",
    "\n",
    "B = A ;\n",
    "\n"
   ]
  },
  {
   "cell_type": "code",
   "execution_count": null,
   "metadata": {
    "collapsed": true
   },
   "outputs": [],
   "source": [
    "# %load ddomloops.m\n",
    "function B = ddomloops(A,tol)\n",
    "%DDOMLOOPS make matrix diagonally dominant\n",
    "% B = ddomloops(A) returns a diagonally\n",
    "% dominant matrix B by modifying the\n",
    "% diagonal of A.\n",
    "%\n",
    "% Example\n",
    "%     A = [1 0 ; 4 1]\n",
    "%     B = ddomloops(A)\n",
    "%     B is the same as A, except B(2,2)\n",
    "%     is slightly greater than 4.\n",
    "%\n",
    "% See also DDOM.\n",
    "\n",
    "% Copyright 2010, Me.\n",
    "\n",
    "[m, n] = size(A) ;\n",
    "if (m ~= n)\n",
    "    error ('A must be square') ;\n",
    "end\n",
    "if (nargin == 1)\n",
    "    tol = 100 * eps ;\n",
    "end\n",
    "for i = 1:n\n",
    "    d = A(i,i) ;\n",
    "    a = abs(d) ;\n",
    "    f = 0 ;\n",
    "    for j = 1:n\n",
    "        if (i ~= j)\n",
    "            f = f + abs(A(i,j)) ;\n",
    "        end\n",
    "    end\n",
    "    if (f >= a)\n",
    "        aii = (1 + tol) * max(f, tol) ;\n",
    "        if (d < 0)\n",
    "            aii = -aii ;\n",
    "        end\n",
    "        A(i,i) = aii ;\n",
    "    end\n",
    "end\n",
    "B = A ;\n",
    "\n"
   ]
  },
  {
   "cell_type": "code",
   "execution_count": null,
   "metadata": {
    "collapsed": true
   },
   "outputs": [],
   "source": []
  }
 ],
 "metadata": {
  "kernelspec": {
   "display_name": "Python [default]",
   "language": "python",
   "name": "python3"
  },
  "language_info": {
   "codemirror_mode": {
    "name": "ipython",
    "version": 3
   },
   "file_extension": ".py",
   "mimetype": "text/x-python",
   "name": "python",
   "nbconvert_exporter": "python",
   "pygments_lexer": "ipython3",
   "version": "3.5.2"
  }
 },
 "nbformat": 4,
 "nbformat_minor": 1
}
