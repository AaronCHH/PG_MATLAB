{
 "cells": [
  {
   "cell_type": "markdown",
   "metadata": {},
   "source": [
    "# 18 Sparse Matrix Computations"
   ]
  },
  {
   "cell_type": "code",
   "execution_count": 14,
   "metadata": {
    "collapsed": false
   },
   "outputs": [
    {
     "name": "stdout",
     "output_type": "stream",
     "text": [
      "The pymatbridge extension is already loaded. To reload it, use:\n",
      "  %reload_ext pymatbridge\n"
     ]
    }
   ],
   "source": [
    "%load_ext pymatbridge"
   ]
  },
  {
   "cell_type": "markdown",
   "metadata": {},
   "source": [
    "## 18.1 Storage modes"
   ]
  },
  {
   "cell_type": "code",
   "execution_count": 15,
   "metadata": {
    "collapsed": false
   },
   "outputs": [
    {
     "data": {
      "text/plain": [
       "\r\n",
       "F =\r\n",
       "\r\n",
       "     4     7     9     8     6     6\r\n",
       "     4     3     9     0     4     1\r\n",
       "     3     2     5     0     5     3\r\n",
       "     9     4     0     1     2     6\r\n",
       "     3     0     2     6     7     7\r\n",
       "     1     1     3     7     1     0\r\n",
       "\r\n",
       "\r\n",
       "F =\r\n",
       "\r\n",
       "     4     7     0     0     0     0\r\n",
       "     4     3     9     0     0     0\r\n",
       "     0     2     5     0     0     0\r\n",
       "     0     0     0     1     2     0\r\n",
       "     0     0     0     6     7     7\r\n",
       "     0     0     0     0     1     0\r\n",
       "\r\n"
      ]
     },
     "metadata": {},
     "output_type": "display_data"
    }
   ],
   "source": [
    "%%matlab\n",
    "F = randi([0 9], 6)\n",
    "F = triu(tril(F,1), -1)"
   ]
  },
  {
   "cell_type": "code",
   "execution_count": 16,
   "metadata": {
    "collapsed": false
   },
   "outputs": [
    {
     "data": {
      "text/plain": [
       "\r\n",
       "S =\r\n",
       "\r\n",
       "   (1,1)        4\r\n",
       "   (2,1)        4\r\n",
       "   (1,2)        7\r\n",
       "   (2,2)        3\r\n",
       "   (3,2)        2\r\n",
       "   (2,3)        9\r\n",
       "   (3,3)        5\r\n",
       "   (4,4)        1\r\n",
       "   (5,4)        6\r\n",
       "   (4,5)        2\r\n",
       "   (5,5)        7\r\n",
       "   (6,5)        1\r\n",
       "   (5,6)        7\r\n",
       "\r\n",
       "\r\n",
       "F =\r\n",
       "\r\n",
       "     4     7     0     0     0     0\r\n",
       "     4     3     9     0     0     0\r\n",
       "     0     2     5     0     0     0\r\n",
       "     0     0     0     1     2     0\r\n",
       "     0     0     0     6     7     7\r\n",
       "     0     0     0     0     1     0\r\n",
       "\r\n"
      ]
     },
     "metadata": {},
     "output_type": "display_data"
    }
   ],
   "source": [
    "%%matlab\n",
    "S = sparse(F)\n",
    "F = full(S)"
   ]
  },
  {
   "cell_type": "markdown",
   "metadata": {},
   "source": [
    "## 18.2 Generating sparse matrices"
   ]
  },
  {
   "cell_type": "code",
   "execution_count": 17,
   "metadata": {
    "collapsed": false
   },
   "outputs": [
    {
     "data": {
      "text/plain": [
       "\r\n",
       "T =\r\n",
       "\r\n",
       "   (1,1)       -2\r\n",
       "   (2,1)        1\r\n",
       "   (1,2)        1\r\n",
       "   (2,2)       -2\r\n",
       "   (3,2)        1\r\n",
       "   (2,3)        1\r\n",
       "   (3,3)       -2\r\n",
       "   (4,3)        1\r\n",
       "   (3,4)        1\r\n",
       "   (4,4)       -2\r\n",
       "   (5,4)        1\r\n",
       "   (4,5)        1\r\n",
       "   (5,5)       -2\r\n",
       "   (6,5)        1\r\n",
       "   (5,6)        1\r\n",
       "   (6,6)       -2\r\n",
       "\r\n"
      ]
     },
     "metadata": {},
     "output_type": "display_data"
    }
   ],
   "source": [
    "%%matlab\n",
    "m = 6 ;\n",
    "n = 6 ;\n",
    "e = ones(n,1) ;\n",
    "d = -2*e ;\n",
    "T = spdiags([e d e], [-1 0 1], m, n)"
   ]
  },
  {
   "cell_type": "code",
   "execution_count": 18,
   "metadata": {
    "collapsed": false
   },
   "outputs": [
    {
     "data": {
      "text/plain": [
       "\r\n",
       "S =\r\n",
       "\r\n",
       "   (1,1)        5\r\n",
       "   (4,1)        8\r\n",
       "   (2,2)        6\r\n",
       "   (4,2)        9\r\n",
       "   (3,3)        7\r\n",
       "   (4,3)       10\r\n",
       "\r\n",
       "\r\n",
       "ans =\r\n",
       "\r\n",
       "     5     0     0\r\n",
       "     0     6     0\r\n",
       "     0     0     7\r\n",
       "     8     9    10\r\n",
       "\r\n"
      ]
     },
     "metadata": {},
     "output_type": "display_data"
    }
   ],
   "source": [
    "%%matlab\n",
    "i = [1 2 3 4 4 4] ;\n",
    "j = [1 2 3 1 2 3] ;\n",
    "s = [5 6 7 8 9 10] ;\n",
    "S = sparse(i, j, s, 4, 3)\n",
    "full(S)"
   ]
  },
  {
   "cell_type": "code",
   "execution_count": 19,
   "metadata": {
    "collapsed": false
   },
   "outputs": [
    {
     "data": {
      "text/plain": [
       "\r\n",
       "S =\r\n",
       "\r\n",
       "   (1,1)        2\r\n",
       "   (2,2)        1\r\n",
       "   (3,3)        1\r\n",
       "\r\n",
       "\r\n",
       "ans =\r\n",
       "\r\n",
       "     2     0     0\r\n",
       "     0     1     0\r\n",
       "     0     0     1\r\n",
       "\r\n"
      ]
     },
     "metadata": {},
     "output_type": "display_data"
    }
   ],
   "source": [
    "%%matlab\n",
    "i = [1 2 3 1] ;\n",
    "j = [1 2 3 1] ;\n",
    "s = [1 1 1 1] ;\n",
    "S = sparse(i, j, s)\n",
    "full(S)"
   ]
  },
  {
   "cell_type": "code",
   "execution_count": 20,
   "metadata": {
    "collapsed": false
   },
   "outputs": [
    {
     "data": {
      "text/plain": [
       "\r\n",
       "E =\r\n",
       "\r\n",
       "   (2,1)        9\r\n",
       "   (3,2)        7\r\n",
       "   (4,3)        4\r\n",
       "   (5,4)        4\r\n",
       "   (6,5)        4\r\n",
       "\r\n"
      ]
     },
     "metadata": {},
     "output_type": "display_data"
    }
   ],
   "source": [
    "%%matlab\n",
    "n = 6 ;\n",
    "e = randi([0 9], n-1, 1) ;\n",
    "E = sparse(2:n, 1:n-1, e, n, n)"
   ]
  },
  {
   "cell_type": "code",
   "execution_count": 21,
   "metadata": {
    "collapsed": true
   },
   "outputs": [],
   "source": [
    "%%matlab\n",
    "A = sparse(m,n) ;\n",
    "for k = 1:length(s)\n",
    "    A(i(k),j(k)) = s(k) ;\n",
    "end"
   ]
  },
  {
   "cell_type": "markdown",
   "metadata": {},
   "source": [
    "## 18.3 Computation with sparse matrices"
   ]
  },
  {
   "cell_type": "markdown",
   "metadata": {},
   "source": [
    "```\n",
    "S+S   S*S     S.      *S      S.*F\n",
    "S-S   S/Z     S\\Z     -S\n",
    "S'    S.'     inv(S)  chol(S)\n",
    "lu(S) diag(S) max(S)  sum(S)\n",
    "S*n   S/n     S^n     S.^n\n",
    "n\\S\n",
    "```"
   ]
  },
  {
   "cell_type": "markdown",
   "metadata": {},
   "source": [
    "```\n",
    "S+F F\\S S/F S+n\n",
    "S*F S\\F F/S S-n\n",
    "```"
   ]
  },
  {
   "cell_type": "markdown",
   "metadata": {},
   "source": [
    "## 18.4 Permutation vectors and matrices"
   ]
  },
  {
   "cell_type": "markdown",
   "metadata": {},
   "source": [
    "```\n",
    "load west0479 ; A = west0479 ;\n",
    "[L,U,P,Q] = lu(A) ;\n",
    "[L,U,p,q] = lu(A, 'vector') ;\n",
    "```"
   ]
  },
  {
   "cell_type": "markdown",
   "metadata": {},
   "source": [
    "```\n",
    "[p j x] = find(P')    % converts P*A to A(p,:)\n",
    "[q j x] = find(Q)     % converts A*Q to A(:,q)\n",
    "P=sparse(1:m, p, 1)   % converts A(p,:) to P*A\n",
    "Q=sparse(q, 1:n, 1)   % converts A(:,q) to A*Q\n",
    "```               "
   ]
  },
  {
   "cell_type": "markdown",
   "metadata": {},
   "source": [
    "## 18.5 Visualizing matrices"
   ]
  },
  {
   "cell_type": "code",
   "execution_count": 22,
   "metadata": {
    "collapsed": false
   },
   "outputs": [
    {
     "data": {
      "text/plain": [
       "\r\n",
       "A =\r\n",
       "\r\n",
       "    -1     2     3    -4\r\n",
       "     0     2    -1     0\r\n",
       "     1     2     9     1\r\n",
       "    -3     4     1     1\r\n",
       "\r\n",
       "\r\n",
       "C =\r\n",
       "\r\n",
       "   -9.0000    2.0000    3.0000   -4.0000\r\n",
       "         0    2.0000   -1.0000         0\r\n",
       "    1.0000    2.0000    9.0000    1.0000\r\n",
       "   -3.0000    4.0000    1.0000    8.0000\r\n",
       "\r\n"
      ]
     },
     "metadata": {},
     "output_type": "display_data"
    },
    {
     "data": {
      "image/png": "[encoded data removed]"
     },
     "metadata": {},
     "output_type": "display_data"
    },
    {
     "data": {
      "image/png": "[encoded data removed]"
     },
     "metadata": {},
     "output_type": "display_data"
    }
   ],
   "source": [
    "%%matlab\n",
    "A = [ -1 2 3 -4\n",
    "      0 2 -1 0\n",
    "      1 2 9 1\n",
    "      -3 4 1 1]\n",
    "C = ddom(A)\n",
    "figure(1) ; spy(A ~= C)\n",
    "figure(2) ; spy(A > 2)"
   ]
  },
  {
   "cell_type": "code",
   "execution_count": null,
   "metadata": {
    "collapsed": true
   },
   "outputs": [],
   "source": []
  }
 ],
 "metadata": {
  "kernelspec": {
   "display_name": "Python [default]",
   "language": "python",
   "name": "python3"
  },
  "language_info": {
   "codemirror_mode": {
    "name": "ipython",
    "version": 3
   },
   "file_extension": ".py",
   "mimetype": "text/x-python",
   "name": "python",
   "nbconvert_exporter": "python",
   "pygments_lexer": "ipython3",
   "version": "3.5.2"
  }
 },
 "nbformat": 4,
 "nbformat_minor": 1
}
