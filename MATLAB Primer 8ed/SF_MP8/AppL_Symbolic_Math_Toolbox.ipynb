{
 "cells": [
  {
   "cell_type": "markdown",
   "metadata": {},
   "source": [
    "# L Symbolic Math Toolbox"
   ]
  },
  {
   "cell_type": "markdown",
   "metadata": {},
   "source": [
    "## L.1 Calculus"
   ]
  },
  {
   "cell_type": "markdown",
   "metadata": {},
   "source": [
    "* **diff** performs symbolic differentiation. Try syms x; diff(x^2) . [p. 127]\n",
    "* **int** performs symbolic indefinite or definite integration. Try syms x; int(x^2); and int(x,0,1) . [p. 129]\n",
    "* **limit** computes the limit of a symbolic expression. [p. 131]"
   ]
  },
  {
   "cell_type": "markdown",
   "metadata": {},
   "source": [
    "## L.2 Linear Algebra"
   ]
  },
  {
   "cell_type": "markdown",
   "metadata": {},
   "source": [
    "* **det** computes the determinant of a symbolic matrix. [p. 144]  \n",
    "* **diag** extracts the diagonal of a symbolic matrix, or creates a symbolic diagonal matrix. See p. 171.  \n",
    "* **eig** computes the eigenvalues and eigenvectors of a symbolic matrix, or finds the generalized eigenvalues/eigenvectors. [p. 143]  \n",
    "* **inv** computes the inverse of a symbolic matrix. Does not suffer the inaccuracy of inv(A) for a numerical matrix A. [p. 143]  \n",
    "* **null** computes a basis for the null space of a symbolic matrix.  \n",
    "* **poly** constructs a polynomial from a set of specified roots, or constructs the characteristic polynomial of a matrix. [p. 143]  \n",
    "* **rank** computes the rank of a symbolic matrix.  \n",
    "* **svd** computes the singular value decomposition of a symbolic matrix. [p. 143]  \n",
    "* **tril** extracts the lower triangular part of a symbolic matrix. See p. 173.  \n",
    "* **triu** extracts the upper triangular part of a symbolic matrix. See p. 173.  "
   ]
  },
  {
   "cell_type": "markdown",
   "metadata": {},
   "source": [
    "## L.3 Simplification"
   ]
  },
  {
   "cell_type": "markdown",
   "metadata": {},
   "source": [
    "* **factor** factors a symbolic expression into a product of subexpressions, or factors a numeric or symbolic nonnegative integer into its prime factors. [p. 135]  \n",
    "* **subs** substitutes one symbolic expression into another. subs(s,2) replaces the default variable (typically x) with the value 2. subs(s,y,z+1) replaces y with z+1 in the expression s. All occurrences are replaced. [p. 133]  "
   ]
  },
  {
   "cell_type": "markdown",
   "metadata": {},
   "source": [
    "## L.4 Special Functions"
   ]
  },
  {
   "cell_type": "markdown",
   "metadata": {},
   "source": [
    "* **zeta** computes the Riemann zeta function, (x), or its derivatives."
   ]
  },
  {
   "cell_type": "markdown",
   "metadata": {},
   "source": [
    "## L.5 Conversions"
   ]
  },
  {
   "cell_type": "markdown",
   "metadata": {},
   "source": [
    "* **double** converts a symbolic expression to a numeric one (in IEEE double precision). [p. 131]"
   ]
  },
  {
   "cell_type": "markdown",
   "metadata": {},
   "source": [
    "## L.6 Basic Operations"
   ]
  },
  {
   "cell_type": "markdown",
   "metadata": {},
   "source": [
    "* **ceil** rounds a symbolic expression towards +∞. See p. 178.\n",
    "* **conj** computes the complex conjugate of each entry in a symbolic array.\n",
    "* **eq** tests if two symbolic expressions are equal. eq(A,B) is (A==B) . See p. 195.\n",
    "* **fix** rounds a symbolic expression towards zero. See p. 178.\n",
    "* **floor** rounds a symbolic expression towards −∞.\n",
    "* **imag** returns the imaginary part of a symbolic expression.\n",
    "* **log10** computes the base-10 logarithm of a symbolic expression.\n",
    "* **log2** computes the base-2 logarithm of a symbolic expression.\n",
    "* **mod** computes the remainder after symbolic division. See p. 178.\n",
    "* **real** returns the real part of a symbolic expression. [p. 153]\n",
    "* **round** rounds a symbolic expression towards the nearest integer.\n",
    "* **size** returns the size of a symbolic array. See p. 171.\n",
    "* **sort** sorts entries in a symbolic array, as if they were text entries.\n",
    "* **sort([z 1 y x])** is [1, x, y, z] .\n",
    "* **sym** creates a symbolic number or variable. sym(A) where A is a numeric matrix constructs a symbolic representation of the matrix. A second argument controls how the numbers are converted ('f' for floating-point, 'r' for rational, and 'd' for decimal). sym('x') creates a symbolic variable. A second argument controls what kind of symbolic variable is created ('real' if x is real, 'positive' if x is real and positive, and 'clear' if there are no restrictions on x).\n",
    "* **syms** creates symbolic numbers and variables. syms x y is short\n",
    "* **for** x=sym('x'); y=sym('x') . [p. 126]"
   ]
  },
  {
   "cell_type": "code",
   "execution_count": null,
   "metadata": {
    "collapsed": true
   },
   "outputs": [],
   "source": []
  }
 ],
 "metadata": {
  "kernelspec": {
   "display_name": "Python [default]",
   "language": "python",
   "name": "python3"
  },
  "language_info": {
   "codemirror_mode": {
    "name": "ipython",
    "version": 3
   },
   "file_extension": ".py",
   "mimetype": "text/x-python",
   "name": "python",
   "nbconvert_exporter": "python",
   "pygments_lexer": "ipython3",
   "version": "3.5.2"
  }
 },
 "nbformat": 4,
 "nbformat_minor": 1
}
