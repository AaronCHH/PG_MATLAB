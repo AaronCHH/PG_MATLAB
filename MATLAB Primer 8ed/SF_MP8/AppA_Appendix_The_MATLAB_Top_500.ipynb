{
 "cells": [
  {
   "cell_type": "markdown",
   "metadata": {},
   "source": [
    "# A Appendix: The MATLAB Top 500"
   ]
  },
  {
   "cell_type": "markdown",
   "metadata": {},
   "source": [
    "* Open the online Help window, select Help:MATLAB ◮Functions and Help:Symbolic Math Toolbox ◮Functions, and you will see a lengthy index of all functions in MATLAB and the Symbolic Math Toolbox.  \n",
    "* Many of these functions are needed only in special cases, however, or for very specific kinds of applications.  \n",
    "* This Appendix gives you a more manageable index, with a description of the 500 most frequently used functions, operators, and special characters in MATLAB and the Symbolic Math Toolbox, in the same outline as the Help ◮Functions documentation.  \n",
    "* In this Appendix, a page reference in brackets refers to a discussion of the function in the main part of the book.  \n",
    "* Other page references refer to this Appendix.  \n"
   ]
  },
  {
   "cell_type": "code",
   "execution_count": null,
   "metadata": {
    "collapsed": true
   },
   "outputs": [],
   "source": []
  }
 ],
 "metadata": {
  "anaconda-cloud": {},
  "kernelspec": {
   "display_name": "Python [default]",
   "language": "python",
   "name": "python3"
  },
  "language_info": {
   "codemirror_mode": {
    "name": "ipython",
    "version": 3
   },
   "file_extension": ".py",
   "mimetype": "text/x-python",
   "name": "python",
   "nbconvert_exporter": "python",
   "pygments_lexer": "ipython3",
   "version": "3.5.2"
  }
 },
 "nbformat": 4,
 "nbformat_minor": 1
}
