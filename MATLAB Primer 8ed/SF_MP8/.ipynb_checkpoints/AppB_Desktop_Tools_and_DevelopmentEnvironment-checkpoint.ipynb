{
 "cells": [
  {
   "cell_type": "markdown",
   "metadata": {},
   "source": [
    "# B Desktop Tools and Development Environment"
   ]
  },
  {
   "cell_type": "markdown",
   "metadata": {},
   "source": [
    "## B.1 Command Window and History"
   ]
  },
  {
   "cell_type": "markdown",
   "metadata": {},
   "source": [
    "* **clc** clears the Command Window display, giving you an empty screen. [p. 6]  \n",
    "* **diary** logs Command Window output to a file. diary on starts the log; diary off stops it. Flush the diary by turning it off and then on again. diary(s) uses the filename given by the string s. Default filename is diary. [p. 5]  \n",
    "* **format** changes how numeric values are displayed in the Command Window. Try format long and format short. Has no effect on fprintf. [p. 6] \n",
    "* **system** executes a command in your operating system shell. Try system(’ls’) in UNIX. See also p. 191 for the ! character. [p. 103]"
   ]
  },
  {
   "cell_type": "markdown",
   "metadata": {},
   "source": [
    "## B.2 Help for Using MATLAB"
   ]
  },
  {
   "cell_type": "markdown",
   "metadata": {},
   "source": [
    "* **help** prints the help text for a function in the Command Window. Try help disp, or help function for any other function. [p. 42]  \n",
    "* **web** opens a web browser. Try web www.mathworks.com. Also useful for viewing HTML files created via cell publishing. [p. 164]  \n"
   ]
  },
  {
   "cell_type": "markdown",
   "metadata": {},
   "source": [
    "## B.3 Workspace"
   ]
  },
  {
   "cell_type": "markdown",
   "metadata": {},
   "source": [
    "* **clear** deletes variables from workspace. clear, by itself, clears all variables. clear x y clears just x and y. clear classes clears object class definitions. [p. 10]  \n",
    "* **delete** deletes a file or graphics object. [p. 8]  \n",
    "* **exist** determines if a variable, file, folder, or class exists. exist(’x’) returns a value from 0 to 8, depending on what x is. A second parameter (’file’ , ’var’ , ’class’ , ’builtin’ , or ’dir’ ) only looks for items of that type, and returns 1 if it exists, 0 otherwise. [p. 105]  \n",
    "* **which** determines which function or file a word refers to, or whether there is a variable with that name. Try i=3; which i -all. [p. 71]  \n",
    "* **whos** lists variables in the workspace. whos prints a list. s=whos returns a struct with information about each variable. [p. 9]  \n"
   ]
  },
  {
   "cell_type": "markdown",
   "metadata": {},
   "source": [
    "## B.4 Managing Files"
   ]
  },
  {
   "cell_type": "markdown",
   "metadata": {},
   "source": [
    "### B.4.1 Search Path"
   ]
  },
  {
   "cell_type": "markdown",
   "metadata": {},
   "source": [
    "* **addpath** adds folders to the search path. Try addpath(pwd) .  \n",
    "* **path** displays or changes the search path. [p. 43]  \n",
    "* **which** determines what function or file a name refers to. See p. 166.  \n"
   ]
  },
  {
   "cell_type": "markdown",
   "metadata": {},
   "source": [
    "### B.4.2 File Operations"
   ]
  },
  {
   "cell_type": "markdown",
   "metadata": {},
   "source": [
    "* **cd** changes the current folder (short for change directory). [p. 8]  \n",
    "* **copyfile** makes a copy of a file.   \n",
    "* **delete** deletes a file. [p. 8]  \n",
    "* **dir** lists the files and folders in a folder. **dir** by itself lists the current folder. dir(’F’) or dir F lists the folder F. [p. 8]  \n",
    "* **isdir** tests whether a string refers to a folder.  \n",
    "* **ls** lists the contents of the current folder.  \n",
    "* **matlabroot** lists the folder where MATLAB is installed.  \n",
    "* **mkdir** creates a folder.  \n",
    "* **pwd** returns the current folder as a string. [p. 8]  \n",
    "* **type** displays the contents of a file. Try type factorial. [p. 8]  \n"
   ]
  },
  {
   "cell_type": "markdown",
   "metadata": {},
   "source": [
    "## B.5 Programming Tools"
   ]
  },
  {
   "cell_type": "markdown",
   "metadata": {},
   "source": [
    "* **computer** returns information about your computer.  \n",
    "* **system** executes an operating system command. See p. 166.  \n",
    "* **ispc** tests if your computer is running Microsoft Windows.  \n",
    "* **ver** displays the version of MATLAB and all Toolboxes.  \n",
    "* **version** returns the MATLAB version number as a string.  "
   ]
  },
  {
   "cell_type": "code",
   "execution_count": null,
   "metadata": {
    "collapsed": true
   },
   "outputs": [],
   "source": []
  }
 ],
 "metadata": {
  "kernelspec": {
   "display_name": "Python [default]",
   "language": "python",
   "name": "python3"
  },
  "language_info": {
   "codemirror_mode": {
    "name": "ipython",
    "version": 3
   },
   "file_extension": ".py",
   "mimetype": "text/x-python",
   "name": "python",
   "nbconvert_exporter": "python",
   "pygments_lexer": "ipython3",
   "version": "3.5.2"
  }
 },
 "nbformat": 4,
 "nbformat_minor": 1
}
